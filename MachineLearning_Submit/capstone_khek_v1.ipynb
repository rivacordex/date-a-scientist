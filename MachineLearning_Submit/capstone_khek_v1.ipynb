{
 "cells": [
  {
   "cell_type": "code",
   "execution_count": 1,
   "metadata": {},
   "outputs": [],
   "source": [
    "import pandas as pd\n",
    "import numpy as np\n",
    "from matplotlib import pyplot as plt\n",
    "\n",
    "#Create your df here:\n",
    "df = pd.read_csv(\"profiles.csv\")"
   ]
  },
  {
   "cell_type": "code",
   "execution_count": 2,
   "metadata": {},
   "outputs": [
    {
     "name": "stdout",
     "output_type": "stream",
     "text": [
      "59946\n"
     ]
    }
   ],
   "source": [
    "print(len(df))"
   ]
  },
  {
   "cell_type": "code",
   "execution_count": 4,
   "metadata": {},
   "outputs": [],
   "source": [
    "df['edu_cat'] = df['education'].map({ \"graduated from college/university\": 2, \"graduated from masters program\": 3, \"working on college/university\": 1, \"working on masters program\": 3, \"graduated from two-year college\": 2, \"graduated from high school\": 2, \"graduated from ph.d program\": 7, \"graduated from law school\": 5, \"working on two-year college\": 1, \"dropped out of college/university\": 2, \"working on ph.d program\": 3, \"college/university\": 1, \"graduated from space camp\": 3, \"dropped out of space camp\": 1, \"graduated from med school\": 6, \"working on space camp\": 1, \"working on law school\": 1, \"two-year college\": 1, \"working on med school\": 1, \"dropped out of two-year college\": 1, \"dropped out of masters program\": 3, \"masters program\": 4, \"dropped out of ph.d program\": 3, \"dropped out of high school\": 1, \"high school\": 1, \"working on high school\": 1, \"space camp\": 1, \"ph.d program\": 3, \"law school\": 1, \"dropped out of law school\": 1, \"dropped out of med school\": 1, \"med school\": 1 })\n",
    "df['income_cat'] = df['income'].map({ -1: 1, 20000: 2, 30000: 2, 40000: 2, 50000: 3, 60000: 3, 70000: 3, 80000: 3, 100000: 3, 150000: 4, 250000: 4, 500000: 4, 1000000: 4 })\n",
    "df['job_cat'] = df['job'].map({ \"other\": 2, \"student\": 1, \"science / tech / engineering\": 3, \"computer / hardware / software\": 3, \"artistic / musical / writer\": 2, \"sales / marketing / biz dev\": 2, \"medicine / health\": 3, \"education / academia\": 2, \"executive / management\": 2, \"banking / financial / real estate\": 2, \"entertainment / media\": 2, \"law / legal services\": 2, \"hospitality / travel\": 2, \"construction / craftsmanship\": 2, \"clerical / administrative\": 2, \"political / government\": 2, \"rather not say\": 2, \"transportation\": 2, \"unemployed\": 1, \"retired\": 1, \"military\": 2 })\n",
    "                                                                                    \n",
    "rows_to_cluster = df.dropna(subset = [\"income\", \"age\",\"income_cat\",\"education\",\"edu_cat\",\"height\",\"job\",\"job_cat\"])"
   ]
  },
  {
   "cell_type": "code",
   "execution_count": 5,
   "metadata": {},
   "outputs": [
    {
     "data": {
      "text/plain": [
       "age            False\n",
       "body_type       True\n",
       "diet            True\n",
       "drinks          True\n",
       "drugs           True\n",
       "education       True\n",
       "essay0          True\n",
       "essay1          True\n",
       "essay2          True\n",
       "essay3          True\n",
       "essay4          True\n",
       "essay5          True\n",
       "essay6          True\n",
       "essay7          True\n",
       "essay8          True\n",
       "essay9          True\n",
       "ethnicity       True\n",
       "height          True\n",
       "income         False\n",
       "job             True\n",
       "last_online    False\n",
       "location       False\n",
       "offspring       True\n",
       "orientation    False\n",
       "pets            True\n",
       "religion        True\n",
       "sex            False\n",
       "sign            True\n",
       "smokes          True\n",
       "speaks          True\n",
       "status         False\n",
       "edu_cat         True\n",
       "income_cat     False\n",
       "job_cat         True\n",
       "dtype: bool"
      ]
     },
     "execution_count": 5,
     "metadata": {},
     "output_type": "execute_result"
    }
   ],
   "source": [
    "df.isna().any()"
   ]
  },
  {
   "cell_type": "code",
   "execution_count": 6,
   "metadata": {},
   "outputs": [
    {
     "data": {
      "text/plain": [
       "1    48442\n",
       "3     5150\n",
       "2     5005\n",
       "4     1349\n",
       "Name: income_cat, dtype: int64"
      ]
     },
     "execution_count": 6,
     "metadata": {},
     "output_type": "execute_result"
    }
   ],
   "source": [
    "df.income_cat.value_counts()"
   ]
  },
  {
   "cell_type": "code",
   "execution_count": 7,
   "metadata": {},
   "outputs": [
    {
     "data": {
      "text/plain": [
       "2.0    27913\n",
       "3.0    12577\n",
       "1.0     9852\n",
       "7.0     1272\n",
       "5.0     1122\n",
       "6.0      446\n",
       "4.0      136\n",
       "Name: edu_cat, dtype: int64"
      ]
     },
     "execution_count": 7,
     "metadata": {},
     "output_type": "execute_result"
    }
   ],
   "source": [
    "df.edu_cat.value_counts()"
   ]
  },
  {
   "cell_type": "code",
   "execution_count": 8,
   "metadata": {},
   "outputs": [
    {
     "name": "stdout",
     "output_type": "stream",
     "text": [
      "48175\n"
     ]
    }
   ],
   "source": [
    "print(len(rows_to_cluster))"
   ]
  },
  {
   "cell_type": "code",
   "execution_count": 9,
   "metadata": {},
   "outputs": [
    {
     "data": {
      "text/html": [
       "<div>\n",
       "<style scoped>\n",
       "    .dataframe tbody tr th:only-of-type {\n",
       "        vertical-align: middle;\n",
       "    }\n",
       "\n",
       "    .dataframe tbody tr th {\n",
       "        vertical-align: top;\n",
       "    }\n",
       "\n",
       "    .dataframe thead th {\n",
       "        text-align: right;\n",
       "    }\n",
       "</style>\n",
       "<table border=\"1\" class=\"dataframe\">\n",
       "  <thead>\n",
       "    <tr style=\"text-align: right;\">\n",
       "      <th></th>\n",
       "      <th>age</th>\n",
       "      <th>height</th>\n",
       "      <th>income</th>\n",
       "      <th>edu_cat</th>\n",
       "      <th>income_cat</th>\n",
       "      <th>job_cat</th>\n",
       "    </tr>\n",
       "  </thead>\n",
       "  <tbody>\n",
       "    <tr>\n",
       "      <th>age</th>\n",
       "      <td>1.000000</td>\n",
       "      <td>-0.022262</td>\n",
       "      <td>-0.001004</td>\n",
       "      <td>0.254415</td>\n",
       "      <td>0.056184</td>\n",
       "      <td>0.142330</td>\n",
       "    </tr>\n",
       "    <tr>\n",
       "      <th>height</th>\n",
       "      <td>-0.022262</td>\n",
       "      <td>1.000000</td>\n",
       "      <td>0.065049</td>\n",
       "      <td>-0.007099</td>\n",
       "      <td>0.111485</td>\n",
       "      <td>0.075568</td>\n",
       "    </tr>\n",
       "    <tr>\n",
       "      <th>income</th>\n",
       "      <td>-0.001004</td>\n",
       "      <td>0.065049</td>\n",
       "      <td>1.000000</td>\n",
       "      <td>-0.005209</td>\n",
       "      <td>0.605307</td>\n",
       "      <td>0.007438</td>\n",
       "    </tr>\n",
       "    <tr>\n",
       "      <th>edu_cat</th>\n",
       "      <td>0.254415</td>\n",
       "      <td>-0.007099</td>\n",
       "      <td>-0.005209</td>\n",
       "      <td>1.000000</td>\n",
       "      <td>-0.007000</td>\n",
       "      <td>0.227404</td>\n",
       "    </tr>\n",
       "    <tr>\n",
       "      <th>income_cat</th>\n",
       "      <td>0.056184</td>\n",
       "      <td>0.111485</td>\n",
       "      <td>0.605307</td>\n",
       "      <td>-0.007000</td>\n",
       "      <td>1.000000</td>\n",
       "      <td>0.050451</td>\n",
       "    </tr>\n",
       "    <tr>\n",
       "      <th>job_cat</th>\n",
       "      <td>0.142330</td>\n",
       "      <td>0.075568</td>\n",
       "      <td>0.007438</td>\n",
       "      <td>0.227404</td>\n",
       "      <td>0.050451</td>\n",
       "      <td>1.000000</td>\n",
       "    </tr>\n",
       "  </tbody>\n",
       "</table>\n",
       "</div>"
      ],
      "text/plain": [
       "                 age    height    income   edu_cat  income_cat   job_cat\n",
       "age         1.000000 -0.022262 -0.001004  0.254415    0.056184  0.142330\n",
       "height     -0.022262  1.000000  0.065049 -0.007099    0.111485  0.075568\n",
       "income     -0.001004  0.065049  1.000000 -0.005209    0.605307  0.007438\n",
       "edu_cat     0.254415 -0.007099 -0.005209  1.000000   -0.007000  0.227404\n",
       "income_cat  0.056184  0.111485  0.605307 -0.007000    1.000000  0.050451\n",
       "job_cat     0.142330  0.075568  0.007438  0.227404    0.050451  1.000000"
      ]
     },
     "execution_count": 9,
     "metadata": {},
     "output_type": "execute_result"
    }
   ],
   "source": [
    "df.corr()"
   ]
  },
  {
   "cell_type": "code",
   "execution_count": 10,
   "metadata": {},
   "outputs": [
    {
     "data": {
      "text/plain": [
       "-1          48442\n",
       " 20000       2952\n",
       " 100000      1621\n",
       " 80000       1111\n",
       " 30000       1048\n",
       " 40000       1005\n",
       " 50000        975\n",
       " 60000        736\n",
       " 70000        707\n",
       " 150000       631\n",
       " 1000000      521\n",
       " 250000       149\n",
       " 500000        48\n",
       "Name: income, dtype: int64"
      ]
     },
     "execution_count": 10,
     "metadata": {},
     "output_type": "execute_result"
    }
   ],
   "source": [
    "#all_data = df[['age', 'income']]\n",
    "df.income.value_counts()"
   ]
  },
  {
   "cell_type": "code",
   "execution_count": 11,
   "metadata": {},
   "outputs": [],
   "source": [
    "#from sklearn.preprocessing import MinMaxScaler\n",
    "\n",
    "#feature_data = df[['age', 'income_cat']]\n",
    "\n",
    "#x = feature_data.values\n",
    "#min_max_scaler = MinMaxScaler()\n",
    "#x_scaled = min_max_scaler.fit_transform(x)\n",
    "\n",
    "\n",
    "#features = pd.DataFrame(x_scaled, columns=feature_data.columns)\n",
    "features_selection = df[['age', 'edu_cat',\"income_cat\",\"job_cat\"]]\n",
    "\n",
    "features_sel_wna = features_selection.dropna(subset = [\"age\",\"edu_cat\",\"income_cat\",\"job_cat\"])\n",
    "features = features_sel_wna[['age', 'edu_cat','job_cat']]\n",
    "labels = features_sel_wna[[\"income_cat\"]]\n"
   ]
  },
  {
   "cell_type": "code",
   "execution_count": 12,
   "metadata": {},
   "outputs": [
    {
     "data": {
      "image/png": "[encoded data removed]",
      "text/plain": [
       "<Figure size 432x288 with 1 Axes>"
      ]
     },
     "metadata": {
      "needs_background": "light"
     },
     "output_type": "display_data"
    }
   ],
   "source": [
    "from matplotlib import pyplot as plt\n",
    "plt.hist(features_sel_wna.income_cat, bins=4)\n",
    "plt.xlabel(\"Income Category\")\n",
    "plt.ylabel(\"Frequency\")\n",
    "#plt.xlim(16, 80)\n",
    "plt.show()"
   ]
  },
  {
   "cell_type": "code",
   "execution_count": 13,
   "metadata": {},
   "outputs": [
    {
     "name": "stdout",
     "output_type": "stream",
     "text": [
      "48175\n"
     ]
    }
   ],
   "source": [
    "print(len(features))"
   ]
  },
  {
   "cell_type": "code",
   "execution_count": 14,
   "metadata": {},
   "outputs": [
    {
     "name": "stdout",
     "output_type": "stream",
     "text": [
      "48175\n"
     ]
    }
   ],
   "source": [
    "print(len(labels))"
   ]
  },
  {
   "cell_type": "code",
   "execution_count": 15,
   "metadata": {},
   "outputs": [
    {
     "data": {
      "text/plain": [
       "True"
      ]
     },
     "execution_count": 15,
     "metadata": {},
     "output_type": "execute_result"
    }
   ],
   "source": [
    "any(np.isnan(features))"
   ]
  },
  {
   "cell_type": "code",
   "execution_count": 41,
   "metadata": {},
   "outputs": [
    {
     "data": {
      "text/plain": [
       "True"
      ]
     },
     "execution_count": 41,
     "metadata": {},
     "output_type": "execute_result"
    }
   ],
   "source": [
    "all(np.isfinite(features))"
   ]
  },
  {
   "cell_type": "markdown",
   "metadata": {},
   "source": [
    "### KNeighborsClassifer "
   ]
  },
  {
   "cell_type": "code",
   "execution_count": 17,
   "metadata": {},
   "outputs": [],
   "source": [
    "from sklearn.model_selection import train_test_split\n",
    "\n",
    "X_train, X_test, y_train, y_test = train_test_split(features, labels, test_size = 0.2, random_state = 1)\n",
    "\n",
    "#print(X_train.head())\n",
    "#print(y_train.head().values.ravel())\n",
    "\n",
    "#print(type(y_train.head()))\n",
    "#print(type(y_train.head().values.ravel()))\n",
    "\n",
    "cols = ['age', 'edu_cat','job_cat']"
   ]
  },
  {
   "cell_type": "code",
   "execution_count": 18,
   "metadata": {},
   "outputs": [
    {
     "name": "stdout",
     "output_type": "stream",
     "text": [
      "0.7853658536585366\n"
     ]
    }
   ],
   "source": [
    "from sklearn.neighbors import KNeighborsClassifier\n",
    "classifier = KNeighborsClassifier(n_neighbors = 15)\n",
    "#classifier = KNeighborsClassifier(n_neighbors = 5)\n",
    "classifier.fit(X_train, y_train.values.ravel())\n",
    "print(classifier.score(X_test, y_test))\n"
   ]
  },
  {
   "cell_type": "code",
   "execution_count": 19,
   "metadata": {
    "scrolled": true
   },
   "outputs": [
    {
     "name": "stdout",
     "output_type": "stream",
     "text": [
      "<class 'pandas.core.frame.DataFrame'>\n"
     ]
    },
    {
     "data": {
      "text/plain": [
       "1    9598\n",
       "2      32\n",
       "3       5\n",
       "Name: kn_predict_label, dtype: int64"
      ]
     },
     "execution_count": 19,
     "metadata": {},
     "output_type": "execute_result"
    }
   ],
   "source": [
    "kn_predict = classifier.predict(X_test)\n",
    "#print(type(unknown_predict))\n",
    "\n",
    "kn_predict_df = pd.DataFrame({\n",
    "    'kn_predict_label': kn_predict\n",
    "})\n",
    "\n",
    "print(type(kn_predict_df))\n",
    "kn_predict_df.kn_predict_label.value_counts()\n"
   ]
  },
  {
   "cell_type": "code",
   "execution_count": 20,
   "metadata": {},
   "outputs": [
    {
     "data": {
      "text/plain": [
       "1    7581\n",
       "2     929\n",
       "3     887\n",
       "4     238\n",
       "Name: income_cat, dtype: int64"
      ]
     },
     "execution_count": 20,
     "metadata": {},
     "output_type": "execute_result"
    }
   ],
   "source": [
    "y_test.income_cat.value_counts()"
   ]
  },
  {
   "cell_type": "code",
   "execution_count": 39,
   "metadata": {},
   "outputs": [
    {
     "data": {
      "image/png": "[encoded data removed]",
      "text/plain": [
       "<Figure size 432x288 with 1 Axes>"
      ]
     },
     "metadata": {
      "needs_background": "light"
     },
     "output_type": "display_data"
    }
   ],
   "source": [
    "from matplotlib import pyplot as plt\n",
    "\n",
    "test_predict = classifier.predict(X_test)\n",
    "\n",
    "plt.hist( test_predict, bins=4)\n",
    "plt.xlabel(\"Income Category - Test - Predict - n_neighbors=15\")\n",
    "#plt.xlabel(\"Income Category - Test - Predict - n_neighbors=5\")\n",
    "plt.ylabel(\"Frequency\")\n",
    "plt.xlim(0, 5)\n",
    "plt.show()"
   ]
  },
  {
   "cell_type": "code",
   "execution_count": 22,
   "metadata": {},
   "outputs": [
    {
     "data": {
      "image/png": "[encoded data removed]",
      "text/plain": [
       "<Figure size 432x288 with 1 Axes>"
      ]
     },
     "metadata": {
      "needs_background": "light"
     },
     "output_type": "display_data"
    }
   ],
   "source": [
    "scores = []\n",
    "for k in range(1, 200):\n",
    "    classifier_n = KNeighborsClassifier(n_neighbors = k)\n",
    "    classifier_n.fit(X_train, y_train.values.ravel())\n",
    "    scores.append(classifier_n.score(X_test, y_test))\n",
    "    \n",
    "plt.plot(range(1,200), scores)\n",
    "plt.show()"
   ]
  },
  {
   "cell_type": "code",
   "execution_count": 23,
   "metadata": {},
   "outputs": [],
   "source": [
    "no_income = df[(df.job == 'student') | (df.job == 'retired') ]\n",
    "no_income_feat_select = no_income[['age', 'edu_cat',\"income_cat\",\"job_cat\"]]\n",
    "no_income_sel_wna = no_income_feat_select.dropna(subset = [\"age\",\"edu_cat\",\"income_cat\",\"job_cat\"])\n",
    "no_income_feat = no_income_sel_wna[['age', 'edu_cat',\"job_cat\"]]\n",
    "no_income_labels = no_income_sel_wna[[\"income_cat\"]]"
   ]
  },
  {
   "cell_type": "code",
   "execution_count": 24,
   "metadata": {},
   "outputs": [
    {
     "name": "stdout",
     "output_type": "stream",
     "text": [
      "0.7903487429034874\n"
     ]
    }
   ],
   "source": [
    "print(classifier.score(no_income_feat, no_income_labels.values.ravel()))"
   ]
  },
  {
   "cell_type": "code",
   "execution_count": 25,
   "metadata": {},
   "outputs": [
    {
     "name": "stdout",
     "output_type": "stream",
     "text": [
      "<class 'pandas.core.frame.DataFrame'>\n"
     ]
    },
    {
     "data": {
      "text/plain": [
       "1    4932\n",
       "Name: no_income_predict_label, dtype: int64"
      ]
     },
     "execution_count": 25,
     "metadata": {},
     "output_type": "execute_result"
    }
   ],
   "source": [
    "no_income_predict = classifier.predict(no_income_feat)\n",
    "#print(type(unknown_predict))\n",
    "\n",
    "no_income_predict_df = pd.DataFrame({\n",
    "    'no_income_predict_label': no_income_predict\n",
    "})\n",
    "\n",
    "print(type(no_income_predict_df))\n",
    "no_income_predict_df.no_income_predict_label.value_counts()"
   ]
  },
  {
   "cell_type": "code",
   "execution_count": 26,
   "metadata": {},
   "outputs": [
    {
     "data": {
      "text/plain": [
       "1    3898\n",
       "2     912\n",
       "4      77\n",
       "3      45\n",
       "Name: income_cat, dtype: int64"
      ]
     },
     "execution_count": 26,
     "metadata": {},
     "output_type": "execute_result"
    }
   ],
   "source": [
    "no_income_labels.income_cat.value_counts()"
   ]
  },
  {
   "cell_type": "code",
   "execution_count": 27,
   "metadata": {},
   "outputs": [],
   "source": [
    "unknown = df[(df.job == 'other') | (df.job == 'rather not say') ]\n",
    "unknown_feat_select = unknown[['age', 'edu_cat',\"income_cat\",\"job_cat\"]]\n",
    "unknown_sel_wna = unknown_feat_select.dropna(subset = [\"age\",\"edu_cat\",\"income_cat\",\"job_cat\"])\n",
    "unknown_feat = unknown_sel_wna[['age', 'edu_cat',\"job_cat\"]]\n",
    "unknown_labels = unknown_sel_wna[[\"income_cat\"]]"
   ]
  },
  {
   "cell_type": "code",
   "execution_count": 28,
   "metadata": {},
   "outputs": [
    {
     "name": "stdout",
     "output_type": "stream",
     "text": [
      "0.7939920077166873\n"
     ]
    }
   ],
   "source": [
    "print(classifier.score(unknown_feat, unknown_labels.values.ravel()))"
   ]
  },
  {
   "cell_type": "code",
   "execution_count": 29,
   "metadata": {},
   "outputs": [
    {
     "name": "stdout",
     "output_type": "stream",
     "text": [
      "<class 'pandas.core.frame.DataFrame'>\n"
     ]
    },
    {
     "data": {
      "text/plain": [
       "1    7195\n",
       "2      62\n",
       "Name: unknown_predict_label, dtype: int64"
      ]
     },
     "execution_count": 29,
     "metadata": {},
     "output_type": "execute_result"
    }
   ],
   "source": [
    "unknown_predict = classifier.predict(unknown_feat)\n",
    "#print(type(unknown_predict))\n",
    "\n",
    "unknown_predict_df = pd.DataFrame({\n",
    "    'unknown_predict_label': unknown_predict\n",
    "})\n",
    "\n",
    "print(type(unknown_predict_df))\n",
    "unknown_predict_df.unknown_predict_label.value_counts()"
   ]
  },
  {
   "cell_type": "code",
   "execution_count": 30,
   "metadata": {},
   "outputs": [
    {
     "data": {
      "text/plain": [
       "1    5765\n",
       "2     915\n",
       "3     468\n",
       "4     109\n",
       "Name: income_cat, dtype: int64"
      ]
     },
     "execution_count": 30,
     "metadata": {},
     "output_type": "execute_result"
    }
   ],
   "source": [
    "unknown_labels.income_cat.value_counts()"
   ]
  },
  {
   "cell_type": "code",
   "execution_count": 31,
   "metadata": {},
   "outputs": [
    {
     "data": {
      "image/png": "[encoded data removed]",
      "text/plain": [
       "<Figure size 432x288 with 1 Axes>"
      ]
     },
     "metadata": {
      "needs_background": "light"
     },
     "output_type": "display_data"
    }
   ],
   "source": [
    "from matplotlib import pyplot as plt\n",
    "plt.hist( unknown_sel_wna.income_cat, bins=4)\n",
    "plt.xlabel(\"Income Category - Unknown - Label\")\n",
    "plt.ylabel(\"Frequency\")\n",
    "plt.xlim(0, 5)\n",
    "plt.show()"
   ]
  },
  {
   "cell_type": "code",
   "execution_count": 40,
   "metadata": {
    "scrolled": true
   },
   "outputs": [
    {
     "data": {
      "image/png": "[encoded data removed]",
      "text/plain": [
       "<Figure size 432x288 with 1 Axes>"
      ]
     },
     "metadata": {
      "needs_background": "light"
     },
     "output_type": "display_data"
    }
   ],
   "source": [
    "from matplotlib import pyplot as plt\n",
    "plt.hist( unknown_predict, bins=4)\n",
    "plt.xlabel(\"Income Category - Unknown - Predict\")\n",
    "plt.ylabel(\"Frequency\")\n",
    "plt.xlim(0, 5)\n",
    "plt.show()"
   ]
  },
  {
   "cell_type": "markdown",
   "metadata": {},
   "source": [
    "### KMeans"
   ]
  },
  {
   "cell_type": "code",
   "execution_count": 33,
   "metadata": {},
   "outputs": [
    {
     "name": "stdout",
     "output_type": "stream",
     "text": [
      "[0 0 1 ... 3 2 1]\n",
      "<class 'numpy.ndarray'>\n",
      "43357\n",
      "<class 'pandas.core.frame.DataFrame'>\n"
     ]
    },
    {
     "data": {
      "text/plain": [
       "0    18136\n",
       "2    14966\n",
       "1     7563\n",
       "3     2692\n",
       "Name: kmeans_label, dtype: int64"
      ]
     },
     "execution_count": 33,
     "metadata": {},
     "output_type": "execute_result"
    }
   ],
   "source": [
    "from sklearn.cluster import KMeans\n",
    "import random\n",
    "import timeit\n",
    "from mpl_toolkits.mplot3d import Axes3D\n",
    "from sklearn.cluster import KMeans\n",
    "\n",
    "X_train, X_test, y_train, y_test = train_test_split(features, labels, test_size = 0.1, random_state = 1)\n",
    "\n",
    "kmeans_model = KMeans(n_clusters = 4)\n",
    "kmeans_model.fit(X_train)\n",
    "kmeans_label = kmeans_model.predict(X_train)\n",
    "print(kmeans_label)\n",
    "\n",
    "print(type(kmeans_label))\n",
    "print(len(kmeans_label))\n",
    "\n",
    "kmeans_label_df = pd.DataFrame({\n",
    "    'kmeans_label': kmeans_label\n",
    "})\n",
    "\n",
    "print(type(kmeans_label_df))\n",
    "kmeans_label_df.kmeans_label.value_counts()"
   ]
  },
  {
   "cell_type": "code",
   "execution_count": 34,
   "metadata": {},
   "outputs": [
    {
     "name": "stdout",
     "output_type": "stream",
     "text": [
      "<class 'numpy.ndarray'>\n",
      "                            age   edu_cat   job_cat\n",
      "kmeans_label_cluster                               \n",
      "0                     24.755459  1.906374  2.026687\n",
      "1                     42.666534  2.578606  2.261669\n",
      "2                     32.284177  2.512228  2.240478\n",
      "3                     57.531947  2.675334  2.164933\n"
     ]
    },
    {
     "name": "stderr",
     "output_type": "stream",
     "text": [
      "E:\\Python\\Miniconda3\\lib\\site-packages\\ipykernel_launcher.py:4: SettingWithCopyWarning: \n",
      "A value is trying to be set on a copy of a slice from a DataFrame.\n",
      "Try using .loc[row_indexer,col_indexer] = value instead\n",
      "\n",
      "See the caveats in the documentation: http://pandas.pydata.org/pandas-docs/stable/indexing.html#indexing-view-versus-copy\n",
      "  after removing the cwd from sys.path.\n"
     ]
    }
   ],
   "source": [
    "kmeans_label_cluster = kmeans_model.labels_\n",
    "print(type(kmeans_label_cluster))\n",
    "\n",
    "X_train[\"kmeans_label_cluster\"] = kmeans_label_cluster\n",
    "\n",
    "#Add the column into our list\n",
    "cols.extend([\"kmeans_label_cluster\"])\n",
    "\n",
    "#Lets analyze the clusters\n",
    "print(X_train[cols].groupby(['kmeans_label_cluster']).mean())"
   ]
  },
  {
   "cell_type": "code",
   "execution_count": 35,
   "metadata": {},
   "outputs": [
    {
     "data": {
      "text/plain": [
       "0    18136\n",
       "2    14966\n",
       "1     7563\n",
       "3     2692\n",
       "Name: kmeans_label_cluster, dtype: int64"
      ]
     },
     "execution_count": 35,
     "metadata": {},
     "output_type": "execute_result"
    }
   ],
   "source": [
    "X_train.kmeans_label_cluster.value_counts()"
   ]
  },
  {
   "cell_type": "code",
   "execution_count": 36,
   "metadata": {},
   "outputs": [
    {
     "name": "stdout",
     "output_type": "stream",
     "text": [
      "[0 0 1 ... 3 2 1]\n",
      "[0, 1, 7, 8, 9, 11, 15, 16, 17, 19, 20, 28, 33, 42, 43, 44, 45, 50, 56, 57, 58, 59, 61, 62, 69, 71, 72, 77, 78, 84, 85, 86, 87, 91, 94, 96, 98, 100, 103, 104, 105, 106, 108, 109, 116, 117, 118, 121, 122, 123, 124, 125, 128, 129, 130, 132, 133, 136, 137, 138, 140, 142, 146, 150, 152, 160, 161, 162, 167, 169, 171, 177, 178, 183, 185, 187, 190, 195, 196, 197, 198, 199, 200, 202, 205, 206, 209, 213, 215, 216, 220, 221, 224, 225, 226, 227, 229, 230, 231, 233, 240, 241, 243, 244, 245, 246, 247, 248, 250, 257, 263, 265, 270, 271, 279, 287, 290, 291, 293, 296, 298, 299, 307, 311, 312, 314, 315, 316, 319, 322, 323, 325, 326, 333, 335, 338, 339, 340, 343, 349, 350, 351, 359, 361, 362, 366, 368, 369, 372, 373, 376, 378, 380, 381, 383, 384, 386, 388, 390, 391, 393, 395, 398, 400, 402, 403, 405, 406, 407, 409, 412, 415, 416, 417, 419, 420, 421, 424, 426, 428, 429, 431, 442, 444, 446, 447, 448, 450, 451, 452, 453, 454, 458, 459, 463, 465, 466, 468, 471, 477, 478, 479, 480, 482, 483, 489, 490, 491, 495, 497, 499, 500, 501, 502, 504, 508, 510, 511, 514, 515, 517, 519, 520, 523, 527, 528, 532, 534, 535, 536, 541, 543, 547, 552, 553, 556, 557, 559, 560, 563, 567, 573, 576, 578, 579, 583, 587, 588, 590, 591, 595, 596, 602, 603, 606, 608, 613, 614, 615, 617, 619, 622, 627, 628, 629, 630, 634, 640, 645, 650, 652, 657, 663, 666, 669, 670, 674, 676, 678, 679, 682, 687, 694, 697, 698, 702, 705, 706, 707, 709, 711, 712, 714, 715, 718, 720, 722, 723, 727, 729, 734, 736, 739, 742, 745, 746, 747, 749, 752, 753, 758, 761, 764, 765, 768, 769, 773, 775, 777, 780, 784, 786, 787, 789, 795, 799, 801, 803, 805, 806, 810, 812, 813, 814, 816, 817, 818, 819, 822, 823, 827, 836, 839, 841, 845, 851, 853, 854, 855, 857, 858, 863, 864, 865, 867, 869, 871, 877, 880, 882, 883, 887, 888, 890, 892, 897, 900, 901, 902, 905, 907, 908, 915, 916, 923, 926, 928, 932, 933, 935, 936, 938, 939, 942, 945, 954, 955, 957, 959, 960, 962, 965, 966, 967, 968, 972, 973, 975, 976, 978, 981, 983, 984, 987, 990, 991, 994, 995, 998, 1000, 1001, 1002, 1003, 1004, 1005, 1007, 1009, 1010, 1013, 1015, 1018, 1019, 1026, 1027, 1028, 1029, 1030, 1032, 1033, 1045, 1047, 1051, 1052, 1054, 1055, 1057, 1062, 1063, 1064, 1066, 1067, 1072, 1073, 1074, 1076, 1077, 1078, 1080, 1083, 1088, 1090, 1094, 1096, 1097, 1098, 1099, 1101, 1104, 1107, 1111, 1112, 1114, 1119, 1120, 1122, 1130, 1131, 1136, 1137, 1138, 1139, 1143, 1144, 1149, 1151, 1155, 1156, 1158, 1159, 1161, 1162, 1165, 1166, 1169, 1172, 1174, 1175, 1176, 1177, 1180, 1181, 1182, 1185, 1187, 1192, 1196, 1198, 1200, 1203, 1211, 1212, 1214, 1215, 1219, 1220, 1221, 1226, 1228, 1229, 1234, 1235, 1236, 1237, 1239, 1242, 1246, 1250, 1253, 1257, 1258, 1260, 1261, 1264, 1268, 1269, 1272, 1273, 1276, 1279, 1280, 1285, 1286, 1290, 1293, 1297, 1299, 1300, 1301, 1303, 1304, 1306, 1311, 1314, 1316, 1321, 1323, 1324, 1326, 1329, 1330, 1333, 1338, 1340, 1343, 1346, 1347, 1348, 1351, 1352, 1353, 1354, 1355, 1356, 1357, 1358, 1359, 1361, 1364, 1367, 1368, 1369, 1374, 1375, 1378, 1380, 1385, 1389, 1393, 1394, 1395, 1396, 1398, 1400, 1401, 1403, 1405, 1406, 1411, 1412, 1414, 1416, 1418, 1419, 1420, 1421, 1424, 1428, 1432, 1433, 1434, 1435, 1440, 1441, 1442, 1446, 1447, 1455, 1456, 1458, 1460, 1463, 1464, 1465, 1467, 1476, 1477, 1478, 1485, 1487, 1489, 1492, 1493, 1495, 1498, 1502, 1504, 1505, 1506, 1507, 1512, 1513, 1515, 1516, 1517, 1519, 1520, 1523, 1525, 1526, 1529, 1530, 1531, 1535, 1536, 1543, 1544, 1545, 1546, 1547, 1552, 1558, 1560, 1562, 1563, 1566, 1570, 1571, 1577, 1578, 1579, 1586, 1587, 1589, 1590, 1593, 1594, 1597, 1601, 1602, 1604, 1606, 1608, 1610, 1612, 1617, 1618, 1622, 1624, 1625, 1627, 1632, 1644, 1648, 1649, 1653, 1654, 1656, 1657, 1660, 1665, 1666, 1667, 1673, 1678, 1688, 1692, 1697, 1701, 1704, 1706, 1709, 1710, 1712, 1713, 1717, 1719, 1721, 1723, 1726, 1730, 1735, 1737, 1738, 1739, 1740, 1742, 1745, 1747, 1750, 1754, 1759, 1762, 1767, 1768, 1769, 1770, 1772, 1776, 1777, 1779, 1786, 1791, 1792, 1795, 1799, 1801, 1803, 1804, 1805, 1807, 1809, 1824, 1826, 1827, 1830, 1837, 1838, 1839, 1841, 1842, 1844, 1846, 1848, 1849, 1853, 1858, 1860, 1865, 1867, 1868, 1871, 1872, 1873, 1877, 1881, 1882, 1884, 1887, 1888, 1895, 1898, 1899, 1900, 1901, 1902, 1904, 1911, 1912, 1913, 1917, 1919, 1922, 1923, 1925, 1926, 1927, 1929, 1932, 1941, 1948, 1949, 1950, 1952, 1956, 1957, 1959, 1962, 1965, 1967, 1968, 1969, 1970, 1974, 1975, 1977, 1983, 1985, 1989, 1991, 1992, 1996, 2007, 2009, 2012, 2015, 2018, 2019, 2025, 2028, 2029, 2031, 2036, 2037, 2040, 2042, 2045, 2046, 2047, 2051, 2052, 2055, 2056, 2057, 2058, 2060, 2061, 2063, 2066, 2067, 2068, 2069, 2070, 2071, 2072, 2076, 2079, 2082, 2085, 2086, 2088, 2092, 2093, 2094, 2100, 2103, 2105, 2106, 2110, 2112, 2115, 2116, 2118, 2119, 2123, 2124, 2125, 2128, 2131, 2133, 2135, 2136, 2145, 2147, 2148, 2149, 2151, 2152, 2160, 2161, 2162, 2163, 2166, 2167, 2168, 2170, 2172, 2178, 2179, 2182, 2184, 2185, 2186, 2187, 2188, 2189, 2193, 2194, 2195, 2198, 2204, 2210, 2212, 2213, 2214, 2216, 2218, 2220, 2222, 2224, 2226, 2227, 2228, 2230, 2231, 2234, 2235, 2237, 2239, 2241, 2244, 2246, 2247, 2249, 2252, 2255, 2256, 2259, 2260, 2261, 2264, 2268, 2269, 2270, 2273, 2276, 2281, 2285, 2288, 2289, 2290, 2291, 2292, 2296, 2297, 2298, 2301, 2304, 2308, 2309, 2310, 2311, 2314, 2316, 2317, 2320, 2321, 2322, 2327, 2328, 2330, 2331, 2332, 2336, 2337, 2338, 2343, 2344, 2345, 2347, 2348, 2349, 2350, 2352, 2354, 2359, 2361, 2363, 2366, 2367, 2369, 2373, 2374, 2378, 2379, 2385, 2386, 2389, 2390, 2393, 2394, 2396, 2397, 2398, 2407, 2414, 2415, 2419, 2420, 2425, 2427, 2429, 2430, 2432, 2433, 2439, 2445, 2446, 2450, 2451, 2452, 2453, 2455, 2456, 2457, 2463, 2464, 2466, 2470, 2471, 2473, 2474, 2477, 2479, 2480, 2485, 2489, 2493, 2495, 2497, 2498, 2499, 2503, 2504, 2510, 2511, 2515, 2517, 2520, 2523, 2528, 2530, 2531, 2532, 2533, 2534, 2537, 2540, 2543, 2545, 2546, 2547, 2548, 2551, 2553, 2556, 2558, 2561, 2562, 2566, 2567, 2575, 2580, 2581, 2583, 2584, 2589, 2591, 2592, 2593, 2595, 2598, 2599, 2606, 2608, 2610, 2613, 2614, 2616, 2617, 2618, 2621, 2622, 2625, 2626, 2627, 2635, 2646, 2649, 2650, 2653, 2654, 2656, 2657, 2658, 2664, 2665, 2672, 2674, 2676, 2679, 2680, 2683, 2685, 2689, 2690, 2691, 2695, 2696, 2697, 2701, 2703, 2704, 2705, 2706, 2707, 2708, 2709, 2710, 2712, 2713, 2715, 2718, 2723, 2727, 2728, 2729, 2732, 2735, 2740, 2743, 2744, 2747, 2749, 2751, 2752, 2753, 2754, 2755, 2760, 2761, 2762, 2763, 2765, 2766, 2768, 2769, 2773, 2775, 2776, 2780, 2783, 2784, 2786, 2788, 2789, 2792, 2794, 2795, 2796, 2799, 2802, 2805, 2807, 2808, 2809, 2811, 2812, 2813, 2814, 2816, 2818, 2823, 2824, 2826, 2827, 2831, 2832, 2836, 2837, 2838, 2843, 2846, 2852, 2854, 2855, 2856, 2857, 2861, 2863, 2864, 2867, 2868, 2869, 2872, 2876, 2877, 2880, 2881, 2882, 2886, 2891, 2892, 2895, 2896, 2899, 2900, 2902, 2905, 2907, 2916, 2917, 2921, 2923, 2924, 2925, 2930, 2933, 2934, 2937, 2940, 2941, 2943, 2947, 2952, 2954, 2958, 2962, 2966, 2967, 2968, 2969, 2975, 2979, 2981, 2982, 2984, 2986, 2988, 2992, 2994, 2995, 2996, 3000, 3002, 3005, 3009, 3013, 3017, 3018, 3020, 3021, 3022, 3023, 3029, 3030, 3031, 3032, 3033, 3034, 3035, 3036, 3038, 3039, 3041, 3042, 3044, 3047, 3049, 3051, 3052, 3055, 3056, 3057, 3058, 3059, 3060, 3062, 3066, 3067, 3071, 3073, 3075, 3076, 3077, 3078, 3080, 3085, 3090, 3091, 3094, 3096, 3100, 3102, 3105, 3109, 3113, 3114, 3115, 3116, 3122, 3123, 3124, 3125, 3131, 3133, 3140, 3142, 3145, 3146, 3147, 3148, 3149, 3155, 3158, 3162, 3163, 3164, 3165, 3167, 3169, 3171, 3174, 3177, 3178, 3186, 3187, 3190, 3191, 3193, 3195, 3196, 3197, 3198, 3200, 3202, 3203, 3206, 3208, 3210, 3212, 3218, 3224, 3228, 3232, 3236, 3238, 3240, 3242, 3244, 3245, 3247, 3257, 3260, 3261, 3264, 3267, 3270, 3273, 3274, 3275, 3279, 3280, 3282, 3286, 3290, 3292, 3296, 3297, 3303, 3305, 3307, 3308, 3309, 3314, 3318, 3320, 3321, 3322, 3323, 3325, 3328, 3329, 3334, 3337, 3338, 3342, 3345, 3347, 3352, 3361, 3362, 3364, 3366, 3367, 3371, 3373, 3374, 3377, 3383, 3384, 3385, 3386, 3388, 3392, 3393, 3395, 3397, 3406, 3407, 3409, 3414, 3417, 3420, 3422, 3424, 3426, 3428, 3429, 3432, 3434, 3438, 3440, 3441, 3443, 3445, 3446, 3448, 3450, 3451, 3452, 3455, 3457, 3458, 3460, 3464, 3465, 3467, 3470, 3472, 3474, 3475, 3478, 3481, 3482, 3496, 3497, 3499, 3501, 3502, 3503, 3507, 3509, 3516, 3519, 3520, 3523, 3524, 3527, 3529, 3530, 3531, 3532, 3535, 3536, 3540, 3542, 3545, 3546, 3548, 3549, 3553, 3554, 3555, 3556, 3558, 3560, 3561, 3566, 3567, 3568, 3569, 3571, 3574, 3577, 3578, 3583, 3584, 3585, 3586, 3588, 3589, 3592, 3593, 3597, 3598, 3601, 3602, 3603, 3606, 3608, 3610, 3612, 3615, 3617, 3619, 3621, 3623, 3624, 3627, 3628, 3630, 3632, 3633, 3635, 3636, 3638, 3641, 3645, 3647, 3651, 3653, 3654, 3655, 3659, 3663, 3668, 3670, 3672, 3673, 3674, 3677, 3683, 3687, 3688, 3690, 3693, 3694, 3695, 3699, 3701, 3704, 3707, 3713, 3714, 3718, 3722, 3723, 3728, 3729, 3734, 3735, 3740, 3741, 3746, 3751, 3755, 3758, 3760, 3764, 3767, 3775, 3776, 3779, 3781, 3783, 3785, 3787, 3788, 3789, 3790, 3793, 3794, 3795, 3796, 3802, 3811, 3813, 3815, 3816, 3817, 3819, 3821, 3827, 3828, 3829, 3833, 3834, 3836, 3840, 3842, 3845, 3848, 3851, 3852, 3853, 3860, 3861, 3864, 3866, 3870, 3875, 3877, 3878, 3879, 3881, 3882, 3883, 3884, 3890, 3891, 3893, 3894, 3895, 3899, 3901, 3904, 3910, 3911, 3913, 3918, 3920, 3921, 3922, 3924, 3928, 3932, 3937, 3938, 3941, 3943, 3947, 3948, 3949, 3952, 3953, 3954, 3955, 3956, 3957, 3960, 3963, 3964, 3966, 3967, 3972, 3974, 3977, 3982, 3985, 3986, 3988, 3990, 3991, 3992, 3997, 4003, 4005, 4006, 4009, 4010, 4011, 4013, 4015, 4016, 4023, 4024, 4027, 4029, 4033, 4034, 4035, 4036, 4037, 4038, 4040, 4043, 4044, 4046, 4048, 4049, 4051, 4055, 4056, 4059, 4065, 4066, 4070, 4071, 4077, 4078, 4079, 4080, 4082, 4087, 4088, 4089, 4090, 4091, 4093, 4097, 4098, 4100, 4101, 4102, 4108, 4109, 4114, 4116, 4118, 4119, 4120, 4122, 4125, 4126, 4130, 4131, 4134, 4135, 4138, 4140, 4142, 4149, 4150, 4151, 4152, 4154, 4155, 4157, 4158, 4159, 4161, 4162, 4164, 4168, 4174, 4177, 4178, 4179, 4181, 4183, 4191, 4192, 4194, 4198, 4199, 4200, 4201, 4203, 4204, 4205, 4206, 4211, 4215, 4216, 4217, 4218, 4228, 4231, 4232, 4234, 4235, 4239, 4240, 4241, 4242, 4244, 4249, 4253, 4257, 4258, 4260, 4264, 4265, 4269, 4274, 4278, 4281, 4282, 4284, 4290, 4292, 4294, 4295, 4296, 4299, 4302, 4303, 4307, 4308, 4315, 4319, 4321, 4322, 4323, 4324, 4327, 4329, 4330, 4332, 4333, 4337, 4341, 4343, 4344, 4346, 4349, 4350, 4352, 4357, 4358, 4359, 4360, 4364, 4365, 4367, 4370, 4375, 4377, 4378, 4380, 4381, 4384, 4386, 4387, 4392, 4393, 4394, 4395, 4397, 4399, 4400, 4404, 4410, 4416, 4417, 4420, 4421, 4422, 4424, 4425, 4430, 4434, 4436, 4438, 4439, 4445, 4446, 4447, 4448, 4449, 4451, 4454, 4455, 4456, 4458, 4459, 4460, 4466, 4468, 4470, 4471, 4472, 4475, 4476, 4477, 4482, 4484, 4485, 4490, 4491, 4493, 4496, 4499, 4503, 4504, 4505, 4506, 4507, 4508, 4509, 4510, 4511, 4512, 4515, 4516, 4518, 4521, 4522, 4524, 4525, 4527, 4530, 4531, 4532, 4534, 4537, 4539, 4543, 4549, 4551, 4555, 4556, 4557, 4558, 4559, 4567, 4569, 4570, 4578, 4581, 4582, 4583, 4586, 4587, 4591, 4593, 4596, 4597, 4599, 4602, 4603, 4604, 4607, 4609, 4611, 4613, 4614, 4619, 4620, 4622, 4623, 4629, 4635, 4637, 4638, 4640, 4642, 4643, 4644, 4645, 4646, 4647, 4654, 4655, 4656, 4657, 4659, 4661, 4662, 4665, 4666, 4671, 4676, 4677, 4680, 4682, 4686, 4690, 4692, 4694, 4696, 4697, 4699, 4706, 4707, 4709, 4710, 4711, 4712, 4715, 4716, 4718, 4720, 4721, 4722, 4723, 4724, 4726, 4731, 4732, 4736, 4739, 4741, 4742, 4750, 4753, 4755, 4756, 4757, 4762, 4763, 4764, 4765, 4766, 4768, 4771, 4774, 4782, 4783, 4784, 4785, 4786, 4790, 4796, 4800, 4807, 4808, 4809, 4813, 4815, 4819, 4820, 4822, 4825, 4827, 4829, 4833, 4834, 4836, 4837, 4838, 4840, 4849, 4852, 4854, 4857, 4858, 4859, 4864, 4865, 4870, 4871, 4872, 4879, 4881, 4883, 4884, 4885, 4887, 4889, 4890, 4893, 4895, 4897, 4898, 4899, 4902, 4904, 4906, 4912, 4913, 4919, 4921, 4922, 4927, 4928, 4929, 4932, 4934, 4939, 4940, 4942, 4944, 4947, 4949, 4956, 4957, 4958, 4959, 4960, 4961, 4962, 4963, 4965, 4970, 4971, 4983, 4986, 4987, 4989, 4990, 4992, 4994, 4996, 4997, 5000, 5001, 5002, 5011, 5012, 5013, 5016, 5017, 5018, 5019, 5020, 5027, 5030, 5033, 5036, 5037, 5038, 5039, 5040, 5041, 5044, 5046, 5047, 5048, 5051, 5052, 5054, 5055, 5056, 5058, 5059, 5060, 5061, 5064, 5065, 5066, 5067, 5069, 5070, 5071, 5073, 5075, 5076, 5078, 5079, 5080, 5081, 5082, 5084, 5085, 5087, 5089, 5091, 5094, 5098, 5101, 5102, 5103, 5105, 5106, 5108, 5111, 5117, 5123, 5127, 5136, 5138, 5142, 5145, 5146, 5148, 5149, 5152, 5153, 5159, 5161, 5162, 5163, 5169, 5171, 5172, 5173, 5175, 5176, 5184, 5188, 5190, 5195, 5201, 5202, 5203, 5204, 5205, 5207, 5210, 5211, 5212, 5213, 5214, 5215, 5218, 5223, 5227, 5230, 5231, 5233, 5236, 5237, 5238, 5240, 5241, 5243, 5244, 5245, 5247, 5249, 5250, 5251, 5252, 5256, 5257, 5259, 5261, 5263, 5266, 5267, 5269, 5270, 5273, 5279, 5281, 5282, 5284, 5288, 5290, 5291, 5296, 5299, 5300, 5304, 5306, 5314, 5315, 5316, 5317, 5320, 5324, 5325, 5329, 5332, 5333, 5334, 5343, 5346, 5352, 5354, 5355, 5356, 5360, 5361, 5365, 5366, 5367, 5368, 5369, 5370, 5376, 5378, 5379, 5382, 5384, 5390, 5393, 5395, 5396, 5397, 5400, 5404, 5405, 5407, 5409, 5413, 5414, 5417, 5419, 5422, 5424, 5425, 5426, 5433, 5434, 5435, 5436, 5438, 5439, 5447, 5449, 5454, 5456, 5457, 5458, 5459, 5462, 5464, 5466, 5468, 5469, 5470, 5475, 5478, 5480, 5482, 5483, 5485, 5486, 5488, 5490, 5491, 5492, 5495, 5501, 5502, 5503, 5504, 5506, 5511, 5519, 5520, 5521, 5522, 5523, 5525, 5528, 5529, 5530, 5537, 5538, 5541, 5544, 5545, 5547, 5550, 5551, 5552, 5553, 5555, 5557, 5563, 5564, 5565, 5567, 5575, 5577, 5579, 5582, 5588, 5593, 5594, 5599, 5603, 5605, 5606, 5609, 5611, 5614, 5615, 5618, 5621, 5622, 5623, 5624, 5627, 5630, 5634, 5635, 5639, 5640, 5641, 5642, 5643, 5645, 5648, 5649, 5651, 5655, 5657, 5658, 5659, 5663, 5664, 5666, 5668, 5670, 5675, 5679, 5682, 5684, 5686, 5691, 5692, 5694, 5695, 5699, 5704, 5705, 5708, 5709, 5712, 5716, 5717, 5719, 5721, 5723, 5727, 5728, 5729, 5730, 5736, 5740, 5742, 5747, 5748, 5751, 5753, 5755, 5756, 5757, 5760, 5762, 5765, 5766, 5767, 5774, 5776, 5780, 5782, 5783, 5785, 5786, 5788, 5794, 5795, 5797, 5804, 5806, 5807, 5812, 5814, 5819, 5821, 5825, 5828, 5830, 5836, 5838, 5843, 5845, 5846, 5849, 5850, 5851, 5855, 5856, 5858, 5868, 5872, 5874, 5876, 5879, 5881, 5883, 5887, 5888, 5889, 5891, 5892, 5896, 5900, 5903, 5907, 5908, 5910, 5914, 5915, 5916, 5919, 5923, 5924, 5926, 5931, 5937, 5943, 5944, 5945, 5946, 5947, 5949, 5950, 5952, 5953, 5955, 5956, 5960, 5964, 5967, 5969, 5970, 5974, 5975, 5980, 5981, 5982, 5983, 5987, 5990, 5991, 5992, 5995, 5996, 5997, 6004, 6007, 6010, 6013, 6014, 6015, 6017, 6019, 6020, 6021, 6022, 6025, 6027, 6028, 6031, 6033, 6041, 6044, 6045, 6047, 6049, 6050, 6052, 6055, 6060, 6063, 6066, 6067, 6070, 6072, 6073, 6074, 6075, 6078, 6080, 6081, 6087, 6088, 6089, 6090, 6091, 6094, 6096, 6101, 6102, 6105, 6107, 6108, 6111, 6112, 6113, 6116, 6121, 6124, 6128, 6133, 6136, 6137, 6138, 6139, 6144, 6146, 6147, 6151, 6152, 6156, 6158, 6160, 6163, 6165, 6170, 6171, 6172, 6174, 6178, 6180, 6181, 6187, 6188, 6189, 6190, 6193, 6197, 6199, 6201, 6206, 6210, 6211, 6213, 6215, 6217, 6219, 6220, 6221, 6224, 6228, 6230, 6231, 6233, 6234, 6236, 6238, 6242, 6248, 6250, 6252, 6254, 6255, 6258, 6259, 6262, 6268, 6270, 6272, 6274, 6275, 6278, 6281, 6283, 6284, 6286, 6289, 6290, 6291, 6293, 6294, 6298, 6299, 6300, 6302, 6307, 6313, 6314, 6316, 6318, 6319, 6320, 6321, 6322, 6327, 6330, 6334, 6336, 6337, 6338, 6344, 6346, 6348, 6349, 6350, 6351, 6355, 6356, 6361, 6363, 6364, 6370, 6374, 6377, 6379, 6384, 6385, 6387, 6388, 6390, 6391, 6392, 6393, 6395, 6396, 6401, 6402, 6403, 6404, 6405, 6406, 6407, 6410, 6411, 6413, 6414, 6416, 6418, 6429, 6430, 6431, 6433, 6438, 6444, 6451, 6453, 6454, 6456, 6457, 6458, 6459, 6461, 6462, 6463, 6465, 6466, 6467, 6469, 6474, 6475, 6478, 6480, 6483, 6485, 6489, 6493, 6495, 6496, 6497, 6498, 6499, 6500, 6501, 6503, 6505, 6506, 6507, 6511, 6514, 6516, 6517, 6519, 6527, 6529, 6532, 6536, 6537, 6545, 6546, 6557, 6560, 6561, 6562, 6567, 6569, 6573, 6574, 6578, 6580, 6582, 6584, 6585, 6587, 6588, 6591, 6594, 6596, 6597, 6599, 6601, 6606, 6607, 6609, 6611, 6612, 6614, 6618, 6619, 6622, 6625, 6626, 6628, 6629, 6631, 6633, 6638, 6641, 6643, 6645, 6646, 6647, 6648, 6649, 6650, 6651, 6655, 6657, 6659, 6663, 6666, 6669, 6672, 6674, 6675, 6677, 6681, 6682, 6683, 6685, 6686, 6688, 6692, 6698, 6700, 6704, 6705, 6706, 6709, 6710, 6713, 6716, 6722, 6723, 6724, 6726, 6727, 6733, 6736, 6739, 6744, 6745, 6749, 6750, 6751, 6752, 6754, 6761, 6763, 6764, 6766, 6771, 6775, 6778, 6781, 6782, 6784, 6785, 6787, 6790, 6791, 6794, 6796, 6801, 6802, 6806, 6807, 6810, 6812, 6815, 6817, 6824, 6828, 6833, 6837, 6839, 6840, 6841, 6843, 6845, 6847, 6857, 6860, 6861, 6862, 6865, 6867, 6870, 6871, 6877, 6878, 6883, 6886, 6889, 6893, 6894, 6895, 6898, 6902, 6903, 6906, 6909, 6911, 6912, 6916, 6919, 6921, 6925, 6929, 6932, 6935, 6937, 6944, 6946, 6948, 6949, 6952, 6956, 6960, 6963, 6964, 6965, 6968, 6969, 6974, 6975, 6978, 6979, 6987, 6988, 6989, 6991, 6992, 6997, 7002, 7005, 7006, 7009, 7010, 7012, 7013, 7014, 7015, 7017, 7020, 7022, 7029, 7032, 7033, 7036, 7038, 7040, 7051, 7052, 7053, 7054, 7056, 7059, 7061, 7063, 7064, 7069, 7072, 7073, 7077, 7079, 7081, 7090, 7091, 7096, 7097, 7101, 7103, 7106, 7108, 7112, 7114, 7116, 7117, 7118, 7120, 7124, 7125, 7128, 7129, 7134, 7137, 7139, 7143, 7147, 7149, 7150, 7153, 7156, 7157, 7159, 7160, 7162, 7163, 7166, 7167, 7169, 7176, 7177, 7178, 7183, 7184, 7189, 7190, 7192, 7196, 7200, 7203, 7204, 7205, 7213, 7214, 7215, 7217, 7224, 7227, 7228, 7229, 7230, 7234, 7245, 7246, 7251, 7252, 7254, 7256, 7257, 7258, 7260, 7261, 7265, 7269, 7272, 7273, 7274, 7277, 7278, 7280, 7282, 7283, 7284, 7285, 7286, 7292, 7293, 7302, 7304, 7306, 7307, 7313, 7314, 7316, 7318, 7319, 7320, 7323, 7326, 7327, 7331, 7334, 7338, 7344, 7346, 7352, 7358, 7360, 7361, 7364, 7365, 7366, 7369, 7370, 7378, 7380, 7381, 7384, 7386, 7395, 7397, 7398, 7399, 7400, 7405, 7406, 7408, 7411, 7415, 7416, 7417, 7419, 7420, 7425, 7430, 7432, 7433, 7442, 7443, 7444, 7445, 7446, 7448, 7451, 7452, 7453, 7455, 7456, 7460, 7461, 7462, 7466, 7471, 7472, 7479, 7487, 7489, 7490, 7491, 7492, 7496, 7499, 7501, 7504, 7507, 7508, 7509, 7512, 7514, 7515, 7517, 7521, 7526, 7527, 7529, 7531, 7538, 7539, 7541, 7542, 7544, 7551, 7553, 7554, 7557, 7559, 7560, 7561, 7571, 7574, 7575, 7576, 7586, 7594, 7596, 7601, 7604, 7610, 7613, 7616, 7617, 7620, 7622, 7624, 7625, 7630, 7635, 7636, 7639, 7641, 7642, 7644, 7650, 7657, 7659, 7662, 7664, 7666, 7668, 7669, 7673, 7675, 7677, 7678, 7679, 7680, 7686, 7690, 7691, 7693, 7695, 7697, 7700, 7703, 7704, 7705, 7707, 7708, 7709, 7711, 7713, 7715, 7716, 7719, 7730, 7734, 7735, 7739, 7741, 7744, 7751, 7753, 7755, 7758, 7759, 7765, 7768, 7770, 7777, 7779, 7782, 7783, 7784, 7785, 7786, 7788, 7790, 7792, 7794, 7798, 7802, 7803, 7804, 7805, 7810, 7811, 7812, 7816, 7819, 7821, 7822, 7823, 7826, 7828, 7829, 7832, 7838, 7839, 7840, 7841, 7843, 7846, 7848, 7852, 7853, 7855, 7857, 7861, 7865, 7872, 7874, 7875, 7879, 7880, 7883, 7886, 7889, 7890, 7895, 7897, 7901, 7902, 7903, 7908, 7909, 7910, 7912, 7917, 7922, 7925, 7928, 7930, 7937, 7943, 7947, 7950, 7951, 7955, 7957, 7958, 7959, 7960, 7967, 7969, 7971, 7972, 7975, 7979, 7983, 7991, 7993, 7995, 7996, 7998, 7999, 8000, 8002, 8003, 8004, 8005, 8008, 8009, 8010, 8012, 8013, 8014, 8015, 8019, 8023, 8026, 8028, 8030, 8031, 8032, 8035, 8038, 8044, 8045, 8046, 8047, 8049, 8051, 8052, 8054, 8062, 8066, 8069, 8070, 8073, 8077, 8078, 8080, 8082, 8083, 8087, 8088, 8089, 8094, 8100, 8105, 8106, 8108, 8110, 8112, 8116, 8120, 8123, 8125, 8135, 8136, 8139, 8140, 8142, 8144, 8145, 8146, 8148, 8149, 8150, 8151, 8156, 8157, 8158, 8159, 8160, 8161, 8163, 8164, 8165, 8166, 8168, 8170, 8172, 8173, 8176, 8178, 8179, 8180, 8182, 8184, 8186, 8188, 8189, 8192, 8194, 8195, 8199, 8201, 8202, 8203, 8204, 8205, 8207, 8208, 8213, 8214, 8215, 8218, 8219, 8224, 8225, 8232, 8234, 8237, 8242, 8249, 8254, 8256, 8258, 8261, 8268, 8269, 8271, 8273, 8275, 8278, 8283, 8284, 8287, 8288, 8292, 8294, 8298, 8301, 8306, 8310, 8312, 8313, 8315, 8316, 8318, 8320, 8327, 8332, 8333, 8338, 8347, 8349, 8350, 8351, 8352, 8353, 8356, 8358, 8360, 8361, 8362, 8363, 8364, 8365, 8366, 8369, 8370, 8371, 8372, 8373, 8374, 8376, 8380, 8381, 8383, 8385, 8386, 8389, 8390, 8392, 8394, 8397, 8399, 8401, 8403, 8405, 8406, 8408, 8409, 8412, 8415, 8421, 8422, 8427, 8429, 8431, 8433, 8437, 8441, 8442, 8443, 8448, 8453, 8455, 8457, 8459, 8462, 8465, 8466, 8470, 8473, 8474, 8477, 8478, 8479, 8480, 8481, 8482, 8483, 8488, 8493, 8498, 8499, 8500, 8507, 8510, 8512, 8513, 8514, 8515, 8516, 8517, 8520, 8522, 8526, 8528, 8530, 8531, 8532, 8537, 8538, 8539, 8546, 8548, 8551, 8554, 8555, 8562, 8567, 8568, 8569, 8572, 8576, 8583, 8588, 8589, 8594, 8595, 8599, 8610, 8613, 8616, 8617, 8622, 8626, 8628, 8629, 8630, 8631, 8632, 8633, 8636, 8637, 8640, 8641, 8644, 8645, 8647, 8648, 8652, 8653, 8654, 8655, 8656, 8659, 8660, 8662, 8663, 8667, 8668, 8671, 8676, 8682, 8689, 8691, 8692, 8703, 8704, 8709, 8712, 8713, 8718, 8719, 8722, 8723, 8726, 8729, 8730, 8731, 8736, 8737, 8741, 8744, 8746, 8747, 8748, 8750, 8752, 8759, 8760, 8761, 8763, 8766, 8768, 8778, 8779, 8781, 8782, 8783, 8784, 8785, 8786, 8787, 8788, 8789, 8791, 8794, 8796, 8798, 8799, 8803, 8805, 8806, 8811, 8815, 8816, 8821, 8826, 8828, 8832, 8833, 8834, 8835, 8837, 8838, 8843, 8844, 8846, 8851, 8854, 8855, 8856, 8857, 8860, 8865, 8866, 8870, 8873, 8874, 8881, 8882, 8883, 8884, 8886, 8888, 8892, 8897, 8899, 8904, 8908, 8909, 8910, 8911, 8912, 8913, 8915, 8916, 8918, 8921, 8922, 8928, 8929, 8930, 8931, 8932, 8933, 8934, 8936, 8937, 8940, 8941, 8947, 8948, 8952, 8953, 8955, 8962, 8965, 8969, 8973, 8977, 8978, 8981, 8982, 8983, 8989, 8990, 8994, 8996, 8998, 9001, 9002, 9004, 9006, 9010, 9013, 9015, 9018, 9022, 9024, 9025, 9027, 9034, 9035, 9036, 9038, 9040, 9042, 9044, 9045, 9047, 9048, 9052, 9053, 9054, 9056, 9057, 9059, 9060, 9061, 9063, 9066, 9069, 9070, 9073, 9075, 9077, 9079, 9085, 9089, 9090, 9091, 9094, 9099, 9101, 9102, 9103, 9110, 9112, 9113, 9114, 9124, 9125, 9126, 9127, 9128, 9131, 9132, 9133, 9137, 9138, 9143, 9145, 9146, 9154, 9155, 9161, 9165, 9168, 9177, 9187, 9189, 9191, 9192, 9193, 9200, 9202, 9203, 9208, 9209, 9210, 9212, 9216, 9217, 9221, 9223, 9225, 9226, 9229, 9232, 9234, 9237, 9239, 9241, 9242, 9245, 9246, 9247, 9250, 9251, 9252, 9254, 9255, 9256, 9257, 9258, 9259, 9260, 9262, 9268, 9271, 9276, 9279, 9286, 9287, 9290, 9296, 9297, 9299, 9306, 9307, 9308, 9314, 9319, 9321, 9326, 9327, 9330, 9331, 9332, 9336, 9342, 9343, 9348, 9350, 9351, 9354, 9357, 9366, 9369, 9370, 9371, 9375, 9376, 9378, 9380, 9382, 9387, 9388, 9390, 9394, 9398, 9399, 9400, 9401, 9403, 9405, 9408, 9409, 9410, 9411, 9412, 9414, 9415, 9416, 9417, 9418, 9419, 9421, 9423, 9426, 9427, 9429, 9436, 9446, 9447, 9451, 9459, 9460, 9462, 9465, 9467, 9470, 9479, 9480, 9481, 9482, 9485, 9489, 9490, 9492, 9493, 9497, 9498, 9500, 9502, 9505, 9506, 9507, 9509, 9510, 9512, 9514, 9515, 9518, 9521, 9524, 9527, 9531, 9532, 9533, 9536, 9537, 9541, 9545, 9548, 9549, 9550, 9552, 9555, 9560, 9563, 9564, 9567, 9568, 9572, 9574, 9575, 9577, 9584, 9586, 9587, 9589, 9590, 9591, 9599, 9600, 9602, 9603, 9604, 9605, 9607, 9609, 9616, 9619, 9620, 9621, 9622, 9629, 9630, 9634, 9636, 9642, 9643, 9644, 9648, 9652, 9653, 9655, 9660, 9664, 9666, 9668, 9670, 9675, 9678, 9681, 9683, 9684, 9685, 9689, 9690, 9692, 9697, 9699, 9700, 9710, 9714, 9716, 9721, 9722, 9723, 9726, 9727, 9731, 9735, 9736, 9738, 9739, 9740, 9741, 9744, 9749, 9751, 9752, 9756, 9759, 9761, 9762, 9764, 9766, 9768, 9771, 9773, 9774, 9778, 9779, 9780, 9783, 9785, 9790, 9792, 9793, 9794, 9796, 9802, 9803, 9805, 9807, 9810, 9812, 9816, 9817, 9818, 9823, 9826, 9829, 9830, 9831, 9834, 9835, 9836, 9837, 9842, 9843, 9844, 9847, 9850, 9853, 9854, 9855, 9857, 9858, 9860, 9862, 9863, 9868, 9873, 9877, 9878, 9879, 9883, 9884, 9888, 9889, 9890, 9896, 9897, 9901, 9902, 9906, 9907, 9908, 9909, 9910, 9911, 9914, 9916, 9923, 9924, 9925, 9926, 9930, 9931, 9932, 9934, 9936, 9937, 9941, 9943, 9944, 9945, 9947, 9948, 9954, 9956, 9957, 9958, 9960, 9966, 9968, 9969, 9972, 9973, 9974, 9976, 9978, 9982, 9986, 9993, 9994, 10001, 10002, 10003, 10005, 10006, 10007, 10008, 10009, 10010, 10011, 10014, 10015, 10016, 10019, 10020, 10023, 10025, 10026, 10036, 10037, 10039, 10042, 10043, 10045, 10048, 10049, 10050, 10052, 10054, 10056, 10057, 10058, 10059, 10060, 10064, 10066, 10069, 10073, 10074, 10077, 10079, 10081, 10082, 10083, 10085, 10086, 10090, 10091, 10092, 10094, 10096, 10097, 10100, 10103, 10107, 10108, 10112, 10122, 10123, 10124, 10126, 10129, 10130, 10131, 10132, 10133, 10134, 10135, 10136, 10137, 10140, 10141, 10143, 10148, 10152, 10153, 10155, 10159, 10163, 10166, 10171, 10172, 10174, 10178, 10182, 10184, 10185, 10187, 10188, 10191, 10192, 10195, 10197, 10199, 10202, 10204, 10205, 10207, 10211, 10212, 10213, 10220, 10222, 10224, 10225, 10227, 10234, 10238, 10244, 10247, 10254, 10255, 10259, 10262, 10263, 10264, 10267, 10268, 10269, 10270, 10273, 10274, 10275, 10276, 10279, 10281, 10283, 10288, 10289, 10292, 10297, 10298, 10299, 10300, 10306, 10313, 10315, 10316, 10319, 10323, 10324, 10328, 10330, 10331, 10332, 10337, 10338, 10340, 10342, 10343, 10347, 10350, 10352, 10357, 10359, 10362, 10364, 10369, 10375, 10377, 10379, 10380, 10381, 10382, 10383, 10389, 10392, 10393, 10394, 10396, 10401, 10402, 10405, 10407, 10411, 10412, 10414, 10415, 10416, 10418, 10420, 10421, 10423, 10424, 10426, 10429, 10430, 10434, 10437, 10438, 10439, 10441, 10442, 10443, 10446, 10448, 10449, 10458, 10460, 10462, 10463, 10468, 10470, 10473, 10478, 10479, 10485, 10489, 10490, 10493, 10494, 10496, 10497, 10503, 10504, 10505, 10507, 10510, 10514, 10515, 10521, 10523, 10524, 10528, 10531, 10532, 10533, 10535, 10537, 10538, 10540, 10541, 10547, 10551, 10554, 10555, 10556, 10559, 10560, 10562, 10565, 10570, 10574, 10576, 10577, 10579, 10580, 10585, 10589, 10590, 10592, 10593, 10595, 10598, 10599, 10600, 10601, 10604, 10605, 10608, 10609, 10612, 10614, 10616, 10617, 10620, 10621, 10631, 10633, 10636, 10637, 10638, 10640, 10642, 10647, 10648, 10651, 10655, 10657, 10659, 10661, 10662, 10666, 10667, 10668, 10669, 10672, 10674, 10679, 10684, 10685, 10687, 10688, 10689, 10691, 10696, 10698, 10699, 10700, 10705, 10708, 10709, 10711, 10712, 10713, 10714, 10717, 10719, 10721, 10722, 10724, 10725, 10727, 10729, 10731, 10732, 10735, 10736, 10737, 10738, 10744, 10745, 10747, 10748, 10754, 10755, 10756, 10766, 10767, 10768, 10769, 10770, 10772, 10778, 10780, 10782, 10784, 10786, 10787, 10788, 10792, 10794, 10795, 10796, 10797, 10798, 10801, 10803, 10807, 10814, 10817, 10818, 10824, 10833, 10835, 10836, 10839, 10843, 10845, 10847, 10848, 10851, 10852, 10853, 10855, 10856, 10857, 10863, 10864, 10867, 10868, 10870, 10872, 10874, 10875, 10877, 10879, 10880, 10881, 10883, 10884, 10890, 10893, 10896, 10898, 10899, 10900, 10901, 10903, 10905, 10912, 10913, 10914, 10915, 10916, 10919, 10921, 10922, 10927, 10929, 10934, 10935, 10937, 10938, 10940, 10943, 10946, 10947, 10948, 10950, 10952, 10953, 10955, 10960, 10964, 10966, 10967, 10972, 10976, 10979, 10983, 10984, 10986, 10988, 10990, 10992, 10994, 10995, 10996, 10997, 11002, 11003, 11007, 11010, 11011, 11013, 11015, 11016, 11017, 11019, 11025, 11031, 11033, 11038, 11043, 11044, 11045, 11049, 11051, 11056, 11060, 11061, 11062, 11063, 11064, 11069, 11070, 11071, 11072, 11075, 11080, 11081, 11083, 11084, 11088, 11089, 11090, 11091, 11093, 11095, 11096, 11097, 11098, 11100, 11102, 11103, 11105, 11107, 11108, 11112, 11113, 11119, 11121, 11122, 11124, 11125, 11127, 11129, 11138, 11139, 11142, 11143, 11148, 11149, 11150, 11151, 11156, 11157, 11160, 11164, 11165, 11171, 11172, 11173, 11176, 11180, 11181, 11182, 11183, 11184, 11185, 11188, 11189, 11193, 11194, 11197, 11210, 11212, 11215, 11216, 11221, 11228, 11229, 11230, 11232, 11237, 11238, 11239, 11241, 11243, 11245, 11248, 11249, 11250, 11251, 11253, 11254, 11255, 11256, 11257, 11258, 11259, 11260, 11261, 11263, 11264, 11265, 11273, 11275, 11276, 11278, 11280, 11283, 11284, 11286, 11288, 11289, 11290, 11293, 11294, 11295, 11297, 11298, 11299, 11300, 11307, 11314, 11315, 11318, 11321, 11322, 11323, 11324, 11325, 11326, 11327, 11328, 11332, 11336, 11337, 11339, 11340, 11342, 11343, 11346, 11351, 11353, 11354, 11355, 11356, 11357, 11362, 11364, 11366, 11368, 11370, 11372, 11373, 11374, 11375, 11380, 11381, 11383, 11385, 11386, 11387, 11388, 11391, 11392, 11394, 11397, 11399, 11400, 11406, 11409, 11410, 11413, 11414, 11417, 11418, 11419, 11421, 11422, 11425, 11428, 11430, 11432, 11436, 11439, 11440, 11441, 11444, 11445, 11453, 11456, 11458, 11459, 11464, 11465, 11466, 11468, 11469, 11470, 11472, 11473, 11475, 11476, 11477, 11478, 11484, 11485, 11490, 11491, 11493, 11495, 11497, 11500, 11504, 11505, 11506, 11507, 11511, 11512, 11513, 11514, 11515, 11517, 11520, 11523, 11524, 11528, 11533, 11534, 11536, 11542, 11543, 11547, 11553, 11554, 11555, 11556, 11561, 11571, 11573, 11574, 11577, 11578, 11580, 11582, 11583, 11585, 11589, 11590, 11592, 11595, 11596, 11601, 11602, 11603, 11604, 11605, 11609, 11611, 11614, 11619, 11620, 11622, 11628, 11630, 11631, 11634, 11635, 11637, 11639, 11640, 11641, 11644, 11646, 11648, 11649, 11650, 11653, 11654, 11656, 11657, 11659, 11660, 11661, 11664, 11668, 11670, 11672, 11674, 11677, 11679, 11680, 11682, 11685, 11691, 11692, 11694, 11696, 11697, 11698, 11699, 11700, 11701, 11702, 11703, 11704, 11706, 11707, 11708, 11709, 11712, 11716, 11717, 11718, 11721, 11722, 11726, 11727, 11729, 11735, 11739, 11745, 11746, 11748, 11756, 11760, 11761, 11770, 11772, 11773, 11778, 11779, 11781, 11783, 11785, 11787, 11789, 11793, 11794, 11795, 11796, 11797, 11800, 11801, 11804, 11805, 11806, 11807, 11809, 11811, 11813, 11818, 11823, 11824, 11825, 11827, 11830, 11832, 11835, 11838, 11843, 11844, 11846, 11848, 11849, 11850, 11854, 11855, 11856, 11857, 11859, 11862, 11863, 11864, 11866, 11868, 11869, 11870, 11872, 11878, 11879, 11882, 11883, 11887, 11888, 11891, 11894, 11898, 11900, 11902, 11903, 11904, 11905, 11910, 11912, 11914, 11915, 11916, 11917, 11918, 11923, 11924, 11925, 11926, 11928, 11931, 11935, 11936, 11939, 11940, 11944, 11946, 11948, 11949, 11951, 11963, 11965, 11967, 11968, 11969, 11970, 11974, 11975, 11976, 11977, 11981, 11982, 11984, 11988, 11989, 11997, 11999, 12000, 12011, 12013, 12019, 12022, 12025, 12026, 12030, 12032, 12033, 12034, 12036, 12039, 12040, 12044, 12045, 12047, 12052, 12054, 12057, 12060, 12066, 12067, 12069, 12075, 12078, 12079, 12080, 12082, 12085, 12090, 12093, 12094, 12095, 12096, 12099, 12101, 12103, 12105, 12106, 12107, 12109, 12111, 12112, 12114, 12115, 12124, 12125, 12126, 12127, 12128, 12131, 12132, 12133, 12134, 12137, 12139, 12145, 12148, 12149, 12152, 12154, 12155, 12158, 12159, 12161, 12163, 12167, 12169, 12178, 12181, 12182, 12184, 12188, 12189, 12190, 12191, 12195, 12196, 12198, 12200, 12203, 12205, 12206, 12209, 12210, 12211, 12212, 12214, 12215, 12216, 12218, 12220, 12223, 12224, 12227, 12228, 12232, 12242, 12243, 12245, 12248, 12249, 12250, 12253, 12258, 12259, 12263, 12267, 12269, 12270, 12274, 12275, 12277, 12278, 12279, 12280, 12283, 12285, 12286, 12287, 12289, 12292, 12294, 12295, 12298, 12302, 12303, 12304, 12307, 12308, 12309, 12310, 12311, 12313, 12316, 12317, 12318, 12322, 12325, 12326, 12328, 12332, 12333, 12335, 12339, 12343, 12346, 12347, 12350, 12351, 12355, 12357, 12359, 12360, 12363, 12364, 12370, 12372, 12377, 12381, 12382, 12384, 12385, 12386, 12387, 12389, 12393, 12394, 12395, 12396, 12398, 12399, 12400, 12401, 12402, 12403, 12405, 12409, 12413, 12420, 12421, 12422, 12423, 12424, 12425, 12428, 12430, 12436, 12437, 12438, 12443, 12445, 12446, 12450, 12455, 12456, 12457, 12464, 12465, 12466, 12469, 12475, 12477, 12478, 12481, 12483, 12484, 12486, 12490, 12495, 12496, 12497, 12498, 12500, 12502, 12507, 12509, 12514, 12517, 12518, 12519, 12520, 12526, 12530, 12531, 12534, 12537, 12540, 12543, 12545, 12546, 12547, 12548, 12549, 12550, 12554, 12558, 12559, 12561, 12562, 12566, 12568, 12569, 12572, 12573, 12574, 12582, 12584, 12585, 12587, 12590, 12594, 12595, 12605, 12608, 12609, 12610, 12611, 12613, 12616, 12617, 12619, 12621, 12627, 12630, 12631, 12636, 12637, 12638, 12639, 12641, 12644, 12646, 12651, 12653, 12657, 12659, 12660, 12661, 12665, 12667, 12671, 12673, 12674, 12675, 12683, 12684, 12685, 12686, 12687, 12689, 12691, 12696, 12697, 12699, 12700, 12703, 12706, 12711, 12718, 12719, 12724, 12725, 12726, 12728, 12729, 12731, 12733, 12734, 12735, 12737, 12741, 12746, 12750, 12752, 12758, 12760, 12763, 12764, 12768, 12770, 12771, 12772, 12773, 12777, 12779, 12785, 12787, 12789, 12790, 12792, 12795, 12797, 12799, 12809, 12811, 12812, 12814, 12815, 12816, 12819, 12820, 12821, 12822, 12823, 12826, 12827, 12829, 12831, 12833, 12836, 12838, 12840, 12841, 12842, 12847, 12848, 12849, 12851, 12852, 12853, 12855, 12862, 12863, 12865, 12866, 12868, 12869, 12870, 12872, 12873, 12876, 12880, 12883, 12886, 12887, 12888, 12891, 12892, 12893, 12894, 12895, 12899, 12900, 12908, 12914, 12915, 12917, 12918, 12919, 12922, 12925, 12927, 12929, 12930, 12933, 12935, 12937, 12939, 12940, 12942, 12946, 12949, 12950, 12951, 12955, 12956, 12959, 12960, 12961, 12962, 12963, 12964, 12970, 12973, 12976, 12977, 12982, 12984, 12986, 12988, 12989, 12990, 12997, 13000, 13002, 13003, 13007, 13008, 13011, 13018, 13019, 13027, 13030, 13031, 13032, 13033, 13037, 13039, 13040, 13041, 13042, 13046, 13054, 13056, 13058, 13059, 13064, 13069, 13071, 13072, 13073, 13075, 13077, 13078, 13082, 13083, 13084, 13089, 13091, 13094, 13095, 13096, 13097, 13102, 13103, 13107, 13110, 13112, 13114, 13115, 13118, 13123, 13128, 13129, 13137, 13138, 13140, 13142, 13149, 13150, 13153, 13154, 13155, 13156, 13158, 13163, 13164, 13165, 13166, 13168, 13170, 13174, 13175, 13176, 13177, 13178, 13180, 13181, 13182, 13183, 13189, 13192, 13196, 13197, 13207, 13208, 13209, 13216, 13217, 13224, 13226, 13233, 13234, 13237, 13241, 13243, 13247, 13248, 13257, 13260, 13262, 13263, 13264, 13265, 13266, 13268, 13271, 13273, 13274, 13275, 13277, 13279, 13280, 13281, 13282, 13284, 13285, 13286, 13292, 13294, 13298, 13299, 13302, 13303, 13305, 13306, 13308, 13310, 13313, 13314, 13316, 13317, 13318, 13319, 13322, 13328, 13329, 13331, 13332, 13333, 13335, 13337, 13340, 13348, 13351, 13354, 13366, 13370, 13371, 13372, 13376, 13377, 13378, 13383, 13390, 13392, 13393, 13394, 13400, 13403, 13407, 13409, 13410, 13411, 13412, 13413, 13415, 13417, 13419, 13421, 13423, 13425, 13428, 13431, 13435, 13439, 13440, 13443, 13444, 13445, 13447, 13450, 13451, 13452, 13457, 13458, 13459, 13464, 13465, 13468, 13470, 13472, 13474, 13476, 13477, 13479, 13481, 13483, 13488, 13489, 13491, 13493, 13496, 13497, 13498, 13499, 13502, 13503, 13504, 13509, 13510, 13511, 13514, 13517, 13519, 13520, 13522, 13524, 13526, 13528, 13536, 13537, 13539, 13540, 13541, 13542, 13543, 13544, 13545, 13547, 13549, 13551, 13552, 13554, 13555, 13557, 13558, 13560, 13562, 13563, 13564, 13567, 13568, 13571, 13575, 13577, 13578, 13579, 13586, 13590, 13595, 13596, 13598, 13599, 13603, 13604, 13605, 13606, 13608, 13610, 13611, 13613, 13614, 13615, 13616, 13617, 13618, 13629, 13631, 13632, 13636, 13638, 13640, 13641, 13644, 13651, 13654, 13656, 13658, 13660, 13662, 13666, 13668, 13670, 13673, 13675, 13676, 13678, 13679, 13680, 13682, 13685, 13686, 13687, 13688, 13689, 13693, 13696, 13698, 13699, 13700, 13706, 13708, 13709, 13712, 13713, 13714, 13715, 13716, 13717, 13718, 13720, 13721, 13723, 13726, 13727, 13728, 13730, 13735, 13737, 13738, 13740, 13741, 13745, 13747, 13749, 13751, 13756, 13760, 13762, 13763, 13766, 13768, 13769, 13770, 13773, 13775, 13776, 13779, 13783, 13785, 13786, 13787, 13788, 13789, 13790, 13795, 13796, 13797, 13798, 13799, 13800, 13801, 13806, 13807, 13808, 13811, 13812, 13814, 13815, 13816, 13822, 13826, 13827, 13828, 13829, 13831, 13833, 13834, 13837, 13838, 13839, 13840, 13843, 13844, 13846, 13847, 13848, 13851, 13854, 13856, 13859, 13863, 13866, 13867, 13869, 13873, 13880, 13886, 13890, 13895, 13896, 13898, 13899, 13901, 13902, 13905, 13906, 13907, 13908, 13909, 13910, 13913, 13915, 13917, 13925, 13927, 13931, 13932, 13933, 13934, 13935, 13937, 13938, 13942, 13943, 13946, 13947, 13948, 13949, 13950, 13956, 13959, 13962, 13964, 13965, 13966, 13968, 13969, 13972, 13979, 13981, 13987, 13988, 13993, 13995, 13996, 13997, 13998, 14001, 14002, 14003, 14006, 14011, 14012, 14013, 14017, 14018, 14019, 14021, 14023, 14030, 14031, 14032, 14033, 14035, 14036, 14038, 14043, 14045, 14046, 14047, 14050, 14054, 14057, 14061, 14065, 14069, 14070, 14071, 14072, 14073, 14074, 14075, 14084, 14086, 14090, 14091, 14093, 14099, 14100, 14102, 14103, 14104, 14108, 14109, 14112, 14114, 14115, 14116, 14117, 14118, 14120, 14121, 14122, 14123, 14126, 14128, 14129, 14130, 14134, 14140, 14141, 14147, 14149, 14151, 14153, 14156, 14158, 14161, 14162, 14167, 14169, 14171, 14172, 14173, 14176, 14177, 14180, 14181, 14184, 14186, 14188, 14190, 14191, 14192, 14193, 14196, 14197, 14198, 14200, 14202, 14203, 14205, 14207, 14211, 14212, 14213, 14215, 14218, 14219, 14220, 14221, 14227, 14230, 14232, 14233, 14234, 14238, 14241, 14243, 14245, 14246, 14248, 14251, 14252, 14253, 14257, 14259, 14261, 14263, 14266, 14272, 14273, 14274, 14275, 14276, 14277, 14279, 14281, 14282, 14284, 14285, 14286, 14288, 14289, 14290, 14296, 14299, 14300, 14302, 14306, 14307, 14311, 14312, 14313, 14316, 14318, 14323, 14326, 14329, 14331, 14332, 14333, 14334, 14336, 14338, 14339, 14341, 14345, 14346, 14347, 14352, 14353, 14356, 14358, 14359, 14362, 14363, 14364, 14366, 14374, 14375, 14377, 14382, 14383, 14385, 14388, 14390, 14391, 14395, 14399, 14401, 14405, 14409, 14410, 14413, 14414, 14415, 14419, 14420, 14422, 14423, 14424, 14426, 14430, 14431, 14432, 14436, 14440, 14441, 14442, 14445, 14447, 14448, 14450, 14451, 14454, 14455, 14458, 14462, 14463, 14464, 14465, 14471, 14472, 14473, 14476, 14477, 14478, 14480, 14481, 14485, 14486, 14487, 14488, 14489, 14490, 14491, 14494, 14496, 14499, 14503, 14504, 14506, 14509, 14513, 14517, 14518, 14520, 14521, 14522, 14523, 14524, 14525, 14526, 14529, 14530, 14531, 14538, 14540, 14541, 14542, 14543, 14544, 14546, 14548, 14549, 14550, 14552, 14553, 14556, 14558, 14559, 14561, 14563, 14564, 14565, 14570, 14571, 14573, 14577, 14580, 14582, 14584, 14589, 14591, 14592, 14593, 14595, 14597, 14604, 14613, 14614, 14615, 14616, 14618, 14620, 14621, 14622, 14626, 14627, 14628, 14633, 14636, 14640, 14643, 14648, 14651, 14654, 14656, 14657, 14660, 14661, 14667, 14668, 14670, 14672, 14673, 14674, 14675, 14677, 14678, 14679, 14681, 14682, 14683, 14685, 14686, 14687, 14693, 14694, 14695, 14696, 14699, 14700, 14702, 14704, 14706, 14708, 14709, 14713, 14714, 14717, 14719, 14721, 14723, 14725, 14728, 14729, 14731, 14732, 14733, 14739, 14740, 14741, 14742, 14743, 14748, 14752, 14754, 14759, 14760, 14763, 14775, 14779, 14780, 14788, 14791, 14792, 14793, 14795, 14796, 14799, 14802, 14803, 14804, 14806, 14807, 14808, 14809, 14810, 14811, 14813, 14814, 14815, 14817, 14818, 14821, 14825, 14829, 14832, 14836, 14838, 14839, 14841, 14842, 14843, 14844, 14845, 14851, 14852, 14854, 14859, 14860, 14861, 14863, 14865, 14867, 14875, 14876, 14877, 14879, 14882, 14883, 14884, 14888, 14891, 14897, 14899, 14902, 14905, 14909, 14910, 14917, 14919, 14926, 14928, 14929, 14933, 14935, 14937, 14939, 14940, 14941, 14942, 14946, 14947, 14951, 14954, 14956, 14957, 14960, 14961, 14963, 14965, 14967, 14972, 14973, 14974, 14975, 14978, 14980, 14981, 14982, 14984, 14986, 14987, 14991, 14997, 14999, 15002, 15005, 15006, 15008, 15010, 15012, 15018, 15020, 15021, 15026, 15029, 15032, 15036, 15038, 15042, 15043, 15044, 15047, 15053, 15054, 15057, 15058, 15062, 15063, 15072, 15073, 15074, 15075, 15077, 15078, 15079, 15081, 15082, 15084, 15086, 15089, 15090, 15092, 15093, 15096, 15097, 15098, 15100, 15103, 15108, 15112, 15117, 15119, 15120, 15121, 15122, 15125, 15128, 15130, 15132, 15134, 15138, 15139, 15140, 15148, 15149, 15153, 15156, 15157, 15165, 15166, 15167, 15169, 15171, 15175, 15178, 15179, 15180, 15182, 15184, 15187, 15188, 15189, 15190, 15193, 15194, 15195, 15197, 15199, 15202, 15204, 15205, 15207, 15208, 15209, 15214, 15217, 15218, 15219, 15221, 15222, 15225, 15226, 15228, 15230, 15235, 15236, 15242, 15246, 15248, 15252, 15253, 15257, 15263, 15265, 15266, 15270, 15279, 15280, 15286, 15287, 15289, 15291, 15292, 15293, 15295, 15298, 15299, 15302, 15304, 15305, 15306, 15308, 15309, 15310, 15319, 15322, 15326, 15327, 15328, 15330, 15333, 15335, 15340, 15341, 15345, 15346, 15352, 15353, 15354, 15355, 15356, 15357, 15358, 15360, 15366, 15367, 15370, 15374, 15377, 15379, 15380, 15386, 15387, 15388, 15389, 15390, 15396, 15400, 15402, 15410, 15412, 15413, 15414, 15416, 15420, 15421, 15422, 15425, 15426, 15428, 15430, 15431, 15432, 15434, 15438, 15439, 15440, 15441, 15442, 15443, 15444, 15447, 15450, 15453, 15454, 15459, 15464, 15469, 15471, 15473, 15478, 15480, 15481, 15482, 15488, 15493, 15504, 15506, 15510, 15516, 15519, 15521, 15522, 15523, 15524, 15537, 15538, 15540, 15545, 15549, 15554, 15558, 15560, 15561, 15562, 15563, 15566, 15567, 15569, 15572, 15574, 15575, 15577, 15579, 15582, 15583, 15584, 15585, 15586, 15587, 15591, 15592, 15594, 15596, 15610, 15611, 15612, 15616, 15619, 15622, 15628, 15629, 15632, 15634, 15635, 15643, 15645, 15646, 15647, 15648, 15651, 15653, 15655, 15660, 15661, 15662, 15665, 15666, 15669, 15677, 15679, 15682, 15685, 15687, 15688, 15691, 15694, 15696, 15704, 15705, 15708, 15709, 15712, 15714, 15717, 15718, 15720, 15721, 15722, 15726, 15727, 15729, 15732, 15733, 15736, 15737, 15744, 15745, 15747, 15751, 15757, 15758, 15759, 15761, 15762, 15765, 15766, 15772, 15773, 15774, 15775, 15780, 15782, 15783, 15788, 15789, 15791, 15792, 15794, 15796, 15797, 15799, 15800, 15801, 15806, 15807, 15808, 15809, 15810, 15811, 15812, 15813, 15818, 15819, 15823, 15824, 15826, 15827, 15832, 15836, 15837, 15840, 15842, 15844, 15845, 15847, 15850, 15855, 15856, 15858, 15859, 15861, 15862, 15864, 15867, 15870, 15871, 15873, 15874, 15879, 15880, 15881, 15885, 15886, 15890, 15896, 15897, 15899, 15901, 15903, 15905, 15906, 15907, 15908, 15910, 15911, 15915, 15920, 15921, 15923, 15925, 15933, 15934, 15940, 15941, 15943, 15944, 15947, 15949, 15950, 15951, 15955, 15956, 15957, 15958, 15964, 15967, 15968, 15969, 15972, 15973, 15976, 15978, 15980, 15981, 15984, 15988, 15989, 15990, 15992, 15993, 15994, 15998, 15999, 16002, 16004, 16007, 16008, 16010, 16012, 16020, 16023, 16028, 16029, 16030, 16031, 16038, 16044, 16048, 16050, 16052, 16053, 16054, 16057, 16059, 16060, 16063, 16070, 16071, 16077, 16079, 16080, 16083, 16087, 16088, 16090, 16091, 16092, 16094, 16100, 16103, 16105, 16107, 16110, 16113, 16114, 16116, 16121, 16125, 16126, 16127, 16128, 16131, 16132, 16135, 16138, 16140, 16141, 16142, 16143, 16144, 16154, 16155, 16156, 16157, 16158, 16159, 16160, 16162, 16163, 16168, 16170, 16171, 16173, 16179, 16180, 16183, 16184, 16185, 16186, 16188, 16189, 16190, 16191, 16193, 16200, 16201, 16204, 16211, 16212, 16213, 16218, 16221, 16223, 16224, 16225, 16226, 16231, 16232, 16234, 16236, 16239, 16245, 16248, 16249, 16250, 16251, 16252, 16253, 16255, 16257, 16259, 16262, 16263, 16264, 16266, 16270, 16272, 16275, 16276, 16277, 16281, 16284, 16285, 16287, 16290, 16294, 16301, 16305, 16307, 16308, 16310, 16319, 16320, 16323, 16325, 16326, 16329, 16331, 16334, 16338, 16340, 16341, 16345, 16349, 16356, 16360, 16362, 16365, 16366, 16367, 16370, 16379, 16382, 16385, 16388, 16390, 16396, 16398, 16401, 16403, 16404, 16405, 16409, 16410, 16411, 16418, 16419, 16421, 16422, 16423, 16426, 16427, 16428, 16431, 16432, 16435, 16438, 16440, 16441, 16443, 16446, 16447, 16448, 16452, 16455, 16456, 16462, 16465, 16472, 16475, 16479, 16480, 16481, 16485, 16487, 16489, 16499, 16500, 16506, 16509, 16511, 16513, 16514, 16519, 16521, 16522, 16526, 16531, 16534, 16536, 16538, 16542, 16544, 16545, 16549, 16553, 16554, 16555, 16556, 16557, 16561, 16563, 16566, 16568, 16570, 16575, 16577, 16580, 16581, 16584, 16586, 16587, 16589, 16590, 16592, 16596, 16598, 16603, 16604, 16605, 16616, 16617, 16626, 16627, 16630, 16633, 16636, 16637, 16638, 16639, 16643, 16644, 16645, 16646, 16649, 16650, 16654, 16656, 16658, 16664, 16669, 16670, 16671, 16677, 16678, 16679, 16684, 16686, 16692, 16699, 16700, 16701, 16706, 16709, 16711, 16712, 16713, 16714, 16716, 16717, 16718, 16719, 16720, 16723, 16724, 16726, 16729, 16731, 16738, 16739, 16740, 16744, 16745, 16746, 16750, 16754, 16755, 16761, 16762, 16763, 16765, 16767, 16768, 16773, 16775, 16778, 16781, 16784, 16785, 16786, 16791, 16796, 16800, 16803, 16805, 16808, 16811, 16812, 16814, 16815, 16816, 16817, 16818, 16819, 16822, 16823, 16828, 16829, 16830, 16833, 16834, 16835, 16838, 16839, 16840, 16841, 16842, 16843, 16844, 16846, 16847, 16850, 16851, 16852, 16853, 16856, 16857, 16859, 16861, 16866, 16867, 16870, 16872, 16873, 16878, 16879, 16881, 16882, 16886, 16890, 16892, 16894, 16895, 16898, 16900, 16901, 16902, 16903, 16906, 16909, 16912, 16913, 16914, 16916, 16917, 16918, 16922, 16925, 16927, 16929, 16930, 16932, 16935, 16938, 16939, 16940, 16942, 16943, 16944, 16945, 16946, 16947, 16949, 16952, 16955, 16957, 16959, 16963, 16966, 16973, 16976, 16979, 16982, 16985, 16990, 16994, 17004, 17007, 17008, 17009, 17011, 17012, 17013, 17015, 17016, 17018, 17020, 17022, 17023, 17028, 17034, 17035, 17036, 17038, 17039, 17043, 17048, 17057, 17058, 17060, 17062, 17065, 17069, 17071, 17072, 17074, 17078, 17079, 17081, 17085, 17088, 17090, 17092, 17093, 17095, 17096, 17097, 17098, 17101, 17106, 17107, 17109, 17113, 17115, 17116, 17117, 17118, 17120, 17121, 17122, 17123, 17124, 17125, 17130, 17133, 17134, 17140, 17142, 17146, 17147, 17148, 17152, 17153, 17154, 17156, 17158, 17159, 17162, 17164, 17166, 17167, 17169, 17170, 17173, 17175, 17176, 17180, 17181, 17182, 17183, 17184, 17185, 17186, 17188, 17189, 17191, 17193, 17194, 17195, 17201, 17203, 17205, 17206, 17208, 17209, 17213, 17214, 17218, 17221, 17222, 17223, 17225, 17226, 17232, 17239, 17241, 17244, 17249, 17251, 17252, 17256, 17258, 17259, 17261, 17262, 17263, 17265, 17266, 17270, 17273, 17274, 17276, 17281, 17285, 17287, 17288, 17294, 17295, 17297, 17298, 17304, 17307, 17308, 17309, 17310, 17313, 17316, 17317, 17318, 17320, 17324, 17328, 17329, 17330, 17331, 17335, 17337, 17340, 17348, 17350, 17353, 17356, 17359, 17360, 17361, 17363, 17366, 17369, 17374, 17381, 17382, 17383, 17389, 17392, 17393, 17394, 17397, 17398, 17399, 17409, 17410, 17411, 17415, 17420, 17422, 17431, 17432, 17435, 17437, 17440, 17441, 17443, 17448, 17449, 17454, 17457, 17458, 17459, 17460, 17463, 17467, 17471, 17472, 17475, 17477, 17480, 17482, 17485, 17488, 17490, 17491, 17492, 17493, 17494, 17496, 17500, 17501, 17503, 17504, 17507, 17508, 17509, 17510, 17511, 17514, 17515, 17516, 17517, 17519, 17522, 17525, 17526, 17527, 17528, 17529, 17530, 17532, 17533, 17535, 17538, 17541, 17544, 17548, 17553, 17558, 17561, 17562, 17563, 17564, 17565, 17566, 17568, 17569, 17570, 17573, 17577, 17581, 17583, 17593, 17594, 17597, 17598, 17600, 17601, 17603, 17605, 17606, 17612, 17613, 17616, 17618, 17623, 17624, 17630, 17631, 17632, 17635, 17636, 17638, 17639, 17646, 17647, 17648, 17649, 17650, 17652, 17664, 17665, 17667, 17671, 17674, 17676, 17677, 17683, 17685, 17686, 17687, 17688, 17690, 17691, 17694, 17696, 17700, 17702, 17704, 17707, 17711, 17713, 17716, 17719, 17722, 17725, 17726, 17727, 17728, 17729, 17730, 17735, 17736, 17737, 17739, 17742, 17743, 17747, 17751, 17752, 17754, 17755, 17756, 17757, 17758, 17759, 17761, 17764, 17766, 17767, 17772, 17775, 17776, 17779, 17781, 17782, 17784, 17787, 17789, 17792, 17795, 17796, 17797, 17799, 17800, 17801, 17803, 17805, 17806, 17807, 17808, 17809, 17810, 17812, 17817, 17819, 17830, 17832, 17833, 17841, 17845, 17850, 17853, 17855, 17856, 17858, 17860, 17861, 17862, 17865, 17870, 17873, 17875, 17877, 17878, 17879, 17880, 17881, 17882, 17883, 17884, 17886, 17887, 17890, 17893, 17894, 17895, 17896, 17897, 17898, 17899, 17900, 17901, 17903, 17908, 17909, 17910, 17912, 17913, 17915, 17916, 17923, 17931, 17933, 17934, 17936, 17937, 17939, 17940, 17941, 17947, 17949, 17950, 17952, 17958, 17959, 17961, 17962, 17964, 17966, 17970, 17972, 17974, 17977, 17979, 17980, 17981, 17983, 17984, 17989, 17999, 18001, 18002, 18003, 18005, 18008, 18010, 18011, 18015, 18016, 18018, 18019, 18020, 18021, 18024, 18028, 18029, 18030, 18031, 18032, 18033, 18035, 18037, 18040, 18042, 18044, 18045, 18047, 18048, 18049, 18051, 18053, 18055, 18056, 18057, 18060, 18065, 18066, 18067, 18069, 18072, 18077, 18078, 18079, 18082, 18083, 18084, 18088, 18091, 18093, 18096, 18103, 18111, 18116, 18117, 18118, 18122, 18124, 18128, 18129, 18134, 18137, 18138, 18142, 18149, 18152, 18155, 18156, 18158, 18163, 18165, 18168, 18175, 18176, 18178, 18179, 18181, 18186, 18188, 18189, 18192, 18194, 18196, 18201, 18203, 18206, 18209, 18210, 18213, 18215, 18217, 18218, 18219, 18221, 18224, 18225, 18226, 18227, 18230, 18231, 18233, 18235, 18237, 18244, 18245, 18247, 18248, 18252, 18254, 18255, 18258, 18259, 18260, 18263, 18268, 18269, 18271, 18277, 18278, 18286, 18287, 18289, 18290, 18294, 18296, 18297, 18299, 18303, 18306, 18308, 18310, 18311, 18314, 18316, 18318, 18319, 18320, 18323, 18330, 18332, 18333, 18334, 18338, 18339, 18340, 18341, 18343, 18348, 18350, 18351, 18356, 18358, 18360, 18362, 18365, 18366, 18367, 18368, 18369, 18370, 18376, 18380, 18383, 18386, 18389, 18391, 18392, 18393, 18397, 18399, 18400, 18402, 18403, 18404, 18405, 18407, 18408, 18415, 18416, 18417, 18421, 18426, 18427, 18428, 18429, 18431, 18435, 18437, 18441, 18443, 18445, 18446, 18447, 18450, 18451, 18452, 18453, 18456, 18458, 18462, 18464, 18465, 18466, 18468, 18469, 18470, 18471, 18472, 18474, 18480, 18482, 18483, 18489, 18491, 18492, 18493, 18494, 18496, 18497, 18498, 18499, 18501, 18502, 18505, 18507, 18510, 18513, 18515, 18517, 18519, 18521, 18524, 18526, 18527, 18531, 18532, 18533, 18534, 18536, 18539, 18542, 18546, 18547, 18548, 18553, 18554, 18555, 18556, 18560, 18561, 18562, 18564, 18566, 18567, 18570, 18578, 18581, 18593, 18596, 18597, 18599, 18600, 18604, 18606, 18609, 18611, 18612, 18613, 18614, 18615, 18617, 18618, 18620, 18621, 18622, 18624, 18625, 18626, 18630, 18631, 18635, 18638, 18640, 18641, 18642, 18644, 18645, 18650, 18654, 18656, 18658, 18666, 18667, 18668, 18669, 18670, 18671, 18673, 18677, 18678, 18679, 18685, 18686, 18692, 18693, 18697, 18698, 18699, 18701, 18702, 18704, 18705, 18714, 18715, 18717, 18718, 18722, 18723, 18725, 18726, 18728, 18733, 18737, 18738, 18739, 18740, 18742, 18749, 18750, 18751, 18754, 18755, 18756, 18757, 18758, 18766, 18771, 18772, 18773, 18776, 18779, 18783, 18784, 18785, 18793, 18799, 18801, 18802, 18803, 18806, 18807, 18810, 18811, 18813, 18815, 18819, 18820, 18821, 18823, 18826, 18827, 18830, 18833, 18834, 18838, 18844, 18846, 18847, 18850, 18851, 18856, 18862, 18864, 18865, 18867, 18869, 18872, 18873, 18874, 18875, 18876, 18880, 18882, 18883, 18885, 18886, 18900, 18901, 18904, 18905, 18906, 18909, 18910, 18912, 18915, 18917, 18919, 18920, 18923, 18926, 18934, 18936, 18938, 18941, 18942, 18945, 18949, 18952, 18955, 18958, 18962, 18964, 18970, 18980, 18984, 18989, 18990, 18991, 18992, 18994, 18995, 18996, 18997, 18998, 19000, 19001, 19007, 19011, 19012, 19013, 19020, 19021, 19023, 19024, 19026, 19027, 19030, 19032, 19034, 19035, 19039, 19040, 19043, 19044, 19045, 19046, 19047, 19048, 19051, 19052, 19054, 19055, 19056, 19057, 19060, 19061, 19065, 19069, 19074, 19075, 19076, 19077, 19079, 19080, 19083, 19086, 19089, 19091, 19097, 19100, 19101, 19103, 19105, 19106, 19109, 19110, 19112, 19113, 19118, 19119, 19124, 19125, 19130, 19132, 19134, 19137, 19145, 19146, 19148, 19150, 19152, 19154, 19156, 19160, 19161, 19162, 19165, 19171, 19173, 19176, 19178, 19179, 19181, 19182, 19183, 19185, 19186, 19187, 19189, 19190, 19191, 19192, 19194, 19196, 19199, 19200, 19204, 19208, 19210, 19212, 19216, 19220, 19223, 19227, 19228, 19232, 19233, 19238, 19239, 19240, 19242, 19243, 19244, 19246, 19247, 19249, 19254, 19259, 19261, 19262, 19268, 19271, 19272, 19273, 19275, 19276, 19281, 19283, 19285, 19286, 19288, 19291, 19295, 19297, 19298, 19299, 19304, 19307, 19308, 19309, 19311, 19313, 19314, 19315, 19318, 19322, 19323, 19326, 19327, 19331, 19332, 19333, 19342, 19343, 19344, 19352, 19354, 19356, 19360, 19366, 19368, 19369, 19371, 19374, 19375, 19378, 19382, 19383, 19385, 19388, 19392, 19394, 19398, 19399, 19401, 19402, 19404, 19411, 19412, 19413, 19416, 19418, 19420, 19422, 19423, 19429, 19432, 19434, 19443, 19448, 19450, 19451, 19453, 19455, 19456, 19458, 19461, 19462, 19463, 19464, 19469, 19475, 19476, 19480, 19481, 19486, 19492, 19496, 19497, 19502, 19504, 19507, 19514, 19515, 19516, 19517, 19518, 19525, 19526, 19532, 19533, 19541, 19543, 19548, 19549, 19553, 19554, 19557, 19560, 19561, 19562, 19565, 19566, 19569, 19572, 19575, 19577, 19580, 19581, 19585, 19588, 19589, 19594, 19599, 19601, 19603, 19609, 19610, 19612, 19613, 19614, 19615, 19620, 19622, 19623, 19626, 19630, 19631, 19633, 19636, 19637, 19638, 19639, 19645, 19647, 19649, 19650, 19654, 19658, 19660, 19664, 19665, 19673, 19674, 19682, 19684, 19688, 19690, 19694, 19697, 19704, 19707, 19708, 19711, 19712, 19715, 19722, 19723, 19726, 19727, 19728, 19737, 19738, 19742, 19743, 19744, 19746, 19749, 19750, 19751, 19755, 19756, 19759, 19760, 19761, 19762, 19763, 19765, 19766, 19769, 19771, 19772, 19776, 19777, 19778, 19779, 19781, 19783, 19784, 19787, 19788, 19791, 19793, 19794, 19795, 19804, 19808, 19810, 19812, 19814, 19815, 19817, 19819, 19820, 19821, 19829, 19831, 19832, 19833, 19839, 19840, 19843, 19846, 19851, 19853, 19854, 19855, 19858, 19859, 19860, 19862, 19864, 19871, 19872, 19873, 19878, 19882, 19883, 19885, 19886, 19889, 19890, 19896, 19898, 19904, 19905, 19907, 19908, 19909, 19910, 19913, 19915, 19929, 19930, 19932, 19934, 19938, 19939, 19942, 19944, 19945, 19947, 19949, 19951, 19962, 19963, 19964, 19968, 19970, 19971, 19972, 19978, 19980, 19984, 19986, 19987, 19989, 19993, 19994, 19996, 19998, 20004, 20009, 20011, 20013, 20014, 20016, 20018, 20019, 20021, 20022, 20026, 20028, 20029, 20031, 20032, 20036, 20039, 20040, 20041, 20045, 20048, 20049, 20051, 20056, 20059, 20061, 20062, 20063, 20064, 20065, 20072, 20074, 20076, 20077, 20078, 20079, 20080, 20081, 20084, 20092, 20095, 20099, 20105, 20106, 20107, 20108, 20110, 20111, 20113, 20114, 20115, 20118, 20120, 20122, 20124, 20126, 20128, 20129, 20131, 20133, 20137, 20138, 20140, 20141, 20145, 20146, 20148, 20150, 20157, 20158, 20159, 20162, 20164, 20165, 20167, 20169, 20171, 20173, 20177, 20178, 20180, 20184, 20185, 20186, 20188, 20189, 20190, 20192, 20194, 20203, 20209, 20211, 20215, 20217, 20218, 20219, 20221, 20223, 20224, 20228, 20229, 20230, 20231, 20233, 20234, 20245, 20246, 20255, 20256, 20267, 20269, 20270, 20271, 20273, 20274, 20276, 20280, 20282, 20284, 20287, 20289, 20291, 20292, 20301, 20304, 20305, 20306, 20308, 20311, 20312, 20313, 20314, 20316, 20317, 20323, 20324, 20326, 20327, 20328, 20332, 20334, 20335, 20339, 20342, 20343, 20344, 20345, 20348, 20350, 20352, 20353, 20354, 20361, 20364, 20365, 20368, 20371, 20372, 20376, 20377, 20378, 20380, 20381, 20385, 20388, 20390, 20393, 20394, 20398, 20400, 20402, 20407, 20408, 20411, 20414, 20419, 20420, 20421, 20423, 20428, 20431, 20434, 20438, 20439, 20442, 20443, 20445, 20452, 20453, 20455, 20456, 20458, 20461, 20462, 20463, 20464, 20467, 20469, 20470, 20471, 20472, 20478, 20479, 20481, 20482, 20484, 20488, 20489, 20490, 20492, 20496, 20499, 20502, 20503, 20504, 20513, 20514, 20518, 20519, 20520, 20523, 20524, 20525, 20527, 20528, 20532, 20537, 20539, 20543, 20548, 20549, 20551, 20552, 20553, 20554, 20555, 20556, 20562, 20564, 20565, 20568, 20569, 20570, 20571, 20572, 20575, 20578, 20579, 20582, 20588, 20590, 20592, 20593, 20594, 20597, 20599, 20600, 20602, 20604, 20605, 20606, 20613, 20615, 20620, 20624, 20625, 20627, 20628, 20629, 20630, 20631, 20632, 20634, 20635, 20636, 20638, 20639, 20640, 20642, 20654, 20656, 20659, 20660, 20663, 20664, 20667, 20673, 20676, 20677, 20679, 20681, 20683, 20684, 20685, 20688, 20690, 20691, 20692, 20693, 20694, 20699, 20700, 20701, 20703, 20705, 20706, 20708, 20709, 20711, 20714, 20716, 20720, 20733, 20734, 20735, 20738, 20739, 20740, 20749, 20750, 20751, 20754, 20760, 20761, 20762, 20765, 20766, 20769, 20770, 20771, 20772, 20775, 20780, 20781, 20783, 20792, 20799, 20800, 20803, 20804, 20810, 20815, 20817, 20818, 20819, 20820, 20821, 20825, 20827, 20830, 20831, 20832, 20834, 20838, 20840, 20841, 20842, 20843, 20846, 20848, 20854, 20859, 20860, 20864, 20866, 20867, 20871, 20873, 20877, 20878, 20884, 20891, 20894, 20895, 20898, 20901, 20904, 20906, 20907, 20908, 20909, 20910, 20911, 20914, 20915, 20918, 20923, 20926, 20927, 20928, 20929, 20930, 20933, 20935, 20936, 20938, 20940, 20942, 20945, 20946, 20947, 20948, 20953, 20961, 20962, 20964, 20974, 20976, 20977, 20978, 20983, 20984, 20985, 20987, 20989, 20990, 20991, 20993, 20997, 21000, 21004, 21014, 21015, 21018, 21019, 21020, 21021, 21030, 21031, 21035, 21039, 21040, 21043, 21045, 21047, 21048, 21052, 21053, 21056, 21061, 21064, 21065, 21069, 21070, 21071, 21074, 21078, 21079, 21081, 21083, 21086, 21087, 21093, 21094, 21095, 21105, 21109, 21110, 21112, 21114, 21117, 21118, 21119, 21121, 21122, 21123, 21132, 21137, 21141, 21143, 21147, 21148, 21149, 21153, 21154, 21155, 21157, 21158, 21162, 21165, 21166, 21167, 21168, 21170, 21175, 21176, 21178, 21181, 21183, 21186, 21187, 21188, 21189, 21192, 21193, 21195, 21197, 21198, 21199, 21200, 21201, 21202, 21205, 21208, 21211, 21213, 21214, 21218, 21220, 21225, 21228, 21230, 21233, 21235, 21236, 21238, 21239, 21241, 21242, 21243, 21244, 21245, 21246, 21247, 21248, 21250, 21252, 21254, 21259, 21261, 21262, 21265, 21279, 21281, 21282, 21283, 21285, 21286, 21288, 21289, 21290, 21291, 21295, 21296, 21301, 21307, 21314, 21318, 21322, 21323, 21330, 21333, 21337, 21339, 21342, 21343, 21346, 21350, 21352, 21355, 21356, 21358, 21359, 21361, 21363, 21364, 21365, 21369, 21370, 21371, 21373, 21374, 21375, 21389, 21390, 21394, 21395, 21398, 21405, 21406, 21412, 21414, 21415, 21417, 21418, 21420, 21421, 21423, 21425, 21430, 21432, 21433, 21446, 21449, 21450, 21453, 21456, 21460, 21461, 21463, 21464, 21465, 21472, 21475, 21476, 21487, 21488, 21490, 21491, 21492, 21497, 21500, 21501, 21502, 21504, 21505, 21507, 21512, 21514, 21517, 21522, 21524, 21525, 21526, 21529, 21530, 21535, 21536, 21538, 21540, 21541, 21542, 21543, 21545, 21549, 21550, 21551, 21553, 21557, 21558, 21561, 21564, 21565, 21566, 21569, 21570, 21573, 21574, 21575, 21581, 21582, 21583, 21587, 21589, 21590, 21592, 21594, 21597, 21599, 21600, 21601, 21602, 21603, 21607, 21608, 21611, 21614, 21617, 21621, 21625, 21627, 21630, 21631, 21633, 21634, 21638, 21640, 21641, 21642, 21644, 21646, 21649, 21657, 21658, 21659, 21662, 21664, 21666, 21667, 21669, 21670, 21674, 21680, 21681, 21682, 21687, 21689, 21691, 21693, 21694, 21696, 21701, 21710, 21711, 21718, 21719, 21720, 21721, 21722, 21724, 21725, 21728, 21729, 21730, 21731, 21733, 21734, 21737, 21738, 21739, 21740, 21748, 21750, 21753, 21754, 21756, 21757, 21758, 21759, 21760, 21761, 21765, 21767, 21769, 21773, 21774, 21776, 21782, 21784, 21787, 21788, 21789, 21790, 21798, 21799, 21801, 21802, 21803, 21804, 21806, 21807, 21809, 21811, 21822, 21826, 21827, 21828, 21829, 21830, 21831, 21832, 21833, 21835, 21837, 21844, 21847, 21848, 21852, 21853, 21858, 21859, 21862, 21863, 21865, 21866, 21868, 21870, 21874, 21875, 21877, 21878, 21879, 21887, 21890, 21891, 21894, 21895, 21901, 21902, 21904, 21906, 21908, 21911, 21913, 21916, 21918, 21920, 21921, 21923, 21924, 21931, 21933, 21934, 21936, 21941, 21944, 21945, 21946, 21947, 21950, 21954, 21955, 21956, 21957, 21958, 21961, 21963, 21964, 21967, 21968, 21969, 21972, 21976, 21979, 21983, 21984, 21989, 21991, 21992, 21994, 21996, 21997, 21998, 22002, 22003, 22004, 22010, 22015, 22016, 22019, 22020, 22021, 22024, 22026, 22029, 22032, 22036, 22037, 22038, 22039, 22040, 22041, 22042, 22043, 22045, 22046, 22050, 22051, 22052, 22056, 22057, 22060, 22066, 22067, 22068, 22069, 22070, 22074, 22075, 22076, 22078, 22079, 22083, 22085, 22086, 22095, 22097, 22099, 22101, 22105, 22107, 22112, 22113, 22117, 22123, 22124, 22125, 22126, 22127, 22129, 22133, 22141, 22142, 22143, 22145, 22149, 22150, 22153, 22154, 22156, 22159, 22160, 22165, 22169, 22172, 22175, 22179, 22180, 22184, 22185, 22186, 22189, 22191, 22193, 22194, 22195, 22197, 22198, 22199, 22202, 22203, 22204, 22206, 22207, 22211, 22219, 22220, 22224, 22226, 22228, 22229, 22232, 22243, 22244, 22246, 22247, 22248, 22249, 22254, 22260, 22263, 22265, 22266, 22267, 22269, 22272, 22273, 22274, 22276, 22279, 22284, 22285, 22286, 22288, 22295, 22296, 22297, 22298, 22299, 22306, 22308, 22309, 22312, 22315, 22317, 22319, 22321, 22322, 22323, 22325, 22327, 22328, 22329, 22331, 22332, 22335, 22336, 22337, 22339, 22340, 22341, 22342, 22344, 22347, 22348, 22349, 22352, 22353, 22360, 22361, 22362, 22364, 22367, 22375, 22379, 22380, 22382, 22385, 22386, 22387, 22391, 22393, 22399, 22403, 22404, 22407, 22409, 22410, 22412, 22415, 22421, 22423, 22425, 22426, 22427, 22428, 22429, 22434, 22436, 22440, 22442, 22445, 22446, 22447, 22448, 22449, 22454, 22455, 22456, 22457, 22460, 22463, 22468, 22469, 22471, 22474, 22475, 22476, 22480, 22481, 22485, 22489, 22492, 22494, 22497, 22499, 22501, 22502, 22503, 22508, 22511, 22513, 22515, 22516, 22519, 22521, 22523, 22524, 22525, 22526, 22528, 22529, 22533, 22534, 22536, 22537, 22543, 22544, 22549, 22552, 22557, 22558, 22560, 22561, 22563, 22566, 22567, 22571, 22573, 22576, 22579, 22584, 22587, 22588, 22589, 22590, 22591, 22594, 22595, 22600, 22602, 22606, 22607, 22610, 22612, 22615, 22619, 22622, 22623, 22625, 22626, 22627, 22628, 22630, 22638, 22639, 22641, 22642, 22643, 22645, 22647, 22648, 22651, 22652, 22653, 22657, 22676, 22682, 22686, 22688, 22689, 22691, 22692, 22695, 22696, 22698, 22699, 22700, 22701, 22702, 22703, 22705, 22707, 22711, 22713, 22714, 22715, 22718, 22719, 22720, 22721, 22728, 22730, 22731, 22732, 22733, 22735, 22741, 22757, 22759, 22760, 22767, 22768, 22773, 22774, 22775, 22778, 22779, 22781, 22782, 22791, 22794, 22796, 22797, 22799, 22800, 22802, 22804, 22808, 22812, 22813, 22819, 22820, 22822, 22826, 22827, 22829, 22830, 22833, 22836, 22837, 22838, 22846, 22851, 22854, 22858, 22859, 22860, 22861, 22862, 22863, 22865, 22870, 22871, 22872, 22875, 22876, 22878, 22881, 22882, 22883, 22886, 22887, 22893, 22899, 22902, 22903, 22904, 22906, 22910, 22911, 22913, 22914, 22919, 22922, 22923, 22928, 22933, 22934, 22936, 22937, 22940, 22941, 22943, 22946, 22947, 22950, 22953, 22957, 22958, 22960, 22962, 22969, 22972, 22973, 22974, 22975, 22977, 22980, 22981, 22983, 22990, 23000, 23001, 23004, 23005, 23006, 23008, 23010, 23011, 23015, 23017, 23018, 23020, 23022, 23025, 23027, 23029, 23032, 23037, 23039, 23041, 23044, 23045, 23046, 23048, 23049, 23055, 23059, 23060, 23063, 23064, 23068, 23069, 23070, 23071, 23074, 23076, 23081, 23082, 23083, 23085, 23086, 23089, 23092, 23096, 23099, 23100, 23101, 23103, 23104, 23105, 23106, 23108, 23109, 23111, 23112, 23113, 23114, 23118, 23119, 23121, 23123, 23126, 23127, 23130, 23132, 23133, 23135, 23137, 23142, 23143, 23144, 23145, 23146, 23147, 23149, 23154, 23155, 23157, 23158, 23159, 23161, 23162, 23164, 23170, 23172, 23176, 23179, 23180, 23183, 23185, 23186, 23187, 23189, 23191, 23193, 23199, 23200, 23201, 23205, 23206, 23216, 23217, 23219, 23221, 23222, 23225, 23226, 23234, 23235, 23236, 23237, 23238, 23240, 23242, 23245, 23252, 23254, 23255, 23257, 23258, 23263, 23264, 23268, 23270, 23284, 23285, 23286, 23289, 23290, 23292, 23293, 23302, 23304, 23305, 23306, 23308, 23311, 23312, 23317, 23319, 23324, 23325, 23326, 23328, 23333, 23337, 23339, 23341, 23342, 23344, 23345, 23346, 23349, 23353, 23354, 23355, 23360, 23361, 23366, 23368, 23369, 23371, 23372, 23375, 23376, 23377, 23378, 23379, 23382, 23383, 23385, 23388, 23389, 23390, 23392, 23394, 23395, 23399, 23400, 23401, 23404, 23406, 23407, 23410, 23413, 23416, 23417, 23418, 23419, 23421, 23422, 23423, 23424, 23425, 23430, 23438, 23441, 23445, 23446, 23447, 23450, 23452, 23453, 23454, 23455, 23458, 23460, 23462, 23463, 23465, 23466, 23467, 23470, 23472, 23473, 23475, 23476, 23478, 23479, 23480, 23482, 23488, 23490, 23493, 23494, 23499, 23500, 23503, 23508, 23510, 23513, 23514, 23520, 23522, 23528, 23529, 23531, 23534, 23537, 23539, 23540, 23541, 23545, 23546, 23548, 23552, 23560, 23561, 23563, 23567, 23571, 23573, 23574, 23576, 23582, 23585, 23589, 23590, 23593, 23594, 23595, 23600, 23605, 23606, 23607, 23609, 23611, 23615, 23619, 23626, 23627, 23628, 23631, 23635, 23638, 23639, 23643, 23648, 23654, 23657, 23658, 23659, 23670, 23675, 23676, 23679, 23685, 23687, 23688, 23690, 23692, 23696, 23697, 23698, 23701, 23704, 23709, 23710, 23712, 23715, 23719, 23722, 23724, 23725, 23727, 23728, 23730, 23732, 23736, 23737, 23741, 23743, 23748, 23751, 23755, 23757, 23760, 23761, 23762, 23763, 23767, 23768, 23769, 23770, 23775, 23777, 23778, 23779, 23780, 23784, 23785, 23786, 23787, 23788, 23791, 23793, 23801, 23802, 23805, 23806, 23807, 23812, 23814, 23824, 23827, 23829, 23830, 23837, 23841, 23846, 23851, 23853, 23856, 23858, 23860, 23862, 23863, 23867, 23870, 23872, 23874, 23877, 23882, 23883, 23884, 23885, 23886, 23887, 23893, 23895, 23896, 23897, 23899, 23915, 23920, 23921, 23923, 23924, 23925, 23929, 23931, 23935, 23938, 23941, 23944, 23947, 23948, 23950, 23956, 23959, 23963, 23967, 23969, 23970, 23972, 23974, 23978, 23979, 23983, 23984, 23992, 23995, 23996, 23997, 23998, 23999, 24000, 24006, 24010, 24011, 24015, 24016, 24017, 24018, 24020, 24024, 24028, 24029, 24032, 24034, 24035, 24040, 24042, 24045, 24051, 24052, 24057, 24059, 24060, 24061, 24068, 24069, 24074, 24076, 24080, 24081, 24082, 24083, 24085, 24087, 24094, 24097, 24103, 24104, 24107, 24109, 24114, 24116, 24121, 24123, 24131, 24139, 24140, 24141, 24144, 24145, 24149, 24154, 24163, 24164, 24166, 24167, 24168, 24170, 24174, 24175, 24181, 24184, 24185, 24191, 24192, 24196, 24200, 24201, 24203, 24204, 24206, 24207, 24208, 24210, 24211, 24214, 24217, 24220, 24221, 24222, 24225, 24227, 24230, 24231, 24232, 24234, 24235, 24240, 24243, 24245, 24249, 24251, 24254, 24255, 24256, 24257, 24265, 24266, 24268, 24269, 24271, 24277, 24279, 24281, 24282, 24286, 24289, 24290, 24292, 24293, 24295, 24296, 24297, 24300, 24301, 24303, 24305, 24312, 24314, 24317, 24320, 24324, 24328, 24332, 24333, 24343, 24345, 24346, 24354, 24355, 24356, 24357, 24360, 24362, 24364, 24366, 24372, 24377, 24381, 24383, 24386, 24387, 24388, 24392, 24393, 24397, 24398, 24401, 24402, 24405, 24406, 24408, 24411, 24412, 24413, 24414, 24418, 24420, 24422, 24424, 24425, 24426, 24429, 24431, 24437, 24438, 24442, 24445, 24446, 24452, 24454, 24455, 24459, 24460, 24462, 24463, 24464, 24468, 24469, 24471, 24475, 24476, 24477, 24479, 24481, 24483, 24486, 24491, 24492, 24493, 24494, 24498, 24499, 24501, 24502, 24504, 24507, 24514, 24518, 24520, 24521, 24522, 24525, 24531, 24533, 24534, 24536, 24538, 24544, 24545, 24547, 24548, 24552, 24553, 24555, 24558, 24562, 24566, 24576, 24578, 24579, 24581, 24588, 24589, 24590, 24595, 24596, 24597, 24599, 24601, 24604, 24608, 24609, 24610, 24611, 24616, 24618, 24623, 24626, 24627, 24628, 24629, 24634, 24635, 24638, 24640, 24643, 24645, 24646, 24647, 24649, 24652, 24656, 24659, 24660, 24662, 24666, 24673, 24674, 24675, 24676, 24677, 24679, 24682, 24683, 24685, 24688, 24689, 24690, 24695, 24696, 24697, 24698, 24700, 24702, 24705, 24706, 24708, 24711, 24714, 24716, 24717, 24718, 24720, 24721, 24724, 24725, 24726, 24727, 24728, 24730, 24731, 24733, 24737, 24739, 24740, 24742, 24746, 24748, 24750, 24752, 24753, 24755, 24756, 24757, 24759, 24761, 24765, 24766, 24771, 24775, 24777, 24780, 24781, 24786, 24787, 24788, 24789, 24790, 24791, 24792, 24794, 24796, 24798, 24800, 24806, 24810, 24811, 24812, 24818, 24825, 24826, 24827, 24830, 24831, 24832, 24836, 24842, 24847, 24848, 24851, 24852, 24853, 24857, 24859, 24861, 24863, 24864, 24865, 24866, 24869, 24870, 24871, 24873, 24874, 24875, 24879, 24880, 24881, 24883, 24884, 24886, 24887, 24889, 24893, 24896, 24897, 24905, 24907, 24908, 24909, 24918, 24924, 24926, 24927, 24928, 24929, 24930, 24931, 24934, 24936, 24941, 24945, 24947, 24948, 24950, 24952, 24953, 24954, 24957, 24961, 24964, 24965, 24967, 24968, 24970, 24972, 24975, 24981, 24982, 24984, 24985, 24987, 24988, 24989, 24990, 24994, 24997, 25000, 25001, 25003, 25004, 25006, 25007, 25010, 25011, 25012, 25016, 25018, 25019, 25022, 25023, 25025, 25029, 25032, 25035, 25037, 25041, 25042, 25047, 25057, 25059, 25060, 25061, 25062, 25063, 25065, 25074, 25077, 25080, 25081, 25082, 25087, 25088, 25090, 25093, 25099, 25100, 25103, 25104, 25107, 25108, 25109, 25110, 25113, 25119, 25121, 25125, 25129, 25131, 25132, 25133, 25134, 25138, 25139, 25140, 25146, 25147, 25150, 25151, 25152, 25153, 25155, 25157, 25158, 25159, 25162, 25164, 25165, 25166, 25168, 25170, 25172, 25174, 25175, 25177, 25179, 25180, 25183, 25186, 25190, 25194, 25195, 25197, 25199, 25200, 25201, 25202, 25205, 25207, 25208, 25209, 25210, 25211, 25216, 25222, 25223, 25224, 25225, 25231, 25235, 25240, 25243, 25246, 25247, 25249, 25252, 25254, 25257, 25258, 25260, 25261, 25263, 25264, 25270, 25273, 25274, 25275, 25279, 25280, 25281, 25284, 25285, 25287, 25293, 25295, 25296, 25299, 25301, 25303, 25307, 25311, 25315, 25318, 25319, 25320, 25322, 25323, 25325, 25326, 25329, 25330, 25332, 25335, 25340, 25342, 25347, 25348, 25349, 25350, 25352, 25354, 25356, 25359, 25360, 25361, 25362, 25364, 25366, 25373, 25381, 25383, 25385, 25386, 25388, 25394, 25404, 25408, 25409, 25410, 25411, 25412, 25413, 25417, 25425, 25427, 25428, 25431, 25433, 25435, 25437, 25438, 25440, 25442, 25444, 25445, 25447, 25450, 25451, 25454, 25455, 25457, 25458, 25459, 25460, 25462, 25464, 25466, 25469, 25470, 25471, 25472, 25473, 25479, 25480, 25483, 25484, 25485, 25489, 25491, 25492, 25494, 25496, 25502, 25503, 25504, 25505, 25506, 25513, 25515, 25517, 25518, 25521, 25522, 25524, 25527, 25530, 25535, 25537, 25542, 25544, 25545, 25546, 25548, 25549, 25553, 25554, 25558, 25559, 25560, 25562, 25563, 25564, 25565, 25568, 25570, 25572, 25574, 25576, 25577, 25578, 25579, 25581, 25585, 25587, 25588, 25591, 25595, 25597, 25598, 25602, 25607, 25608, 25609, 25612, 25614, 25615, 25616, 25618, 25619, 25628, 25629, 25636, 25638, 25640, 25641, 25642, 25648, 25650, 25651, 25653, 25656, 25657, 25660, 25661, 25662, 25663, 25664, 25666, 25669, 25670, 25671, 25672, 25674, 25676, 25678, 25679, 25680, 25683, 25687, 25689, 25698, 25700, 25703, 25704, 25706, 25708, 25709, 25712, 25714, 25715, 25717, 25718, 25720, 25721, 25725, 25726, 25729, 25737, 25740, 25742, 25744, 25747, 25748, 25750, 25752, 25756, 25764, 25765, 25766, 25768, 25769, 25770, 25771, 25773, 25775, 25777, 25779, 25780, 25782, 25786, 25787, 25788, 25790, 25791, 25792, 25793, 25795, 25797, 25798, 25799, 25801, 25808, 25809, 25813, 25814, 25817, 25818, 25822, 25825, 25826, 25829, 25830, 25832, 25836, 25838, 25843, 25845, 25849, 25850, 25851, 25858, 25860, 25864, 25865, 25867, 25871, 25872, 25879, 25880, 25890, 25894, 25896, 25900, 25901, 25902, 25903, 25905, 25906, 25907, 25911, 25914, 25916, 25917, 25920, 25921, 25922, 25929, 25930, 25932, 25935, 25936, 25937, 25938, 25940, 25941, 25942, 25945, 25947, 25948, 25951, 25956, 25958, 25960, 25961, 25962, 25966, 25968, 25973, 25974, 25976, 25977, 25982, 25983, 25994, 26003, 26006, 26008, 26010, 26011, 26018, 26019, 26020, 26022, 26023, 26024, 26028, 26032, 26035, 26037, 26039, 26045, 26050, 26052, 26053, 26058, 26062, 26066, 26068, 26070, 26071, 26077, 26083, 26089, 26090, 26091, 26092, 26095, 26097, 26098, 26101, 26102, 26104, 26108, 26112, 26113, 26115, 26118, 26126, 26132, 26133, 26135, 26137, 26138, 26142, 26145, 26147, 26151, 26152, 26153, 26155, 26158, 26160, 26162, 26163, 26164, 26165, 26166, 26168, 26169, 26171, 26172, 26173, 26176, 26177, 26178, 26179, 26180, 26181, 26183, 26185, 26187, 26189, 26198, 26201, 26204, 26205, 26208, 26211, 26213, 26215, 26219, 26221, 26222, 26224, 26225, 26226, 26227, 26231, 26234, 26236, 26238, 26239, 26241, 26242, 26246, 26247, 26248, 26250, 26251, 26253, 26255, 26260, 26261, 26269, 26270, 26272, 26274, 26276, 26277, 26280, 26281, 26282, 26285, 26288, 26289, 26292, 26296, 26297, 26299, 26302, 26308, 26313, 26315, 26316, 26317, 26319, 26320, 26333, 26334, 26340, 26344, 26346, 26350, 26351, 26353, 26355, 26360, 26362, 26363, 26364, 26366, 26368, 26372, 26376, 26380, 26382, 26384, 26385, 26386, 26387, 26388, 26392, 26393, 26394, 26396, 26399, 26404, 26405, 26406, 26409, 26411, 26412, 26414, 26418, 26420, 26422, 26423, 26428, 26429, 26432, 26450, 26451, 26455, 26456, 26457, 26462, 26465, 26468, 26473, 26474, 26475, 26477, 26478, 26479, 26481, 26482, 26484, 26485, 26489, 26490, 26493, 26494, 26497, 26498, 26500, 26501, 26507, 26508, 26509, 26510, 26512, 26513, 26518, 26520, 26523, 26526, 26527, 26530, 26531, 26532, 26533, 26534, 26539, 26542, 26543, 26548, 26551, 26552, 26557, 26558, 26560, 26563, 26569, 26571, 26572, 26576, 26577, 26580, 26582, 26583, 26584, 26585, 26588, 26589, 26590, 26595, 26598, 26600, 26601, 26603, 26604, 26605, 26606, 26607, 26610, 26612, 26614, 26616, 26618, 26619, 26621, 26624, 26627, 26632, 26634, 26636, 26637, 26639, 26640, 26645, 26646, 26648, 26649, 26651, 26652, 26654, 26656, 26659, 26664, 26665, 26667, 26671, 26672, 26675, 26678, 26679, 26680, 26684, 26686, 26688, 26691, 26692, 26693, 26694, 26695, 26701, 26703, 26704, 26706, 26708, 26710, 26714, 26717, 26718, 26719, 26721, 26727, 26734, 26736, 26737, 26738, 26739, 26740, 26744, 26745, 26746, 26748, 26750, 26753, 26754, 26756, 26757, 26761, 26765, 26767, 26769, 26771, 26774, 26776, 26777, 26778, 26780, 26781, 26782, 26783, 26785, 26788, 26790, 26791, 26793, 26794, 26796, 26800, 26801, 26802, 26803, 26805, 26807, 26808, 26810, 26814, 26815, 26817, 26820, 26822, 26823, 26825, 26829, 26830, 26831, 26834, 26837, 26838, 26843, 26848, 26851, 26853, 26854, 26855, 26856, 26860, 26863, 26864, 26865, 26866, 26868, 26877, 26878, 26879, 26883, 26887, 26888, 26891, 26892, 26896, 26900, 26901, 26902, 26907, 26909, 26912, 26913, 26914, 26916, 26921, 26922, 26924, 26928, 26930, 26933, 26934, 26936, 26938, 26953, 26954, 26955, 26956, 26957, 26963, 26964, 26965, 26966, 26969, 26970, 26975, 26976, 26977, 26978, 26979, 26982, 26985, 26990, 26991, 26992, 26995, 26996, 26997, 26998, 27000, 27002, 27003, 27006, 27010, 27011, 27012, 27013, 27014, 27015, 27016, 27018, 27024, 27027, 27029, 27032, 27036, 27038, 27039, 27041, 27042, 27043, 27045, 27046, 27047, 27051, 27052, 27053, 27054, 27060, 27062, 27063, 27064, 27065, 27066, 27071, 27072, 27074, 27077, 27079, 27081, 27083, 27087, 27088, 27090, 27091, 27092, 27093, 27094, 27096, 27097, 27099, 27106, 27108, 27109, 27111, 27114, 27119, 27121, 27122, 27125, 27128, 27133, 27135, 27138, 27146, 27148, 27152, 27154, 27156, 27159, 27160, 27163, 27169, 27171, 27175, 27178, 27179, 27181, 27182, 27186, 27188, 27189, 27192, 27195, 27198, 27200, 27204, 27207, 27208, 27210, 27211, 27215, 27219, 27223, 27225, 27230, 27231, 27232, 27236, 27237, 27239, 27240, 27241, 27242, 27243, 27244, 27245, 27247, 27248, 27257, 27260, 27266, 27268, 27269, 27274, 27275, 27279, 27283, 27285, 27287, 27289, 27290, 27291, 27294, 27295, 27298, 27300, 27301, 27302, 27303, 27305, 27311, 27312, 27313, 27314, 27317, 27318, 27319, 27321, 27322, 27325, 27326, 27329, 27332, 27335, 27336, 27337, 27341, 27342, 27344, 27346, 27348, 27350, 27351, 27353, 27356, 27357, 27360, 27364, 27368, 27370, 27377, 27378, 27380, 27381, 27383, 27389, 27393, 27394, 27395, 27396, 27397, 27398, 27399, 27402, 27403, 27404, 27407, 27409, 27412, 27414, 27418, 27424, 27427, 27429, 27430, 27431, 27432, 27433, 27439, 27444, 27445, 27446, 27448, 27449, 27456, 27457, 27458, 27460, 27463, 27466, 27472, 27473, 27475, 27477, 27478, 27479, 27481, 27482, 27483, 27484, 27485, 27486, 27488, 27490, 27491, 27493, 27494, 27497, 27498, 27499, 27500, 27501, 27504, 27505, 27507, 27508, 27512, 27515, 27520, 27525, 27528, 27534, 27535, 27536, 27538, 27543, 27544, 27549, 27555, 27559, 27561, 27563, 27565, 27567, 27569, 27572, 27576, 27577, 27580, 27581, 27582, 27583, 27589, 27594, 27596, 27597, 27598, 27602, 27604, 27606, 27607, 27609, 27610, 27611, 27612, 27615, 27617, 27619, 27623, 27626, 27631, 27632, 27633, 27634, 27636, 27637, 27638, 27640, 27644, 27646, 27649, 27653, 27656, 27657, 27658, 27663, 27664, 27667, 27668, 27670, 27674, 27677, 27678, 27679, 27683, 27686, 27687, 27691, 27692, 27695, 27702, 27705, 27707, 27711, 27712, 27714, 27717, 27720, 27735, 27739, 27742, 27747, 27749, 27756, 27759, 27760, 27762, 27767, 27768, 27770, 27774, 27776, 27778, 27786, 27788, 27790, 27793, 27795, 27798, 27801, 27802, 27804, 27809, 27811, 27812, 27815, 27817, 27822, 27825, 27826, 27827, 27829, 27836, 27837, 27838, 27842, 27846, 27848, 27850, 27853, 27859, 27861, 27864, 27866, 27867, 27868, 27870, 27871, 27879, 27883, 27887, 27888, 27890, 27891, 27896, 27897, 27900, 27901, 27903, 27906, 27907, 27913, 27914, 27915, 27916, 27920, 27927, 27929, 27930, 27932, 27933, 27934, 27936, 27937, 27938, 27941, 27942, 27943, 27944, 27945, 27946, 27948, 27949, 27952, 27955, 27957, 27959, 27961, 27963, 27967, 27968, 27969, 27971, 27972, 27974, 27977, 27980, 27983, 27984, 27985, 27989, 27992, 27994, 28001, 28002, 28004, 28009, 28018, 28019, 28021, 28023, 28027, 28034, 28037, 28039, 28041, 28042, 28043, 28044, 28045, 28049, 28051, 28054, 28057, 28061, 28063, 28066, 28067, 28069, 28071, 28072, 28077, 28079, 28084, 28085, 28087, 28088, 28089, 28092, 28093, 28097, 28098, 28106, 28107, 28109, 28111, 28113, 28114, 28115, 28116, 28117, 28121, 28123, 28125, 28128, 28130, 28131, 28134, 28137, 28143, 28146, 28151, 28152, 28156, 28157, 28164, 28165, 28166, 28168, 28171, 28173, 28174, 28177, 28179, 28181, 28182, 28185, 28188, 28189, 28190, 28194, 28195, 28196, 28202, 28203, 28205, 28207, 28208, 28211, 28212, 28213, 28214, 28216, 28217, 28220, 28222, 28223, 28227, 28231, 28233, 28235, 28238, 28239, 28245, 28247, 28248, 28252, 28254, 28258, 28259, 28260, 28261, 28262, 28263, 28269, 28271, 28273, 28274, 28276, 28278, 28279, 28282, 28283, 28287, 28288, 28289, 28291, 28293, 28294, 28295, 28298, 28300, 28301, 28304, 28305, 28307, 28309, 28311, 28312, 28313, 28315, 28316, 28317, 28319, 28322, 28323, 28324, 28329, 28332, 28334, 28335, 28338, 28341, 28343, 28346, 28347, 28348, 28349, 28351, 28352, 28355, 28358, 28360, 28363, 28365, 28366, 28373, 28374, 28375, 28383, 28384, 28385, 28386, 28388, 28389, 28390, 28391, 28392, 28394, 28395, 28397, 28398, 28400, 28401, 28402, 28403, 28407, 28408, 28412, 28414, 28418, 28429, 28438, 28440, 28441, 28444, 28452, 28456, 28460, 28461, 28462, 28476, 28477, 28478, 28484, 28486, 28489, 28492, 28493, 28494, 28495, 28496, 28499, 28501, 28504, 28506, 28508, 28511, 28512, 28520, 28521, 28523, 28526, 28528, 28529, 28530, 28532, 28533, 28536, 28538, 28539, 28541, 28544, 28545, 28547, 28551, 28554, 28562, 28563, 28564, 28567, 28569, 28572, 28573, 28577, 28579, 28580, 28581, 28582, 28583, 28588, 28590, 28591, 28592, 28593, 28596, 28598, 28599, 28603, 28605, 28607, 28611, 28612, 28619, 28620, 28621, 28628, 28629, 28634, 28638, 28639, 28640, 28641, 28642, 28643, 28646, 28648, 28649, 28650, 28655, 28656, 28662, 28664, 28665, 28666, 28669, 28671, 28673, 28675, 28677, 28683, 28689, 28690, 28691, 28692, 28693, 28699, 28703, 28704, 28705, 28708, 28709, 28712, 28713, 28714, 28717, 28720, 28721, 28722, 28723, 28728, 28730, 28731, 28732, 28733, 28734, 28735, 28739, 28744, 28745, 28746, 28748, 28750, 28751, 28753, 28754, 28755, 28756, 28757, 28759, 28760, 28763, 28768, 28769, 28772, 28773, 28775, 28776, 28780, 28782, 28784, 28785, 28787, 28790, 28791, 28792, 28793, 28794, 28796, 28798, 28801, 28803, 28805, 28807, 28809, 28812, 28813, 28814, 28818, 28821, 28822, 28825, 28828, 28833, 28835, 28836, 28837, 28844, 28845, 28846, 28850, 28852, 28856, 28857, 28859, 28862, 28865, 28867, 28869, 28870, 28873, 28874, 28877, 28879, 28883, 28884, 28889, 28890, 28891, 28892, 28893, 28895, 28900, 28901, 28904, 28907, 28908, 28909, 28913, 28914, 28920, 28924, 28925, 28928, 28934, 28935, 28936, 28937, 28939, 28940, 28941, 28942, 28943, 28944, 28946, 28949, 28950, 28954, 28958, 28960, 28963, 28965, 28966, 28967, 28970, 28974, 28975, 28978, 28983, 28984, 28989, 28992, 28995, 28997, 28999, 29000, 29001, 29003, 29007, 29008, 29009, 29011, 29016, 29017, 29019, 29021, 29023, 29024, 29027, 29032, 29035, 29036, 29037, 29038, 29047, 29049, 29050, 29058, 29060, 29061, 29062, 29064, 29066, 29069, 29073, 29078, 29081, 29084, 29085, 29086, 29087, 29089, 29090, 29091, 29093, 29094, 29095, 29100, 29101, 29105, 29107, 29110, 29115, 29117, 29121, 29122, 29127, 29128, 29132, 29133, 29136, 29138, 29140, 29141, 29144, 29145, 29146, 29148, 29150, 29156, 29158, 29162, 29163, 29168, 29171, 29172, 29175, 29176, 29177, 29179, 29180, 29181, 29186, 29187, 29188, 29190, 29193, 29194, 29195, 29198, 29199, 29201, 29207, 29208, 29216, 29217, 29220, 29221, 29222, 29223, 29225, 29230, 29233, 29235, 29242, 29244, 29246, 29247, 29249, 29253, 29259, 29262, 29266, 29267, 29270, 29274, 29277, 29278, 29283, 29285, 29288, 29294, 29297, 29298, 29299, 29300, 29303, 29304, 29309, 29310, 29312, 29315, 29316, 29324, 29325, 29326, 29328, 29329, 29331, 29333, 29334, 29337, 29338, 29339, 29343, 29345, 29346, 29350, 29352, 29356, 29358, 29359, 29363, 29368, 29371, 29373, 29375, 29377, 29379, 29381, 29383, 29385, 29386, 29390, 29391, 29394, 29396, 29397, 29403, 29404, 29405, 29409, 29414, 29416, 29423, 29424, 29430, 29431, 29432, 29434, 29438, 29439, 29440, 29445, 29448, 29451, 29452, 29453, 29458, 29459, 29461, 29463, 29464, 29465, 29468, 29469, 29470, 29471, 29472, 29474, 29475, 29478, 29480, 29482, 29483, 29484, 29486, 29491, 29493, 29498, 29499, 29505, 29509, 29512, 29516, 29518, 29519, 29521, 29524, 29527, 29532, 29534, 29537, 29538, 29539, 29542, 29544, 29545, 29546, 29549, 29550, 29551, 29553, 29555, 29556, 29558, 29559, 29564, 29569, 29572, 29574, 29575, 29576, 29577, 29578, 29580, 29582, 29585, 29586, 29587, 29589, 29590, 29592, 29594, 29596, 29597, 29598, 29599, 29601, 29604, 29606, 29607, 29619, 29620, 29623, 29624, 29625, 29629, 29630, 29632, 29636, 29637, 29639, 29642, 29646, 29649, 29653, 29655, 29657, 29662, 29663, 29664, 29671, 29673, 29674, 29675, 29677, 29678, 29680, 29684, 29686, 29691, 29693, 29697, 29698, 29700, 29701, 29703, 29704, 29707, 29713, 29714, 29715, 29717, 29720, 29723, 29726, 29727, 29729, 29732, 29734, 29736, 29738, 29739, 29740, 29741, 29746, 29748, 29749, 29750, 29751, 29753, 29755, 29756, 29758, 29759, 29760, 29761, 29771, 29772, 29774, 29776, 29778, 29779, 29780, 29782, 29783, 29784, 29786, 29788, 29791, 29792, 29793, 29795, 29799, 29802, 29803, 29804, 29805, 29808, 29811, 29814, 29822, 29823, 29825, 29826, 29827, 29833, 29835, 29838, 29841, 29842, 29843, 29849, 29851, 29852, 29853, 29854, 29859, 29860, 29865, 29867, 29870, 29871, 29873, 29880, 29881, 29882, 29883, 29884, 29886, 29887, 29888, 29889, 29890, 29893, 29895, 29898, 29899, 29900, 29901, 29902, 29903, 29905, 29906, 29916, 29917, 29919, 29920, 29927, 29930, 29932, 29933, 29934, 29935, 29937, 29939, 29943, 29945, 29947, 29949, 29955, 29956, 29957, 29958, 29962, 29963, 29965, 29967, 29970, 29973, 29974, 29977, 29984, 29985, 29988, 29991, 29993, 29997, 30002, 30005, 30006, 30009, 30016, 30018, 30019, 30025, 30026, 30027, 30028, 30031, 30032, 30034, 30035, 30037, 30039, 30041, 30047, 30048, 30049, 30051, 30053, 30058, 30062, 30064, 30066, 30067, 30069, 30071, 30072, 30074, 30075, 30078, 30079, 30080, 30082, 30085, 30086, 30088, 30090, 30094, 30095, 30096, 30097, 30103, 30105, 30107, 30113, 30116, 30119, 30120, 30121, 30125, 30126, 30128, 30130, 30133, 30143, 30147, 30149, 30150, 30158, 30159, 30162, 30166, 30167, 30168, 30170, 30171, 30172, 30173, 30174, 30175, 30178, 30179, 30180, 30182, 30184, 30186, 30190, 30192, 30193, 30194, 30196, 30198, 30202, 30205, 30210, 30214, 30215, 30218, 30219, 30228, 30229, 30231, 30233, 30234, 30235, 30237, 30239, 30240, 30245, 30248, 30251, 30254, 30256, 30257, 30259, 30265, 30266, 30268, 30270, 30272, 30274, 30279, 30280, 30284, 30287, 30293, 30294, 30296, 30298, 30300, 30301, 30304, 30305, 30310, 30311, 30313, 30317, 30321, 30322, 30323, 30325, 30326, 30327, 30328, 30329, 30331, 30333, 30336, 30338, 30341, 30345, 30346, 30351, 30353, 30354, 30356, 30359, 30360, 30361, 30362, 30368, 30373, 30376, 30378, 30379, 30382, 30383, 30387, 30390, 30392, 30399, 30401, 30404, 30405, 30407, 30409, 30411, 30412, 30413, 30415, 30427, 30429, 30430, 30435, 30436, 30437, 30439, 30441, 30443, 30444, 30445, 30450, 30453, 30465, 30470, 30471, 30472, 30479, 30481, 30484, 30486, 30491, 30495, 30497, 30498, 30500, 30502, 30505, 30506, 30507, 30511, 30512, 30514, 30515, 30517, 30520, 30522, 30523, 30524, 30525, 30530, 30532, 30533, 30535, 30539, 30540, 30542, 30544, 30545, 30548, 30549, 30550, 30554, 30556, 30558, 30559, 30560, 30563, 30564, 30565, 30569, 30571, 30573, 30575, 30576, 30581, 30588, 30589, 30590, 30592, 30593, 30600, 30602, 30603, 30605, 30606, 30608, 30609, 30610, 30612, 30614, 30619, 30621, 30622, 30626, 30629, 30632, 30633, 30634, 30635, 30636, 30638, 30642, 30643, 30644, 30649, 30657, 30658, 30668, 30669, 30670, 30673, 30679, 30680, 30681, 30682, 30684, 30685, 30687, 30688, 30692, 30695, 30696, 30700, 30703, 30706, 30708, 30709, 30710, 30715, 30716, 30717, 30718, 30721, 30722, 30733, 30735, 30737, 30738, 30743, 30746, 30752, 30754, 30756, 30758, 30762, 30764, 30765, 30768, 30770, 30773, 30774, 30775, 30776, 30777, 30779, 30782, 30783, 30784, 30785, 30786, 30789, 30790, 30791, 30792, 30794, 30795, 30796, 30803, 30804, 30808, 30809, 30810, 30811, 30813, 30814, 30817, 30820, 30821, 30824, 30829, 30833, 30834, 30836, 30837, 30838, 30839, 30841, 30844, 30849, 30850, 30852, 30853, 30855, 30860, 30862, 30864, 30867, 30868, 30869, 30870, 30871, 30872, 30874, 30877, 30878, 30879, 30880, 30883, 30885, 30887, 30888, 30889, 30891, 30892, 30894, 30896, 30898, 30899, 30900, 30906, 30914, 30919, 30920, 30923, 30924, 30926, 30927, 30930, 30933, 30934, 30935, 30936, 30937, 30944, 30947, 30948, 30949, 30950, 30952, 30953, 30955, 30956, 30959, 30960, 30961, 30963, 30964, 30966, 30967, 30968, 30971, 30973, 30978, 30979, 30980, 30982, 30984, 30985, 30986, 30987, 30988, 30990, 30991, 30993, 30994, 30995, 30997, 30998, 30999, 31001, 31004, 31011, 31012, 31015, 31018, 31019, 31021, 31023, 31027, 31031, 31032, 31035, 31036, 31038, 31041, 31047, 31049, 31052, 31056, 31057, 31058, 31060, 31063, 31064, 31065, 31069, 31070, 31074, 31079, 31085, 31095, 31097, 31098, 31099, 31104, 31109, 31112, 31116, 31118, 31122, 31123, 31124, 31126, 31130, 31134, 31135, 31136, 31139, 31140, 31141, 31143, 31144, 31147, 31150, 31152, 31153, 31158, 31160, 31163, 31170, 31177, 31184, 31185, 31187, 31188, 31189, 31193, 31196, 31198, 31200, 31201, 31203, 31204, 31209, 31210, 31212, 31215, 31216, 31218, 31220, 31221, 31224, 31225, 31227, 31228, 31238, 31240, 31241, 31242, 31243, 31245, 31250, 31254, 31255, 31256, 31259, 31260, 31262, 31263, 31264, 31265, 31267, 31269, 31270, 31271, 31274, 31276, 31277, 31285, 31286, 31288, 31290, 31291, 31294, 31301, 31302, 31303, 31306, 31307, 31311, 31313, 31315, 31319, 31320, 31325, 31327, 31328, 31329, 31331, 31334, 31336, 31340, 31342, 31344, 31348, 31349, 31350, 31352, 31354, 31357, 31358, 31359, 31360, 31362, 31363, 31364, 31365, 31366, 31369, 31371, 31374, 31375, 31376, 31377, 31379, 31381, 31382, 31384, 31385, 31390, 31395, 31397, 31398, 31399, 31400, 31401, 31403, 31404, 31406, 31407, 31408, 31409, 31414, 31415, 31416, 31417, 31418, 31422, 31424, 31428, 31430, 31431, 31432, 31433, 31434, 31436, 31438, 31439, 31442, 31443, 31446, 31447, 31448, 31452, 31458, 31464, 31465, 31467, 31468, 31469, 31470, 31474, 31477, 31480, 31481, 31483, 31484, 31486, 31488, 31490, 31497, 31499, 31500, 31508, 31509, 31511, 31519, 31523, 31525, 31527, 31528, 31537, 31542, 31544, 31546, 31549, 31551, 31553, 31555, 31558, 31561, 31562, 31569, 31570, 31572, 31574, 31575, 31577, 31579, 31584, 31588, 31589, 31595, 31597, 31601, 31606, 31612, 31613, 31614, 31618, 31620, 31622, 31625, 31627, 31628, 31633, 31634, 31635, 31641, 31643, 31644, 31649, 31650, 31652, 31656, 31658, 31662, 31664, 31667, 31668, 31669, 31673, 31674, 31677, 31678, 31680, 31681, 31684, 31686, 31687, 31688, 31689, 31691, 31694, 31696, 31697, 31701, 31702, 31704, 31706, 31708, 31710, 31712, 31714, 31715, 31718, 31719, 31720, 31723, 31724, 31729, 31733, 31734, 31735, 31737, 31738, 31740, 31742, 31744, 31745, 31746, 31747, 31749, 31751, 31754, 31756, 31759, 31766, 31771, 31773, 31776, 31778, 31779, 31784, 31785, 31786, 31788, 31789, 31790, 31794, 31798, 31799, 31800, 31801, 31804, 31805, 31809, 31813, 31814, 31815, 31817, 31821, 31822, 31824, 31826, 31828, 31829, 31832, 31837, 31838, 31843, 31848, 31849, 31851, 31854, 31855, 31856, 31857, 31858, 31863, 31866, 31867, 31871, 31874, 31877, 31879, 31884, 31885, 31892, 31904, 31905, 31906, 31907, 31911, 31914, 31915, 31920, 31921, 31923, 31925, 31926, 31929, 31932, 31934, 31939, 31941, 31943, 31944, 31949, 31950, 31952, 31959, 31960, 31961, 31969, 31972, 31973, 31977, 31978, 31981, 31982, 31984, 31985, 31987, 31989, 31992, 31996, 31997, 31998, 31999, 32002, 32005, 32008, 32010, 32011, 32015, 32017, 32020, 32021, 32022, 32023, 32024, 32027, 32034, 32038, 32040, 32044, 32045, 32046, 32048, 32052, 32057, 32060, 32061, 32062, 32065, 32070, 32071, 32072, 32073, 32075, 32078, 32081, 32083, 32089, 32090, 32092, 32093, 32095, 32097, 32100, 32103, 32104, 32105, 32106, 32107, 32108, 32114, 32119, 32120, 32124, 32126, 32127, 32128, 32130, 32131, 32134, 32137, 32138, 32143, 32145, 32146, 32148, 32150, 32153, 32154, 32158, 32159, 32163, 32169, 32170, 32171, 32181, 32182, 32183, 32184, 32189, 32191, 32192, 32193, 32197, 32198, 32199, 32200, 32201, 32202, 32204, 32205, 32206, 32209, 32211, 32212, 32215, 32216, 32218, 32220, 32221, 32227, 32228, 32231, 32233, 32237, 32239, 32245, 32246, 32250, 32251, 32259, 32260, 32262, 32264, 32266, 32269, 32270, 32272, 32275, 32276, 32280, 32281, 32282, 32283, 32284, 32285, 32288, 32289, 32291, 32292, 32293, 32295, 32298, 32300, 32306, 32309, 32311, 32314, 32316, 32321, 32323, 32325, 32327, 32334, 32336, 32337, 32338, 32339, 32341, 32342, 32344, 32355, 32357, 32358, 32359, 32360, 32362, 32364, 32365, 32366, 32368, 32371, 32372, 32374, 32376, 32378, 32379, 32382, 32386, 32389, 32392, 32400, 32401, 32403, 32410, 32413, 32414, 32420, 32421, 32424, 32426, 32428, 32430, 32431, 32432, 32436, 32437, 32439, 32441, 32442, 32443, 32445, 32447, 32448, 32449, 32456, 32457, 32459, 32461, 32463, 32468, 32470, 32471, 32475, 32476, 32479, 32481, 32482, 32483, 32484, 32485, 32487, 32488, 32489, 32490, 32493, 32497, 32499, 32500, 32501, 32502, 32503, 32504, 32506, 32507, 32508, 32509, 32512, 32514, 32516, 32518, 32522, 32525, 32527, 32532, 32533, 32535, 32536, 32538, 32539, 32540, 32542, 32546, 32547, 32549, 32553, 32555, 32556, 32557, 32558, 32560, 32563, 32564, 32565, 32566, 32570, 32571, 32574, 32576, 32577, 32578, 32585, 32586, 32587, 32588, 32589, 32591, 32592, 32594, 32596, 32598, 32600, 32605, 32608, 32609, 32611, 32615, 32619, 32620, 32622, 32625, 32631, 32632, 32637, 32639, 32642, 32643, 32644, 32648, 32649, 32651, 32654, 32655, 32658, 32661, 32662, 32663, 32664, 32665, 32669, 32670, 32671, 32672, 32675, 32676, 32677, 32678, 32680, 32681, 32683, 32684, 32685, 32688, 32689, 32690, 32691, 32692, 32693, 32694, 32697, 32699, 32700, 32702, 32707, 32709, 32710, 32714, 32715, 32718, 32720, 32722, 32723, 32724, 32725, 32728, 32730, 32732, 32738, 32741, 32744, 32746, 32748, 32750, 32752, 32755, 32759, 32764, 32766, 32768, 32769, 32770, 32771, 32772, 32774, 32779, 32780, 32781, 32783, 32784, 32785, 32786, 32793, 32797, 32798, 32802, 32803, 32804, 32805, 32809, 32814, 32815, 32816, 32818, 32823, 32824, 32828, 32830, 32832, 32838, 32839, 32841, 32842, 32846, 32848, 32849, 32851, 32853, 32855, 32857, 32859, 32862, 32864, 32867, 32870, 32872, 32874, 32877, 32878, 32885, 32888, 32890, 32894, 32895, 32896, 32903, 32904, 32906, 32907, 32908, 32909, 32911, 32916, 32918, 32920, 32921, 32923, 32929, 32932, 32933, 32937, 32938, 32941, 32942, 32944, 32952, 32954, 32956, 32957, 32964, 32967, 32968, 32975, 32976, 32980, 32983, 32985, 32986, 32997, 33002, 33005, 33006, 33007, 33008, 33009, 33010, 33011, 33013, 33014, 33015, 33018, 33019, 33020, 33021, 33024, 33025, 33028, 33029, 33030, 33034, 33035, 33041, 33042, 33049, 33052, 33054, 33055, 33061, 33063, 33064, 33065, 33066, 33067, 33069, 33070, 33071, 33073, 33075, 33079, 33080, 33081, 33082, 33087, 33088, 33091, 33093, 33099, 33102, 33103, 33105, 33107, 33108, 33111, 33114, 33116, 33119, 33120, 33124, 33125, 33126, 33127, 33128, 33129, 33132, 33133, 33134, 33135, 33141, 33146, 33149, 33150, 33151, 33152, 33153, 33155, 33163, 33166, 33170, 33171, 33172, 33173, 33174, 33175, 33177, 33179, 33180, 33182, 33184, 33185, 33187, 33188, 33192, 33194, 33195, 33196, 33198, 33203, 33204, 33207, 33209, 33211, 33212, 33214, 33216, 33218, 33220, 33221, 33222, 33223, 33228, 33235, 33236, 33238, 33241, 33242, 33243, 33247, 33248, 33250, 33252, 33253, 33254, 33256, 33257, 33259, 33261, 33262, 33267, 33274, 33275, 33276, 33279, 33280, 33281, 33282, 33283, 33287, 33288, 33292, 33294, 33295, 33296, 33297, 33298, 33301, 33302, 33304, 33305, 33306, 33307, 33309, 33310, 33311, 33312, 33313, 33314, 33315, 33316, 33320, 33323, 33325, 33326, 33327, 33330, 33334, 33337, 33338, 33339, 33340, 33344, 33347, 33348, 33350, 33352, 33353, 33354, 33355, 33356, 33357, 33358, 33360, 33365, 33370, 33371, 33373, 33374, 33375, 33379, 33382, 33389, 33390, 33391, 33392, 33397, 33407, 33408, 33409, 33412, 33413, 33417, 33420, 33426, 33427, 33437, 33438, 33442, 33443, 33444, 33448, 33449, 33450, 33451, 33456, 33459, 33462, 33463, 33464, 33465, 33466, 33467, 33468, 33469, 33470, 33472, 33473, 33475, 33477, 33479, 33480, 33483, 33484, 33486, 33488, 33490, 33493, 33497, 33504, 33506, 33507, 33512, 33514, 33516, 33518, 33519, 33522, 33523, 33526, 33527, 33533, 33534, 33536, 33541, 33544, 33546, 33547, 33548, 33549, 33550, 33554, 33555, 33556, 33559, 33560, 33561, 33562, 33563, 33564, 33565, 33566, 33568, 33569, 33570, 33571, 33577, 33580, 33581, 33595, 33596, 33597, 33600, 33607, 33609, 33614, 33616, 33619, 33620, 33623, 33626, 33627, 33628, 33635, 33636, 33640, 33642, 33643, 33644, 33649, 33650, 33653, 33654, 33655, 33657, 33658, 33660, 33663, 33666, 33667, 33668, 33674, 33677, 33679, 33683, 33684, 33686, 33688, 33689, 33692, 33694, 33695, 33696, 33698, 33700, 33704, 33705, 33707, 33708, 33709, 33710, 33711, 33714, 33719, 33721, 33728, 33729, 33730, 33733, 33734, 33742, 33744, 33745, 33746, 33750, 33752, 33756, 33759, 33762, 33764, 33766, 33767, 33768, 33769, 33773, 33774, 33775, 33777, 33781, 33782, 33784, 33788, 33789, 33791, 33792, 33795, 33799, 33801, 33802, 33804, 33805, 33808, 33811, 33813, 33816, 33818, 33819, 33824, 33825, 33826, 33828, 33832, 33835, 33836, 33839, 33842, 33845, 33849, 33850, 33851, 33855, 33857, 33865, 33866, 33872, 33878, 33879, 33880, 33882, 33885, 33887, 33888, 33889, 33895, 33896, 33900, 33901, 33904, 33908, 33911, 33914, 33916, 33917, 33918, 33920, 33921, 33924, 33925, 33933, 33934, 33935, 33942, 33943, 33944, 33945, 33946, 33949, 33950, 33951, 33953, 33954, 33955, 33959, 33964, 33965, 33966, 33967, 33969, 33970, 33971, 33973, 33974, 33975, 33976, 33981, 33982, 33985, 33986, 33987, 33988, 33990, 33991, 33993, 33994, 33996, 34000, 34002, 34003, 34004, 34005, 34011, 34012, 34014, 34015, 34017, 34018, 34019, 34026, 34027, 34030, 34031, 34032, 34033, 34035, 34036, 34038, 34047, 34048, 34049, 34051, 34053, 34055, 34062, 34063, 34065, 34067, 34069, 34070, 34071, 34072, 34074, 34076, 34080, 34082, 34088, 34089, 34091, 34094, 34096, 34097, 34099, 34101, 34108, 34111, 34114, 34122, 34123, 34124, 34125, 34126, 34127, 34128, 34129, 34133, 34135, 34137, 34140, 34144, 34145, 34147, 34151, 34154, 34155, 34157, 34160, 34163, 34164, 34166, 34168, 34171, 34172, 34173, 34182, 34186, 34187, 34188, 34191, 34192, 34194, 34197, 34201, 34202, 34204, 34207, 34212, 34215, 34217, 34221, 34222, 34223, 34224, 34226, 34229, 34232, 34234, 34237, 34240, 34241, 34244, 34247, 34253, 34256, 34257, 34260, 34261, 34262, 34264, 34266, 34268, 34269, 34270, 34271, 34275, 34281, 34284, 34285, 34286, 34288, 34290, 34296, 34297, 34299, 34302, 34306, 34308, 34310, 34312, 34313, 34314, 34317, 34321, 34329, 34332, 34335, 34336, 34342, 34343, 34346, 34347, 34349, 34350, 34361, 34364, 34366, 34369, 34370, 34371, 34375, 34378, 34380, 34385, 34386, 34387, 34390, 34391, 34398, 34403, 34408, 34410, 34413, 34417, 34418, 34419, 34420, 34429, 34430, 34433, 34436, 34438, 34441, 34444, 34445, 34447, 34451, 34455, 34458, 34460, 34462, 34463, 34465, 34471, 34472, 34474, 34475, 34477, 34479, 34481, 34482, 34487, 34488, 34491, 34493, 34498, 34499, 34501, 34503, 34505, 34506, 34507, 34508, 34510, 34511, 34512, 34514, 34523, 34526, 34529, 34530, 34531, 34533, 34534, 34536, 34537, 34538, 34541, 34542, 34543, 34544, 34550, 34553, 34555, 34557, 34558, 34559, 34565, 34567, 34568, 34571, 34572, 34574, 34575, 34580, 34582, 34583, 34585, 34587, 34590, 34593, 34595, 34600, 34602, 34604, 34605, 34606, 34607, 34610, 34611, 34613, 34616, 34617, 34619, 34621, 34623, 34625, 34626, 34627, 34632, 34633, 34637, 34638, 34645, 34649, 34650, 34654, 34656, 34660, 34663, 34665, 34673, 34674, 34678, 34680, 34683, 34684, 34685, 34687, 34688, 34690, 34691, 34695, 34697, 34700, 34702, 34706, 34712, 34713, 34719, 34720, 34721, 34722, 34724, 34726, 34731, 34733, 34736, 34738, 34745, 34750, 34751, 34752, 34759, 34760, 34762, 34765, 34770, 34771, 34774, 34777, 34778, 34781, 34783, 34785, 34786, 34787, 34789, 34792, 34794, 34796, 34798, 34801, 34802, 34803, 34806, 34807, 34811, 34813, 34820, 34827, 34830, 34831, 34833, 34836, 34837, 34839, 34841, 34842, 34849, 34850, 34851, 34852, 34859, 34864, 34865, 34869, 34872, 34873, 34881, 34882, 34885, 34886, 34889, 34890, 34891, 34893, 34895, 34896, 34898, 34902, 34903, 34904, 34907, 34908, 34910, 34917, 34923, 34931, 34932, 34935, 34936, 34941, 34942, 34948, 34950, 34953, 34954, 34957, 34959, 34960, 34962, 34963, 34965, 34968, 34971, 34972, 34973, 34978, 34979, 34981, 34982, 34983, 34984, 34986, 34991, 34994, 34996, 35003, 35006, 35007, 35010, 35013, 35017, 35019, 35020, 35021, 35024, 35025, 35026, 35028, 35030, 35032, 35033, 35036, 35037, 35041, 35043, 35045, 35046, 35047, 35048, 35051, 35053, 35054, 35057, 35058, 35059, 35060, 35061, 35063, 35064, 35066, 35067, 35076, 35078, 35080, 35081, 35083, 35087, 35089, 35091, 35093, 35094, 35101, 35102, 35112, 35113, 35114, 35118, 35119, 35120, 35123, 35128, 35130, 35131, 35133, 35134, 35139, 35140, 35143, 35147, 35149, 35150, 35151, 35152, 35153, 35156, 35159, 35160, 35161, 35163, 35165, 35166, 35167, 35168, 35171, 35173, 35174, 35179, 35180, 35181, 35183, 35186, 35188, 35189, 35190, 35192, 35195, 35196, 35202, 35206, 35210, 35212, 35213, 35214, 35216, 35217, 35220, 35222, 35225, 35233, 35234, 35235, 35236, 35237, 35242, 35244, 35245, 35248, 35250, 35255, 35257, 35258, 35265, 35268, 35271, 35272, 35274, 35275, 35277, 35278, 35280, 35281, 35282, 35283, 35288, 35290, 35291, 35293, 35294, 35295, 35296, 35300, 35304, 35305, 35306, 35307, 35310, 35312, 35314, 35316, 35317, 35318, 35323, 35325, 35326, 35327, 35328, 35333, 35335, 35338, 35340, 35342, 35343, 35344, 35351, 35356, 35357, 35361, 35364, 35366, 35367, 35368, 35370, 35376, 35377, 35381, 35383, 35385, 35388, 35389, 35394, 35395, 35399, 35400, 35402, 35403, 35406, 35407, 35419, 35424, 35426, 35429, 35431, 35432, 35433, 35437, 35439, 35441, 35443, 35446, 35448, 35451, 35452, 35453, 35454, 35457, 35458, 35462, 35463, 35464, 35465, 35468, 35469, 35470, 35471, 35472, 35476, 35477, 35478, 35479, 35480, 35481, 35484, 35485, 35494, 35496, 35497, 35504, 35506, 35509, 35511, 35512, 35516, 35519, 35522, 35525, 35526, 35533, 35534, 35535, 35539, 35540, 35542, 35548, 35550, 35551, 35552, 35553, 35555, 35557, 35559, 35560, 35561, 35563, 35564, 35565, 35566, 35568, 35569, 35570, 35574, 35576, 35577, 35578, 35579, 35585, 35586, 35588, 35591, 35594, 35598, 35600, 35602, 35607, 35608, 35609, 35610, 35611, 35613, 35615, 35616, 35617, 35619, 35621, 35631, 35632, 35635, 35637, 35640, 35641, 35642, 35644, 35645, 35647, 35650, 35651, 35655, 35664, 35665, 35667, 35668, 35669, 35670, 35675, 35676, 35677, 35680, 35681, 35682, 35683, 35688, 35691, 35692, 35696, 35698, 35701, 35706, 35708, 35712, 35714, 35716, 35717, 35726, 35728, 35731, 35732, 35733, 35734, 35739, 35742, 35746, 35747, 35748, 35751, 35752, 35753, 35756, 35758, 35760, 35761, 35763, 35764, 35767, 35768, 35772, 35774, 35775, 35776, 35777, 35779, 35781, 35783, 35784, 35786, 35791, 35794, 35795, 35797, 35801, 35803, 35806, 35807, 35808, 35809, 35811, 35814, 35816, 35818, 35821, 35823, 35825, 35826, 35828, 35835, 35837, 35838, 35839, 35840, 35841, 35843, 35846, 35847, 35849, 35852, 35854, 35857, 35859, 35862, 35864, 35866, 35867, 35868, 35869, 35870, 35872, 35875, 35876, 35877, 35880, 35883, 35885, 35889, 35892, 35893, 35895, 35899, 35901, 35903, 35905, 35906, 35908, 35910, 35911, 35912, 35916, 35917, 35918, 35921, 35922, 35928, 35931, 35934, 35935, 35938, 35939, 35949, 35950, 35954, 35956, 35959, 35961, 35963, 35964, 35969, 35970, 35971, 35972, 35973, 35974, 35977, 35978, 35980, 35983, 35985, 35994, 35999, 36000, 36003, 36004, 36007, 36008, 36009, 36011, 36012, 36014, 36021, 36022, 36026, 36029, 36031, 36034, 36035, 36036, 36037, 36038, 36049, 36050, 36051, 36052, 36053, 36055, 36056, 36057, 36061, 36063, 36066, 36067, 36072, 36074, 36077, 36080, 36081, 36082, 36083, 36088, 36093, 36096, 36101, 36106, 36110, 36112, 36114, 36116, 36117, 36118, 36119, 36121, 36127, 36128, 36130, 36132, 36134, 36136, 36139, 36140, 36141, 36143, 36144, 36145, 36147, 36151, 36152, 36153, 36154, 36156, 36158, 36162, 36163, 36168, 36170, 36171, 36173, 36178, 36180, 36181, 36183, 36184, 36188, 36190, 36194, 36197, 36198, 36199, 36200, 36201, 36208, 36212, 36215, 36217, 36218, 36220, 36221, 36226, 36227, 36228, 36232, 36233, 36234, 36235, 36238, 36240, 36241, 36244, 36247, 36248, 36250, 36251, 36255, 36256, 36258, 36261, 36262, 36268, 36270, 36271, 36273, 36276, 36277, 36278, 36282, 36283, 36284, 36288, 36289, 36294, 36295, 36296, 36297, 36298, 36301, 36302, 36303, 36308, 36310, 36311, 36312, 36313, 36315, 36316, 36320, 36322, 36324, 36330, 36331, 36333, 36337, 36341, 36342, 36343, 36351, 36354, 36355, 36356, 36357, 36358, 36360, 36363, 36367, 36369, 36372, 36375, 36376, 36377, 36380, 36382, 36383, 36386, 36388, 36389, 36396, 36407, 36413, 36415, 36419, 36420, 36423, 36425, 36427, 36429, 36430, 36432, 36434, 36437, 36438, 36439, 36440, 36441, 36442, 36447, 36450, 36454, 36468, 36474, 36476, 36479, 36480, 36482, 36485, 36487, 36491, 36493, 36494, 36501, 36504, 36505, 36506, 36509, 36510, 36512, 36513, 36515, 36516, 36520, 36522, 36526, 36528, 36529, 36533, 36536, 36538, 36541, 36542, 36543, 36544, 36555, 36556, 36558, 36559, 36560, 36563, 36564, 36571, 36572, 36573, 36575, 36578, 36579, 36582, 36584, 36586, 36587, 36589, 36591, 36592, 36593, 36599, 36604, 36608, 36609, 36610, 36616, 36618, 36619, 36620, 36621, 36623, 36624, 36626, 36630, 36637, 36640, 36641, 36644, 36649, 36651, 36652, 36655, 36660, 36665, 36668, 36669, 36672, 36676, 36677, 36678, 36681, 36682, 36683, 36684, 36685, 36686, 36691, 36695, 36699, 36701, 36703, 36708, 36711, 36716, 36719, 36721, 36722, 36725, 36732, 36734, 36738, 36739, 36740, 36744, 36750, 36751, 36752, 36753, 36757, 36758, 36760, 36761, 36762, 36765, 36768, 36771, 36772, 36773, 36775, 36776, 36779, 36785, 36798, 36799, 36802, 36805, 36806, 36807, 36808, 36811, 36813, 36814, 36818, 36820, 36821, 36825, 36829, 36831, 36834, 36841, 36845, 36846, 36848, 36850, 36852, 36855, 36856, 36862, 36867, 36869, 36872, 36874, 36875, 36877, 36878, 36879, 36881, 36884, 36886, 36888, 36889, 36893, 36894, 36897, 36899, 36901, 36902, 36913, 36914, 36917, 36922, 36924, 36926, 36927, 36928, 36931, 36933, 36934, 36935, 36936, 36937, 36939, 36941, 36946, 36955, 36958, 36959, 36962, 36964, 36965, 36966, 36969, 36972, 36973, 36983, 36984, 36985, 36986, 36987, 36989, 36990, 36991, 36995, 36996, 36997, 37000, 37005, 37008, 37015, 37018, 37022, 37023, 37027, 37029, 37033, 37038, 37040, 37041, 37042, 37048, 37050, 37051, 37052, 37053, 37055, 37056, 37058, 37059, 37060, 37064, 37065, 37069, 37071, 37076, 37078, 37081, 37082, 37083, 37086, 37088, 37090, 37092, 37094, 37097, 37100, 37104, 37106, 37107, 37108, 37111, 37115, 37116, 37118, 37119, 37123, 37124, 37125, 37129, 37130, 37131, 37133, 37139, 37140, 37144, 37148, 37151, 37152, 37153, 37155, 37158, 37161, 37164, 37165, 37170, 37172, 37173, 37175, 37176, 37177, 37188, 37189, 37190, 37191, 37192, 37193, 37198, 37201, 37205, 37207, 37209, 37210, 37212, 37213, 37214, 37215, 37216, 37223, 37224, 37225, 37226, 37232, 37239, 37242, 37243, 37244, 37245, 37250, 37252, 37253, 37254, 37261, 37262, 37263, 37266, 37270, 37275, 37276, 37279, 37283, 37285, 37290, 37291, 37294, 37295, 37300, 37308, 37309, 37310, 37312, 37317, 37321, 37322, 37324, 37328, 37330, 37332, 37337, 37342, 37344, 37345, 37347, 37352, 37353, 37354, 37357, 37359, 37361, 37362, 37363, 37364, 37366, 37367, 37368, 37371, 37377, 37378, 37381, 37384, 37385, 37387, 37389, 37391, 37394, 37395, 37396, 37397, 37398, 37400, 37402, 37404, 37405, 37407, 37408, 37411, 37413, 37416, 37420, 37421, 37424, 37425, 37426, 37427, 37429, 37432, 37433, 37436, 37437, 37440, 37441, 37447, 37449, 37454, 37456, 37459, 37460, 37462, 37464, 37469, 37472, 37473, 37474, 37475, 37476, 37477, 37479, 37482, 37484, 37486, 37487, 37489, 37491, 37492, 37498, 37499, 37506, 37511, 37520, 37522, 37523, 37524, 37525, 37527, 37528, 37529, 37530, 37535, 37538, 37540, 37541, 37546, 37553, 37554, 37555, 37559, 37560, 37561, 37563, 37567, 37569, 37574, 37577, 37578, 37580, 37581, 37583, 37588, 37592, 37593, 37597, 37598, 37601, 37602, 37603, 37605, 37612, 37613, 37614, 37617, 37620, 37623, 37629, 37630, 37636, 37638, 37642, 37643, 37646, 37647, 37648, 37651, 37653, 37654, 37657, 37659, 37661, 37664, 37666, 37670, 37672, 37673, 37678, 37680, 37681, 37682, 37683, 37685, 37689, 37690, 37691, 37695, 37700, 37704, 37705, 37708, 37718, 37721, 37722, 37724, 37726, 37727, 37728, 37732, 37734, 37736, 37745, 37746, 37749, 37754, 37756, 37757, 37759, 37760, 37763, 37769, 37770, 37771, 37772, 37774, 37779, 37780, 37783, 37784, 37789, 37794, 37795, 37797, 37801, 37803, 37804, 37811, 37812, 37814, 37815, 37817, 37818, 37821, 37822, 37823, 37825, 37831, 37833, 37838, 37839, 37841, 37843, 37844, 37845, 37847, 37848, 37850, 37851, 37855, 37856, 37863, 37864, 37875, 37876, 37878, 37882, 37883, 37884, 37885, 37887, 37888, 37890, 37891, 37892, 37896, 37902, 37903, 37906, 37907, 37908, 37911, 37913, 37918, 37919, 37922, 37923, 37925, 37927, 37928, 37930, 37932, 37936, 37939, 37942, 37952, 37953, 37955, 37956, 37958, 37960, 37963, 37964, 37965, 37966, 37967, 37970, 37974, 37979, 37981, 37985, 37986, 37989, 37992, 37993, 37995, 37998, 37999, 38001, 38002, 38005, 38006, 38007, 38009, 38011, 38012, 38018, 38020, 38022, 38023, 38026, 38036, 38037, 38040, 38043, 38044, 38046, 38047, 38049, 38053, 38055, 38056, 38062, 38063, 38065, 38068, 38069, 38074, 38075, 38084, 38089, 38092, 38095, 38100, 38101, 38105, 38106, 38107, 38108, 38111, 38113, 38114, 38115, 38116, 38117, 38119, 38124, 38126, 38128, 38129, 38131, 38138, 38140, 38144, 38145, 38149, 38152, 38157, 38158, 38160, 38162, 38167, 38169, 38170, 38171, 38172, 38173, 38174, 38177, 38180, 38181, 38185, 38187, 38190, 38194, 38197, 38199, 38206, 38207, 38213, 38215, 38219, 38220, 38221, 38222, 38226, 38228, 38230, 38231, 38232, 38235, 38236, 38239, 38240, 38241, 38242, 38244, 38252, 38254, 38255, 38258, 38261, 38264, 38265, 38267, 38269, 38271, 38274, 38279, 38281, 38282, 38283, 38285, 38293, 38294, 38295, 38296, 38298, 38305, 38309, 38311, 38316, 38326, 38328, 38329, 38332, 38333, 38334, 38337, 38340, 38344, 38346, 38352, 38356, 38358, 38360, 38363, 38364, 38365, 38366, 38367, 38371, 38375, 38376, 38377, 38382, 38385, 38386, 38388, 38389, 38391, 38394, 38396, 38399, 38405, 38407, 38408, 38410, 38411, 38415, 38417, 38419, 38420, 38422, 38424, 38426, 38430, 38431, 38434, 38435, 38436, 38438, 38441, 38443, 38444, 38446, 38449, 38450, 38452, 38455, 38456, 38462, 38465, 38468, 38472, 38473, 38475, 38477, 38478, 38479, 38480, 38482, 38485, 38486, 38496, 38497, 38501, 38502, 38503, 38504, 38505, 38506, 38508, 38511, 38512, 38514, 38515, 38520, 38522, 38526, 38527, 38528, 38529, 38531, 38534, 38535, 38537, 38539, 38540, 38541, 38542, 38551, 38554, 38560, 38561, 38562, 38564, 38565, 38567, 38568, 38569, 38570, 38573, 38575, 38576, 38577, 38578, 38581, 38582, 38586, 38587, 38589, 38591, 38592, 38594, 38595, 38596, 38600, 38602, 38603, 38608, 38610, 38613, 38615, 38624, 38626, 38631, 38632, 38634, 38635, 38637, 38638, 38639, 38641, 38644, 38645, 38649, 38651, 38652, 38654, 38655, 38657, 38659, 38661, 38663, 38667, 38670, 38671, 38673, 38674, 38676, 38677, 38678, 38679, 38682, 38683, 38684, 38687, 38694, 38695, 38699, 38700, 38703, 38704, 38706, 38707, 38708, 38710, 38711, 38713, 38717, 38724, 38726, 38727, 38730, 38736, 38737, 38740, 38741, 38744, 38746, 38747, 38750, 38753, 38756, 38757, 38758, 38760, 38761, 38763, 38764, 38765, 38767, 38769, 38770, 38771, 38773, 38778, 38779, 38782, 38783, 38784, 38789, 38793, 38794, 38796, 38798, 38799, 38803, 38805, 38806, 38807, 38808, 38809, 38811, 38813, 38814, 38815, 38816, 38818, 38820, 38821, 38827, 38828, 38831, 38832, 38833, 38834, 38836, 38837, 38838, 38839, 38841, 38842, 38843, 38845, 38846, 38850, 38851, 38854, 38858, 38859, 38861, 38862, 38864, 38867, 38868, 38872, 38873, 38874, 38875, 38877, 38879, 38881, 38886, 38888, 38889, 38894, 38895, 38896, 38897, 38899, 38901, 38902, 38903, 38906, 38907, 38913, 38914, 38916, 38921, 38926, 38928, 38929, 38930, 38933, 38942, 38945, 38946, 38948, 38953, 38954, 38955, 38956, 38960, 38961, 38968, 38972, 38975, 38977, 38981, 38982, 38985, 38986, 38987, 38989, 38990, 38994, 38995, 38996, 38998, 39001, 39003, 39004, 39006, 39007, 39008, 39012, 39017, 39027, 39029, 39031, 39035, 39036, 39037, 39038, 39039, 39041, 39043, 39044, 39045, 39048, 39049, 39050, 39051, 39060, 39062, 39066, 39067, 39077, 39080, 39082, 39083, 39084, 39095, 39098, 39099, 39103, 39104, 39109, 39111, 39112, 39114, 39118, 39119, 39120, 39121, 39128, 39129, 39131, 39132, 39133, 39135, 39136, 39138, 39142, 39148, 39152, 39156, 39159, 39161, 39162, 39164, 39168, 39169, 39171, 39176, 39180, 39181, 39183, 39186, 39190, 39192, 39194, 39195, 39196, 39199, 39200, 39202, 39204, 39206, 39211, 39212, 39214, 39215, 39217, 39221, 39224, 39225, 39226, 39227, 39229, 39231, 39232, 39233, 39236, 39240, 39241, 39246, 39250, 39251, 39258, 39259, 39264, 39269, 39274, 39280, 39281, 39286, 39288, 39290, 39291, 39294, 39297, 39298, 39300, 39301, 39307, 39310, 39312, 39313, 39315, 39316, 39318, 39319, 39320, 39321, 39326, 39327, 39329, 39330, 39332, 39333, 39334, 39340, 39346, 39347, 39348, 39350, 39351, 39352, 39353, 39357, 39358, 39362, 39363, 39368, 39369, 39370, 39371, 39375, 39377, 39385, 39386, 39387, 39388, 39389, 39390, 39392, 39395, 39396, 39397, 39403, 39405, 39408, 39414, 39415, 39416, 39417, 39419, 39420, 39421, 39429, 39432, 39433, 39435, 39436, 39437, 39438, 39440, 39441, 39444, 39447, 39450, 39456, 39458, 39459, 39460, 39461, 39462, 39463, 39468, 39469, 39474, 39476, 39478, 39482, 39488, 39490, 39492, 39493, 39497, 39499, 39503, 39505, 39506, 39509, 39514, 39515, 39518, 39519, 39520, 39522, 39523, 39525, 39527, 39529, 39530, 39536, 39538, 39539, 39540, 39544, 39547, 39551, 39552, 39558, 39559, 39561, 39562, 39566, 39569, 39570, 39571, 39576, 39578, 39580, 39582, 39586, 39589, 39590, 39592, 39594, 39595, 39596, 39600, 39601, 39603, 39605, 39607, 39608, 39613, 39614, 39615, 39621, 39622, 39623, 39628, 39630, 39636, 39638, 39645, 39647, 39648, 39649, 39653, 39656, 39663, 39667, 39670, 39673, 39676, 39677, 39678, 39685, 39688, 39689, 39690, 39691, 39694, 39695, 39702, 39703, 39707, 39710, 39712, 39719, 39721, 39722, 39723, 39732, 39733, 39735, 39740, 39745, 39746, 39748, 39749, 39753, 39754, 39758, 39761, 39762, 39765, 39768, 39769, 39771, 39772, 39779, 39780, 39783, 39784, 39788, 39789, 39790, 39791, 39792, 39793, 39794, 39796, 39799, 39800, 39801, 39803, 39807, 39808, 39809, 39810, 39813, 39814, 39817, 39818, 39822, 39823, 39824, 39826, 39828, 39829, 39830, 39835, 39837, 39838, 39841, 39845, 39847, 39848, 39849, 39850, 39852, 39854, 39855, 39857, 39858, 39860, 39863, 39864, 39868, 39869, 39874, 39875, 39878, 39880, 39884, 39887, 39888, 39893, 39894, 39895, 39897, 39899, 39900, 39901, 39902, 39903, 39906, 39909, 39910, 39911, 39913, 39914, 39915, 39917, 39918, 39924, 39925, 39926, 39927, 39929, 39931, 39934, 39939, 39940, 39941, 39942, 39946, 39947, 39948, 39956, 39958, 39962, 39966, 39967, 39973, 39974, 39977, 39979, 39980, 39981, 39982, 39984, 39986, 39995, 39996, 39998, 40004, 40005, 40006, 40007, 40009, 40011, 40016, 40019, 40020, 40022, 40023, 40026, 40034, 40035, 40039, 40045, 40053, 40054, 40057, 40059, 40060, 40064, 40065, 40066, 40067, 40070, 40074, 40075, 40078, 40079, 40080, 40082, 40083, 40084, 40086, 40095, 40099, 40100, 40107, 40110, 40112, 40113, 40114, 40115, 40123, 40126, 40129, 40131, 40132, 40134, 40136, 40137, 40138, 40144, 40146, 40148, 40152, 40156, 40157, 40158, 40159, 40160, 40162, 40163, 40165, 40168, 40169, 40170, 40173, 40174, 40176, 40177, 40178, 40179, 40182, 40185, 40186, 40188, 40191, 40194, 40196, 40197, 40198, 40200, 40204, 40205, 40206, 40208, 40211, 40212, 40213, 40214, 40215, 40218, 40221, 40223, 40226, 40227, 40228, 40229, 40233, 40234, 40235, 40236, 40237, 40240, 40242, 40244, 40248, 40252, 40253, 40254, 40256, 40257, 40260, 40262, 40266, 40269, 40270, 40271, 40276, 40277, 40278, 40279, 40284, 40285, 40289, 40290, 40300, 40301, 40304, 40306, 40309, 40311, 40313, 40314, 40315, 40317, 40318, 40320, 40321, 40322, 40326, 40327, 40329, 40334, 40336, 40337, 40338, 40351, 40352, 40353, 40358, 40361, 40362, 40363, 40367, 40371, 40372, 40374, 40376, 40377, 40379, 40381, 40385, 40388, 40390, 40391, 40392, 40395, 40398, 40399, 40400, 40401, 40402, 40403, 40409, 40411, 40413, 40414, 40415, 40416, 40418, 40426, 40428, 40429, 40431, 40432, 40434, 40438, 40439, 40444, 40446, 40447, 40449, 40451, 40452, 40454, 40455, 40457, 40459, 40460, 40461, 40463, 40466, 40467, 40469, 40474, 40476, 40477, 40480, 40482, 40484, 40485, 40486, 40489, 40492, 40495, 40496, 40497, 40498, 40500, 40505, 40506, 40507, 40508, 40510, 40511, 40512, 40513, 40514, 40516, 40518, 40520, 40525, 40529, 40531, 40533, 40539, 40541, 40543, 40544, 40545, 40548, 40549, 40551, 40552, 40553, 40554, 40559, 40561, 40566, 40570, 40575, 40578, 40579, 40580, 40582, 40586, 40587, 40590, 40592, 40595, 40596, 40597, 40598, 40599, 40603, 40604, 40605, 40606, 40608, 40610, 40612, 40615, 40617, 40621, 40623, 40626, 40627, 40628, 40629, 40631, 40633, 40634, 40637, 40639, 40641, 40643, 40645, 40647, 40649, 40651, 40652, 40654, 40657, 40660, 40661, 40662, 40664, 40667, 40671, 40674, 40675, 40680, 40688, 40693, 40695, 40699, 40701, 40703, 40704, 40707, 40712, 40714, 40716, 40718, 40723, 40724, 40728, 40739, 40740, 40741, 40744, 40745, 40746, 40751, 40752, 40754, 40756, 40757, 40758, 40763, 40765, 40770, 40778, 40785, 40786, 40788, 40790, 40794, 40801, 40802, 40804, 40805, 40806, 40807, 40812, 40815, 40816, 40819, 40821, 40822, 40823, 40828, 40832, 40836, 40837, 40841, 40844, 40845, 40849, 40851, 40856, 40858, 40860, 40861, 40868, 40869, 40870, 40872, 40873, 40875, 40879, 40881, 40884, 40885, 40886, 40887, 40888, 40890, 40893, 40894, 40898, 40902, 40904, 40905, 40906, 40908, 40909, 40910, 40911, 40912, 40916, 40918, 40920, 40924, 40926, 40928, 40929, 40930, 40931, 40933, 40936, 40937, 40938, 40940, 40943, 40948, 40953, 40956, 40959, 40960, 40961, 40963, 40965, 40968, 40969, 40970, 40971, 40976, 40977, 40978, 40981, 40984, 40986, 40991, 40993, 40994, 40998, 41001, 41002, 41003, 41005, 41008, 41009, 41011, 41018, 41020, 41022, 41023, 41025, 41027, 41032, 41033, 41039, 41043, 41044, 41046, 41047, 41052, 41054, 41057, 41058, 41060, 41061, 41062, 41066, 41068, 41071, 41075, 41078, 41079, 41084, 41099, 41100, 41102, 41106, 41109, 41111, 41118, 41121, 41122, 41123, 41126, 41130, 41131, 41132, 41134, 41136, 41139, 41141, 41142, 41144, 41145, 41149, 41150, 41153, 41154, 41156, 41157, 41161, 41166, 41168, 41172, 41173, 41178, 41184, 41188, 41189, 41190, 41193, 41194, 41195, 41200, 41201, 41204, 41206, 41208, 41210, 41212, 41213, 41214, 41216, 41219, 41222, 41223, 41226, 41227, 41230, 41232, 41233, 41234, 41237, 41239, 41245, 41246, 41247, 41248, 41254, 41259, 41261, 41265, 41266, 41267, 41269, 41271, 41275, 41276, 41280, 41283, 41288, 41292, 41293, 41294, 41302, 41303, 41304, 41306, 41311, 41313, 41317, 41318, 41319, 41330, 41331, 41332, 41334, 41336, 41338, 41340, 41343, 41345, 41346, 41347, 41348, 41350, 41354, 41356, 41358, 41359, 41360, 41362, 41364, 41366, 41372, 41375, 41376, 41379, 41381, 41382, 41383, 41384, 41386, 41387, 41389, 41390, 41392, 41396, 41401, 41402, 41408, 41411, 41413, 41415, 41421, 41422, 41423, 41428, 41432, 41435, 41438, 41439, 41448, 41452, 41453, 41455, 41457, 41459, 41460, 41472, 41474, 41476, 41479, 41484, 41486, 41487, 41488, 41489, 41491, 41497, 41499, 41501, 41503, 41504, 41506, 41507, 41508, 41509, 41510, 41512, 41513, 41515, 41519, 41520, 41522, 41524, 41536, 41537, 41538, 41539, 41540, 41541, 41547, 41550, 41556, 41557, 41559, 41560, 41563, 41564, 41567, 41569, 41570, 41572, 41574, 41575, 41576, 41577, 41578, 41584, 41592, 41595, 41597, 41598, 41600, 41602, 41603, 41604, 41605, 41607, 41608, 41611, 41614, 41615, 41616, 41617, 41622, 41624, 41628, 41632, 41638, 41643, 41645, 41646, 41648, 41649, 41650, 41651, 41653, 41654, 41655, 41662, 41663, 41669, 41671, 41675, 41676, 41680, 41681, 41690, 41692, 41693, 41695, 41696, 41700, 41701, 41704, 41705, 41708, 41710, 41711, 41715, 41716, 41720, 41721, 41722, 41723, 41724, 41725, 41729, 41731, 41733, 41740, 41744, 41745, 41747, 41748, 41753, 41759, 41760, 41762, 41764, 41766, 41767, 41768, 41771, 41775, 41778, 41780, 41782, 41791, 41794, 41795, 41796, 41797, 41802, 41803, 41804, 41805, 41806, 41808, 41809, 41812, 41813, 41815, 41816, 41817, 41818, 41821, 41824, 41825, 41826, 41828, 41833, 41834, 41835, 41837, 41839, 41841, 41842, 41850, 41855, 41856, 41857, 41858, 41860, 41865, 41868, 41869, 41870, 41874, 41876, 41878, 41879, 41881, 41886, 41889, 41890, 41896, 41898, 41900, 41902, 41905, 41908, 41909, 41910, 41912, 41913, 41914, 41915, 41916, 41917, 41918, 41920, 41922, 41923, 41925, 41929, 41930, 41934, 41935, 41936, 41941, 41946, 41948, 41950, 41951, 41954, 41957, 41958, 41959, 41961, 41963, 41965, 41970, 41973, 41975, 41977, 41978, 41987, 41993, 41997, 42000, 42005, 42012, 42015, 42017, 42018, 42021, 42022, 42023, 42026, 42029, 42033, 42037, 42038, 42039, 42042, 42046, 42048, 42050, 42051, 42052, 42057, 42059, 42060, 42062, 42064, 42068, 42073, 42074, 42076, 42077, 42079, 42085, 42088, 42090, 42096, 42097, 42098, 42099, 42100, 42103, 42106, 42107, 42110, 42111, 42113, 42119, 42124, 42125, 42127, 42129, 42131, 42132, 42135, 42137, 42143, 42144, 42145, 42146, 42149, 42152, 42154, 42155, 42157, 42158, 42159, 42160, 42161, 42162, 42164, 42165, 42167, 42169, 42176, 42181, 42182, 42185, 42190, 42191, 42192, 42196, 42198, 42199, 42203, 42205, 42207, 42208, 42212, 42213, 42222, 42226, 42227, 42230, 42233, 42239, 42241, 42242, 42243, 42244, 42246, 42247, 42250, 42251, 42252, 42254, 42255, 42256, 42258, 42259, 42261, 42262, 42263, 42266, 42267, 42270, 42277, 42279, 42280, 42282, 42283, 42285, 42288, 42295, 42298, 42308, 42310, 42311, 42314, 42316, 42318, 42321, 42323, 42325, 42327, 42328, 42329, 42330, 42331, 42332, 42335, 42337, 42339, 42341, 42344, 42347, 42352, 42353, 42358, 42360, 42362, 42366, 42367, 42374, 42375, 42378, 42380, 42381, 42383, 42385, 42389, 42395, 42398, 42399, 42400, 42402, 42403, 42404, 42405, 42408, 42411, 42414, 42415, 42418, 42420, 42423, 42424, 42425, 42426, 42429, 42430, 42433, 42436, 42437, 42443, 42444, 42446, 42447, 42448, 42449, 42453, 42459, 42460, 42462, 42464, 42465, 42467, 42471, 42472, 42479, 42480, 42482, 42488, 42490, 42492, 42496, 42499, 42501, 42503, 42507, 42509, 42516, 42518, 42520, 42521, 42525, 42529, 42530, 42532, 42536, 42537, 42541, 42542, 42543, 42546, 42550, 42551, 42552, 42553, 42554, 42556, 42561, 42562, 42563, 42564, 42565, 42566, 42569, 42571, 42572, 42575, 42578, 42580, 42581, 42587, 42589, 42591, 42597, 42599, 42602, 42603, 42604, 42605, 42607, 42609, 42613, 42619, 42622, 42624, 42625, 42626, 42627, 42628, 42629, 42631, 42632, 42633, 42634, 42635, 42636, 42639, 42642, 42645, 42648, 42652, 42655, 42659, 42661, 42663, 42664, 42670, 42672, 42673, 42675, 42679, 42681, 42683, 42685, 42688, 42690, 42693, 42695, 42700, 42701, 42704, 42712, 42715, 42716, 42717, 42719, 42721, 42723, 42725, 42728, 42731, 42732, 42734, 42739, 42741, 42744, 42745, 42747, 42749, 42750, 42752, 42753, 42754, 42756, 42758, 42759, 42763, 42766, 42768, 42771, 42773, 42781, 42782, 42783, 42784, 42786, 42788, 42792, 42793, 42800, 42801, 42802, 42803, 42804, 42805, 42807, 42808, 42811, 42813, 42821, 42822, 42823, 42824, 42825, 42827, 42828, 42830, 42834, 42837, 42838, 42839, 42840, 42841, 42842, 42843, 42844, 42846, 42847, 42851, 42855, 42860, 42862, 42863, 42875, 42876, 42877, 42878, 42879, 42888, 42890, 42892, 42898, 42902, 42903, 42904, 42909, 42911, 42912, 42914, 42917, 42919, 42924, 42927, 42934, 42937, 42938, 42939, 42941, 42943, 42944, 42945, 42946, 42948, 42954, 42955, 42959, 42960, 42961, 42962, 42965, 42969, 42977, 42978, 42980, 42987, 42988, 42996, 43003, 43005, 43009, 43012, 43015, 43020, 43021, 43026, 43027, 43032, 43033, 43034, 43037, 43038, 43039, 43041, 43042, 43045, 43048, 43050, 43051, 43060, 43061, 43062, 43072, 43073, 43076, 43078, 43082, 43086, 43088, 43089, 43094, 43096, 43097, 43106, 43114, 43117, 43118, 43123, 43128, 43130, 43138, 43141, 43142, 43143, 43145, 43146, 43148, 43149, 43150, 43151, 43152, 43153, 43157, 43159, 43162, 43164, 43166, 43169, 43172, 43175, 43176, 43179, 43180, 43181, 43182, 43185, 43186, 43189, 43192, 43194, 43195, 43199, 43202, 43205, 43207, 43208, 43209, 43210, 43211, 43213, 43228, 43229, 43231, 43236, 43240, 43244, 43247, 43249, 43251, 43252, 43253, 43254, 43255, 43262, 43265, 43266, 43269, 43272, 43275, 43277, 43279, 43280, 43281, 43283, 43285, 43287, 43288, 43289, 43290, 43292, 43293, 43295, 43297, 43298, 43299, 43304, 43307, 43315, 43323, 43325, 43326, 43327, 43328, 43329, 43330, 43334, 43335, 43336, 43338, 43344, 43351, 43352, 43353]\n"
     ]
    }
   ],
   "source": [
    "print(kmeans_model.labels_)\n",
    "\n",
    "cluster_zero_indices = []\n",
    "cluster_one_indices = []\n",
    "cluster_two_indices = []\n",
    "cluster_three_indices = []\n",
    "for i in range(len(kmeans_model.labels_)):\n",
    "    if kmeans_model.labels_[i] == 0:\n",
    "        cluster_zero_indices.append(i)\n",
    "    elif kmeans_model.labels_[i] == 1:\n",
    "        cluster_one_indices.append(i)\n",
    "    elif kmeans_model.labels_[i] == 2:\n",
    "        cluster_two_indices.append(i)\n",
    "    elif kmeans_model.labels_[i] == 3:\n",
    "        cluster_three_indices.append(i)\n",
    "        \n",
    "print(cluster_zero_indices)"
   ]
  },
  {
   "cell_type": "code",
   "execution_count": 48,
   "metadata": {},
   "outputs": [
    {
     "name": "stdout",
     "output_type": "stream",
     "text": [
      "18136\n",
      "7563\n",
      "14966\n",
      "2692\n",
      "1    0.777018\n",
      "3    0.100077\n",
      "2    0.097320\n",
      "4    0.025584\n",
      "Name: income_cat, dtype: float64\n",
      "1    0.773503\n",
      "2    0.101679\n",
      "3    0.096390\n",
      "4    0.028428\n",
      "Name: income_cat, dtype: float64\n",
      "1    0.786650\n",
      "3    0.097755\n",
      "2    0.091274\n",
      "4    0.024322\n",
      "Name: income_cat, dtype: float64\n",
      "1    0.784175\n",
      "3    0.106984\n",
      "2    0.086181\n",
      "4    0.022660\n",
      "Name: income_cat, dtype: float64\n"
     ]
    }
   ],
   "source": [
    "cluster_zero_df = rows_to_cluster.iloc[cluster_zero_indices]\n",
    "cluster_one_df = rows_to_cluster.iloc[cluster_one_indices]\n",
    "cluster_two_df = rows_to_cluster.iloc[cluster_two_indices]\n",
    "cluster_three_df = rows_to_cluster.iloc[cluster_three_indices]\n",
    "\n",
    "print(len(cluster_zero_df))\n",
    "print(len(cluster_one_df))\n",
    "print(len(cluster_two_df))\n",
    "print(len(cluster_three_df))\n",
    "\n",
    "print(cluster_zero_df['income_cat'].value_counts()/len(cluster_zero_df))\n",
    "print(cluster_one_df['income_cat'].value_counts()/len(cluster_one_df))\n",
    "print(cluster_two_df['income_cat'].value_counts()/len(cluster_two_df))\n",
    "print(cluster_three_df['income_cat'].value_counts()/len(cluster_three_df))"
   ]
  },
  {
   "cell_type": "code",
   "execution_count": 38,
   "metadata": {},
   "outputs": [
    {
     "name": "stdout",
     "output_type": "stream",
     "text": [
      "-48728.08751180455\n"
     ]
    }
   ],
   "source": [
    "print(kmeans_model.score(X_test,y_test))"
   ]
  },
  {
   "cell_type": "code",
   "execution_count": null,
   "metadata": {},
   "outputs": [],
   "source": []
  }
 ],
 "metadata": {
  "kernelspec": {
   "display_name": "Python 3",
   "language": "python",
   "name": "python3"
  },
  "language_info": {
   "codemirror_mode": {
    "name": "ipython",
    "version": 3
   },
   "file_extension": ".py",
   "mimetype": "text/x-python",
   "name": "python",
   "nbconvert_exporter": "python",
   "pygments_lexer": "ipython3",
   "version": "3.7.0"
  }
 },
 "nbformat": 4,
 "nbformat_minor": 2
}
