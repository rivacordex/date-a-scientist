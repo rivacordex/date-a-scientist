{
 "cells": [
  {
   "cell_type": "markdown",
   "metadata": {},
   "source": [
    "### Load Data Frame ###"
   ]
  },
  {
   "cell_type": "code",
   "execution_count": 1,
   "metadata": {},
   "outputs": [],
   "source": [
    "import pandas as pd\n",
    "import numpy as np\n",
    "from matplotlib import pyplot as plt\n",
    "\n",
    "#Create your df here:\n",
    "df = pd.read_csv(\"profiles.csv\")"
   ]
  },
  {
   "cell_type": "markdown",
   "metadata": {},
   "source": [
    "#### Explore Data ####"
   ]
  },
  {
   "cell_type": "code",
   "execution_count": 2,
   "metadata": {},
   "outputs": [
    {
     "name": "stdout",
     "output_type": "stream",
     "text": [
      "59946\n"
     ]
    }
   ],
   "source": [
    "print(len(df))"
   ]
  },
  {
   "cell_type": "code",
   "execution_count": 3,
   "metadata": {},
   "outputs": [
    {
     "data": {
      "text/html": [
       "<div>\n",
       "<style scoped>\n",
       "    .dataframe tbody tr th:only-of-type {\n",
       "        vertical-align: middle;\n",
       "    }\n",
       "\n",
       "    .dataframe tbody tr th {\n",
       "        vertical-align: top;\n",
       "    }\n",
       "\n",
       "    .dataframe thead th {\n",
       "        text-align: right;\n",
       "    }\n",
       "</style>\n",
       "<table border=\"1\" class=\"dataframe\">\n",
       "  <thead>\n",
       "    <tr style=\"text-align: right;\">\n",
       "      <th></th>\n",
       "      <th>age</th>\n",
       "      <th>body_type</th>\n",
       "      <th>diet</th>\n",
       "      <th>drinks</th>\n",
       "      <th>drugs</th>\n",
       "      <th>education</th>\n",
       "      <th>essay0</th>\n",
       "      <th>essay1</th>\n",
       "      <th>essay2</th>\n",
       "      <th>essay3</th>\n",
       "      <th>...</th>\n",
       "      <th>location</th>\n",
       "      <th>offspring</th>\n",
       "      <th>orientation</th>\n",
       "      <th>pets</th>\n",
       "      <th>religion</th>\n",
       "      <th>sex</th>\n",
       "      <th>sign</th>\n",
       "      <th>smokes</th>\n",
       "      <th>speaks</th>\n",
       "      <th>status</th>\n",
       "    </tr>\n",
       "  </thead>\n",
       "  <tbody>\n",
       "    <tr>\n",
       "      <th>0</th>\n",
       "      <td>22</td>\n",
       "      <td>a little extra</td>\n",
       "      <td>strictly anything</td>\n",
       "      <td>socially</td>\n",
       "      <td>never</td>\n",
       "      <td>working on college/university</td>\n",
       "      <td>about me:&lt;br /&gt;\\n&lt;br /&gt;\\ni would love to think...</td>\n",
       "      <td>currently working as an international agent fo...</td>\n",
       "      <td>making people laugh.&lt;br /&gt;\\nranting about a go...</td>\n",
       "      <td>the way i look. i am a six foot half asian, ha...</td>\n",
       "      <td>...</td>\n",
       "      <td>south san francisco, california</td>\n",
       "      <td>doesn&amp;rsquo;t have kids, but might want them</td>\n",
       "      <td>straight</td>\n",
       "      <td>likes dogs and likes cats</td>\n",
       "      <td>agnosticism and very serious about it</td>\n",
       "      <td>m</td>\n",
       "      <td>gemini</td>\n",
       "      <td>sometimes</td>\n",
       "      <td>english</td>\n",
       "      <td>single</td>\n",
       "    </tr>\n",
       "    <tr>\n",
       "      <th>1</th>\n",
       "      <td>35</td>\n",
       "      <td>average</td>\n",
       "      <td>mostly other</td>\n",
       "      <td>often</td>\n",
       "      <td>sometimes</td>\n",
       "      <td>working on space camp</td>\n",
       "      <td>i am a chef: this is what that means.&lt;br /&gt;\\n1...</td>\n",
       "      <td>dedicating everyday to being an unbelievable b...</td>\n",
       "      <td>being silly. having ridiculous amonts of fun w...</td>\n",
       "      <td>NaN</td>\n",
       "      <td>...</td>\n",
       "      <td>oakland, california</td>\n",
       "      <td>doesn&amp;rsquo;t have kids, but might want them</td>\n",
       "      <td>straight</td>\n",
       "      <td>likes dogs and likes cats</td>\n",
       "      <td>agnosticism but not too serious about it</td>\n",
       "      <td>m</td>\n",
       "      <td>cancer</td>\n",
       "      <td>no</td>\n",
       "      <td>english (fluently), spanish (poorly), french (...</td>\n",
       "      <td>single</td>\n",
       "    </tr>\n",
       "    <tr>\n",
       "      <th>2</th>\n",
       "      <td>38</td>\n",
       "      <td>thin</td>\n",
       "      <td>anything</td>\n",
       "      <td>socially</td>\n",
       "      <td>NaN</td>\n",
       "      <td>graduated from masters program</td>\n",
       "      <td>i'm not ashamed of much, but writing public te...</td>\n",
       "      <td>i make nerdy software for musicians, artists, ...</td>\n",
       "      <td>improvising in different contexts. alternating...</td>\n",
       "      <td>my large jaw and large glasses are the physica...</td>\n",
       "      <td>...</td>\n",
       "      <td>san francisco, california</td>\n",
       "      <td>NaN</td>\n",
       "      <td>straight</td>\n",
       "      <td>has cats</td>\n",
       "      <td>NaN</td>\n",
       "      <td>m</td>\n",
       "      <td>pisces but it doesn&amp;rsquo;t matter</td>\n",
       "      <td>no</td>\n",
       "      <td>english, french, c++</td>\n",
       "      <td>available</td>\n",
       "    </tr>\n",
       "    <tr>\n",
       "      <th>3</th>\n",
       "      <td>23</td>\n",
       "      <td>thin</td>\n",
       "      <td>vegetarian</td>\n",
       "      <td>socially</td>\n",
       "      <td>NaN</td>\n",
       "      <td>working on college/university</td>\n",
       "      <td>i work in a library and go to school. . .</td>\n",
       "      <td>reading things written by old dead people</td>\n",
       "      <td>playing synthesizers and organizing books acco...</td>\n",
       "      <td>socially awkward but i do my best</td>\n",
       "      <td>...</td>\n",
       "      <td>berkeley, california</td>\n",
       "      <td>doesn&amp;rsquo;t want kids</td>\n",
       "      <td>straight</td>\n",
       "      <td>likes cats</td>\n",
       "      <td>NaN</td>\n",
       "      <td>m</td>\n",
       "      <td>pisces</td>\n",
       "      <td>no</td>\n",
       "      <td>english, german (poorly)</td>\n",
       "      <td>single</td>\n",
       "    </tr>\n",
       "    <tr>\n",
       "      <th>4</th>\n",
       "      <td>29</td>\n",
       "      <td>athletic</td>\n",
       "      <td>NaN</td>\n",
       "      <td>socially</td>\n",
       "      <td>never</td>\n",
       "      <td>graduated from college/university</td>\n",
       "      <td>hey how's it going? currently vague on the pro...</td>\n",
       "      <td>work work work work + play</td>\n",
       "      <td>creating imagery to look at:&lt;br /&gt;\\nhttp://bag...</td>\n",
       "      <td>i smile a lot and my inquisitive nature</td>\n",
       "      <td>...</td>\n",
       "      <td>san francisco, california</td>\n",
       "      <td>NaN</td>\n",
       "      <td>straight</td>\n",
       "      <td>likes dogs and likes cats</td>\n",
       "      <td>NaN</td>\n",
       "      <td>m</td>\n",
       "      <td>aquarius</td>\n",
       "      <td>no</td>\n",
       "      <td>english</td>\n",
       "      <td>single</td>\n",
       "    </tr>\n",
       "  </tbody>\n",
       "</table>\n",
       "<p>5 rows × 31 columns</p>\n",
       "</div>"
      ],
      "text/plain": [
       "   age       body_type               diet    drinks      drugs  \\\n",
       "0   22  a little extra  strictly anything  socially      never   \n",
       "1   35         average       mostly other     often  sometimes   \n",
       "2   38            thin           anything  socially        NaN   \n",
       "3   23            thin         vegetarian  socially        NaN   \n",
       "4   29        athletic                NaN  socially      never   \n",
       "\n",
       "                           education  \\\n",
       "0      working on college/university   \n",
       "1              working on space camp   \n",
       "2     graduated from masters program   \n",
       "3      working on college/university   \n",
       "4  graduated from college/university   \n",
       "\n",
       "                                              essay0  \\\n",
       "0  about me:<br />\\n<br />\\ni would love to think...   \n",
       "1  i am a chef: this is what that means.<br />\\n1...   \n",
       "2  i'm not ashamed of much, but writing public te...   \n",
       "3          i work in a library and go to school. . .   \n",
       "4  hey how's it going? currently vague on the pro...   \n",
       "\n",
       "                                              essay1  \\\n",
       "0  currently working as an international agent fo...   \n",
       "1  dedicating everyday to being an unbelievable b...   \n",
       "2  i make nerdy software for musicians, artists, ...   \n",
       "3          reading things written by old dead people   \n",
       "4                         work work work work + play   \n",
       "\n",
       "                                              essay2  \\\n",
       "0  making people laugh.<br />\\nranting about a go...   \n",
       "1  being silly. having ridiculous amonts of fun w...   \n",
       "2  improvising in different contexts. alternating...   \n",
       "3  playing synthesizers and organizing books acco...   \n",
       "4  creating imagery to look at:<br />\\nhttp://bag...   \n",
       "\n",
       "                                              essay3    ...      \\\n",
       "0  the way i look. i am a six foot half asian, ha...    ...       \n",
       "1                                                NaN    ...       \n",
       "2  my large jaw and large glasses are the physica...    ...       \n",
       "3                  socially awkward but i do my best    ...       \n",
       "4            i smile a lot and my inquisitive nature    ...       \n",
       "\n",
       "                          location  \\\n",
       "0  south san francisco, california   \n",
       "1              oakland, california   \n",
       "2        san francisco, california   \n",
       "3             berkeley, california   \n",
       "4        san francisco, california   \n",
       "\n",
       "                                      offspring orientation  \\\n",
       "0  doesn&rsquo;t have kids, but might want them    straight   \n",
       "1  doesn&rsquo;t have kids, but might want them    straight   \n",
       "2                                           NaN    straight   \n",
       "3                       doesn&rsquo;t want kids    straight   \n",
       "4                                           NaN    straight   \n",
       "\n",
       "                        pets                                  religion sex  \\\n",
       "0  likes dogs and likes cats     agnosticism and very serious about it   m   \n",
       "1  likes dogs and likes cats  agnosticism but not too serious about it   m   \n",
       "2                   has cats                                       NaN   m   \n",
       "3                 likes cats                                       NaN   m   \n",
       "4  likes dogs and likes cats                                       NaN   m   \n",
       "\n",
       "                                 sign     smokes  \\\n",
       "0                              gemini  sometimes   \n",
       "1                              cancer         no   \n",
       "2  pisces but it doesn&rsquo;t matter         no   \n",
       "3                              pisces         no   \n",
       "4                            aquarius         no   \n",
       "\n",
       "                                              speaks     status  \n",
       "0                                            english     single  \n",
       "1  english (fluently), spanish (poorly), french (...     single  \n",
       "2                               english, french, c++  available  \n",
       "3                           english, german (poorly)     single  \n",
       "4                                            english     single  \n",
       "\n",
       "[5 rows x 31 columns]"
      ]
     },
     "execution_count": 3,
     "metadata": {},
     "output_type": "execute_result"
    }
   ],
   "source": [
    "df.head()"
   ]
  },
  {
   "cell_type": "code",
   "execution_count": 4,
   "metadata": {},
   "outputs": [
    {
     "data": {
      "image/png": "[encoded data removed]",
      "text/plain": [
       "<Figure size 432x288 with 1 Axes>"
      ]
     },
     "metadata": {
      "needs_background": "light"
     },
     "output_type": "display_data"
    }
   ],
   "source": [
    "from matplotlib import pyplot as plt\n",
    "plt.hist(df.age, bins=20)\n",
    "plt.xlabel(\"Age\")\n",
    "plt.ylabel(\"Frequency\")\n",
    "plt.xlim(16, 80)\n",
    "plt.show()"
   ]
  },
  {
   "cell_type": "code",
   "execution_count": 5,
   "metadata": {},
   "outputs": [
    {
     "data": {
      "image/png": "[encoded data removed]",
      "text/plain": [
       "<Figure size 432x288 with 1 Axes>"
      ]
     },
     "metadata": {
      "needs_background": "light"
     },
     "output_type": "display_data"
    }
   ],
   "source": [
    "from matplotlib import pyplot as plt\n",
    "plt.scatter(df.age,df.income,alpha=0.1)\n",
    "plt.xlabel('Age')\n",
    "plt.ylabel('Income')\n",
    "plt.show()"
   ]
  },
  {
   "attachments": {},
   "cell_type": "markdown",
   "metadata": {},
   "source": [
    "#### Categorizing data ####\n",
    "\n",
    "Categorizing data based 3 Main categories as per slide deck\n",
    "\n",
    "1. edu_cat - Education Category\n",
    "Categorization of Education level of users\n",
    "\n",
    "2. job_cat - Job Category\n",
    "Categorization of job type based on whether it is STEM / Finance or not. (We believe STEM / Finance job type is of higher value)\n",
    "\n",
    "3. income_cat = Income Category\n",
    "Categorization of Income based on Pew Research\n",
    "(http://www.pewresearch.org/fact-tank/2018/09/06/are-you-in-the-american-middle-class)\n"
   ]
  },
  {
   "cell_type": "code",
   "execution_count": 6,
   "metadata": {},
   "outputs": [],
   "source": [
    "df['edu_cat'] = df['education'].map({ \"graduated from college/university\": 2, \"graduated from masters program\": 3, \"working on college/university\": 1, \"working on masters program\": 3, \"graduated from two-year college\": 2, \"graduated from high school\": 2, \"graduated from ph.d program\": 7, \"graduated from law school\": 5, \"working on two-year college\": 1, \"dropped out of college/university\": 2, \"working on ph.d program\": 3, \"college/university\": 1, \"graduated from space camp\": 3, \"dropped out of space camp\": 1, \"graduated from med school\": 6, \"working on space camp\": 1, \"working on law school\": 1, \"two-year college\": 1, \"working on med school\": 1, \"dropped out of two-year college\": 1, \"dropped out of masters program\": 3, \"masters program\": 4, \"dropped out of ph.d program\": 3, \"dropped out of high school\": 1, \"high school\": 1, \"working on high school\": 1, \"space camp\": 1, \"ph.d program\": 3, \"law school\": 1, \"dropped out of law school\": 1, \"dropped out of med school\": 1, \"med school\": 1 })\n",
    "df['income_cat'] = df['income'].map({ 20000: 1, 30000: 1, 40000: 1, 50000: 2, 60000: 2, 70000: 2, 80000: 2, 100000: 2, 150000: 3, 250000: 3, 500000: 3, 1000000: 3 })\n",
    "df['job_cat'] = df['job'].map({ \"other\": 2, \"student\": 1, \"science / tech / engineering\": 3, \"computer / hardware / software\": 3, \"artistic / musical / writer\": 2, \"sales / marketing / biz dev\": 2, \"medicine / health\": 3, \"education / academia\": 2, \"executive / management\": 2, \"banking / financial / real estate\": 4, \"entertainment / media\": 2, \"law / legal services\": 2, \"hospitality / travel\": 2, \"construction / craftsmanship\": 2, \"clerical / administrative\": 2, \"political / government\": 2, \"rather not say\": 2, \"transportation\": 2, \"unemployed\": 1, \"retired\": 1, \"military\": 2 })"
   ]
  },
  {
   "cell_type": "markdown",
   "metadata": {},
   "source": [
    "#### Working on selection of data ####\n",
    "\n",
    "* na_income: Entries from profiles.csv with N/A income where income = -1 - this will data we would like predict against\n",
    "* nonstemfin: Non STEM / Finance job category profiles with a valid income value\n",
    "* stem_data: STEM job category profiles with a valid income value\n",
    "* fin_data: Finance job category profiles with a valid income value\n",
    "* sel_data: Selected data (all entries from profiles.csv without N/A income) - this will be the data to train with\n"
   ]
  },
  {
   "cell_type": "code",
   "execution_count": 7,
   "metadata": {},
   "outputs": [],
   "source": [
    "na_income = df[(df.income == -1 ) ]\n",
    "nonstemfin = df[(df.income != -1) & (df.job_cat == 2)]\n",
    "stem_data = df[(df.income != -1) & (df.job_cat == 3)]\n",
    "fin_data = df[(df.income != -1) & (df.job_cat == 4)]\n",
    "sel_data = df[(df.income != -1)]"
   ]
  },
  {
   "cell_type": "code",
   "execution_count": 8,
   "metadata": {},
   "outputs": [
    {
     "name": "stdout",
     "output_type": "stream",
     "text": [
      "48442\n",
      "6854\n",
      "2781\n",
      "365\n",
      "11504\n"
     ]
    }
   ],
   "source": [
    "print(len(na_income))\n",
    "print(len(nonstemfin))\n",
    "print(len(stem_data))\n",
    "print(len(fin_data))\n",
    "print(len(sel_data))"
   ]
  },
  {
   "cell_type": "code",
   "execution_count": 9,
   "metadata": {
    "scrolled": false
   },
   "outputs": [
    {
     "data": {
      "text/plain": [
       "2.0    23986\n",
       "3.0    10456\n",
       "1.0     4242\n",
       "4.0     1901\n",
       "Name: job_cat, dtype: int64"
      ]
     },
     "execution_count": 9,
     "metadata": {},
     "output_type": "execute_result"
    }
   ],
   "source": [
    "na_income.job_cat.value_counts()"
   ]
  },
  {
   "cell_type": "markdown",
   "metadata": {},
   "source": [
    "#### Further investigation into data ####\n",
    "1. We are having a look at the Job categories of N/A income\n",
    "2. We are also having a look at the Income category for the 3-4 job categories."
   ]
  },
  {
   "cell_type": "code",
   "execution_count": 10,
   "metadata": {},
   "outputs": [
    {
     "name": "stderr",
     "output_type": "stream",
     "text": [
      "E:\\Python\\Miniconda3\\lib\\site-packages\\numpy\\lib\\histograms.py:754: RuntimeWarning: invalid value encountered in greater_equal\n",
      "  keep = (tmp_a >= first_edge)\n",
      "E:\\Python\\Miniconda3\\lib\\site-packages\\numpy\\lib\\histograms.py:755: RuntimeWarning: invalid value encountered in less_equal\n",
      "  keep &= (tmp_a <= last_edge)\n"
     ]
    },
    {
     "data": {
      "image/png": "[encoded data removed]",
      "text/plain": [
       "<Figure size 432x288 with 1 Axes>"
      ]
     },
     "metadata": {
      "needs_background": "light"
     },
     "output_type": "display_data"
    }
   ],
   "source": [
    "from matplotlib import pyplot as plt\n",
    "plt.hist(na_income.job_cat, bins= 4)\n",
    "plt.xlabel(\"Job Category - N/A Income\")\n",
    "plt.ylabel(\"Frequency\")\n",
    "plt.show()"
   ]
  },
  {
   "cell_type": "code",
   "execution_count": 11,
   "metadata": {},
   "outputs": [
    {
     "data": {
      "image/png": "[encoded data removed]",
      "text/plain": [
       "<Figure size 432x288 with 1 Axes>"
      ]
     },
     "metadata": {
      "needs_background": "light"
     },
     "output_type": "display_data"
    }
   ],
   "source": [
    "from matplotlib import pyplot as plt\n",
    "plt.hist(nonstemfin.income_cat, bins=3)\n",
    "plt.xlabel(\"Income Category - Non-STEM/finance\")\n",
    "plt.ylabel(\"Frequency\")\n",
    "plt.show()"
   ]
  },
  {
   "cell_type": "code",
   "execution_count": 12,
   "metadata": {},
   "outputs": [
    {
     "data": {
      "image/png": "[encoded data removed]",
      "text/plain": [
       "<Figure size 432x288 with 1 Axes>"
      ]
     },
     "metadata": {
      "needs_background": "light"
     },
     "output_type": "display_data"
    }
   ],
   "source": [
    "from matplotlib import pyplot as plt\n",
    "plt.hist(stem_data.income_cat, bins=3)\n",
    "plt.xlabel(\"Income Category - STEM\")\n",
    "plt.ylabel(\"Frequency\")\n",
    "plt.show()"
   ]
  },
  {
   "cell_type": "code",
   "execution_count": 13,
   "metadata": {},
   "outputs": [
    {
     "data": {
      "image/png": "[encoded data removed]",
      "text/plain": [
       "<Figure size 432x288 with 1 Axes>"
      ]
     },
     "metadata": {
      "needs_background": "light"
     },
     "output_type": "display_data"
    }
   ],
   "source": [
    "from matplotlib import pyplot as plt\n",
    "plt.hist(fin_data.income_cat, bins=3)\n",
    "plt.xlabel(\"Income Category - Finance\")\n",
    "plt.ylabel(\"Frequency\")\n",
    "plt.show()"
   ]
  },
  {
   "cell_type": "code",
   "execution_count": 14,
   "metadata": {},
   "outputs": [
    {
     "data": {
      "image/png": "[encoded data removed]",
      "text/plain": [
       "<Figure size 432x288 with 1 Axes>"
      ]
     },
     "metadata": {
      "needs_background": "light"
     },
     "output_type": "display_data"
    }
   ],
   "source": [
    "from matplotlib import pyplot as plt\n",
    "plt.hist(sel_data.income_cat, bins=3)\n",
    "plt.xlabel(\"Income Category - Select (All entries without N/A income)\")\n",
    "plt.ylabel(\"Frequency\")\n",
    "plt.show()"
   ]
  },
  {
   "cell_type": "markdown",
   "metadata": {},
   "source": [
    "#### Cleanup data ####\n"
   ]
  },
  {
   "cell_type": "code",
   "execution_count": 15,
   "metadata": {},
   "outputs": [],
   "source": [
    "rows_to_cluster_na_income = na_income.dropna(subset = [\"age\",\"education\",\"edu_cat\",\"height\",\"job\",\"job_cat\"])\n",
    "rows_to_cluster_sel_data = sel_data.dropna(subset = [\"age\",\"education\",\"edu_cat\",\"height\",\"job\",\"job_cat\",\"income\",\"income_cat\"])"
   ]
  },
  {
   "cell_type": "markdown",
   "metadata": {},
   "source": [
    "#### Exploratory Analysis ####\n",
    "\n",
    "1. We can see that our income to income categorization has a decent correlation value of around 0.596055. Hence, using the categorization as prescribed by Pews should be OK moving forward with this dataset.\n",
    "2. We can see some correlation with regards to age with income category, education category with income category, job category with income category. (with values ranging between 0.2 ~ 0.35)"
   ]
  },
  {
   "cell_type": "code",
   "execution_count": 16,
   "metadata": {},
   "outputs": [
    {
     "data": {
      "text/html": [
       "<div>\n",
       "<style scoped>\n",
       "    .dataframe tbody tr th:only-of-type {\n",
       "        vertical-align: middle;\n",
       "    }\n",
       "\n",
       "    .dataframe tbody tr th {\n",
       "        vertical-align: top;\n",
       "    }\n",
       "\n",
       "    .dataframe thead th {\n",
       "        text-align: right;\n",
       "    }\n",
       "</style>\n",
       "<table border=\"1\" class=\"dataframe\">\n",
       "  <thead>\n",
       "    <tr style=\"text-align: right;\">\n",
       "      <th></th>\n",
       "      <th>age</th>\n",
       "      <th>height</th>\n",
       "      <th>income</th>\n",
       "      <th>edu_cat</th>\n",
       "      <th>income_cat</th>\n",
       "      <th>job_cat</th>\n",
       "    </tr>\n",
       "  </thead>\n",
       "  <tbody>\n",
       "    <tr>\n",
       "      <th>age</th>\n",
       "      <td>1.000000</td>\n",
       "      <td>-0.011684</td>\n",
       "      <td>-0.009234</td>\n",
       "      <td>0.277298</td>\n",
       "      <td>0.273605</td>\n",
       "      <td>0.146247</td>\n",
       "    </tr>\n",
       "    <tr>\n",
       "      <th>height</th>\n",
       "      <td>-0.011684</td>\n",
       "      <td>1.000000</td>\n",
       "      <td>0.058829</td>\n",
       "      <td>0.014319</td>\n",
       "      <td>0.119974</td>\n",
       "      <td>0.062812</td>\n",
       "    </tr>\n",
       "    <tr>\n",
       "      <th>income</th>\n",
       "      <td>-0.009234</td>\n",
       "      <td>0.058829</td>\n",
       "      <td>1.000000</td>\n",
       "      <td>0.055115</td>\n",
       "      <td>0.596055</td>\n",
       "      <td>0.030809</td>\n",
       "    </tr>\n",
       "    <tr>\n",
       "      <th>edu_cat</th>\n",
       "      <td>0.277298</td>\n",
       "      <td>0.014319</td>\n",
       "      <td>0.055115</td>\n",
       "      <td>1.000000</td>\n",
       "      <td>0.291126</td>\n",
       "      <td>0.200783</td>\n",
       "    </tr>\n",
       "    <tr>\n",
       "      <th>income_cat</th>\n",
       "      <td>0.273605</td>\n",
       "      <td>0.119974</td>\n",
       "      <td>0.596055</td>\n",
       "      <td>0.291126</td>\n",
       "      <td>1.000000</td>\n",
       "      <td>0.317748</td>\n",
       "    </tr>\n",
       "    <tr>\n",
       "      <th>job_cat</th>\n",
       "      <td>0.146247</td>\n",
       "      <td>0.062812</td>\n",
       "      <td>0.030809</td>\n",
       "      <td>0.200783</td>\n",
       "      <td>0.317748</td>\n",
       "      <td>1.000000</td>\n",
       "    </tr>\n",
       "  </tbody>\n",
       "</table>\n",
       "</div>"
      ],
      "text/plain": [
       "                 age    height    income   edu_cat  income_cat   job_cat\n",
       "age         1.000000 -0.011684 -0.009234  0.277298    0.273605  0.146247\n",
       "height     -0.011684  1.000000  0.058829  0.014319    0.119974  0.062812\n",
       "income     -0.009234  0.058829  1.000000  0.055115    0.596055  0.030809\n",
       "edu_cat     0.277298  0.014319  0.055115  1.000000    0.291126  0.200783\n",
       "income_cat  0.273605  0.119974  0.596055  0.291126    1.000000  0.317748\n",
       "job_cat     0.146247  0.062812  0.030809  0.200783    0.317748  1.000000"
      ]
     },
     "execution_count": 16,
     "metadata": {},
     "output_type": "execute_result"
    }
   ],
   "source": [
    "sel_data.corr()"
   ]
  },
  {
   "cell_type": "markdown",
   "metadata": {},
   "source": [
    "#### Features selection for ML ####\n",
    "The following are the key features for ML\n",
    "1. age\n",
    "2. job_cat\n",
    "3. edu_cat\n",
    "4. income_cat (label)"
   ]
  },
  {
   "cell_type": "code",
   "execution_count": 17,
   "metadata": {},
   "outputs": [
    {
     "name": "stdout",
     "output_type": "stream",
     "text": [
      "37639\n"
     ]
    }
   ],
   "source": [
    "# Initialize selection\n",
    "sel_data_fs = rows_to_cluster_sel_data[['age', 'edu_cat',\"job_cat\",\"income_cat\",]]\n",
    "na_income_fs = rows_to_cluster_na_income[['age', 'edu_cat',\"job_cat\"]]\n",
    "\n",
    "# Drop NA\n",
    "sel_data_fs_dna = sel_data_fs.dropna(subset = [\"age\",\"edu_cat\",\"job_cat\",\"income_cat\"])\n",
    "na_income_fs_dna = na_income_fs.dropna(subset = [\"age\",\"edu_cat\",\"job_cat\"])\n",
    "\n",
    "# Finalize features selection / label\n",
    "sel_data_fs_ml = sel_data_fs_dna[['age', 'edu_cat','job_cat']]\n",
    "sel_data_fs_label = sel_data_fs_dna[[\"income_cat\"]]\n",
    "\n",
    "na_income_fs_ml = na_income_fs_dna\n",
    "\n",
    "print(len(rows_to_cluster_na_income))"
   ]
  },
  {
   "cell_type": "markdown",
   "metadata": {},
   "source": [
    "## KNeighborsClassifer ##"
   ]
  },
  {
   "cell_type": "code",
   "execution_count": 18,
   "metadata": {},
   "outputs": [],
   "source": [
    "from sklearn.model_selection import train_test_split\n",
    "\n",
    "#Creating Train / Test sets\n",
    "X_train, X_test, y_train, y_test = train_test_split(sel_data_fs_ml, sel_data_fs_label, test_size = 0.2, random_state = 1)\n",
    "\n",
    "#print(X_train.head())\n",
    "#print(y_train.head().values.ravel())\n",
    "\n",
    "#print(type(y_train.head()))\n",
    "#print(type(y_train.head().values.ravel()))\n",
    "\n",
    "cols = ['age', 'edu_cat','job_cat']"
   ]
  },
  {
   "cell_type": "code",
   "execution_count": 19,
   "metadata": {},
   "outputs": [
    {
     "name": "stdout",
     "output_type": "stream",
     "text": [
      "0.6361480075901328\n"
     ]
    }
   ],
   "source": [
    "# Perform classification based on KneighborsClassifier\n",
    "from sklearn.neighbors import KNeighborsClassifier\n",
    "classifier = KNeighborsClassifier(n_neighbors = 15)\n",
    "#classifier = KNeighborsClassifier(n_neighbors = 5)\n",
    "classifier.fit(X_train, y_train.values.ravel())\n",
    "\n",
    "# Score the classifier\n",
    "print(classifier.score(X_test, y_test))\n"
   ]
  },
  {
   "cell_type": "code",
   "execution_count": 20,
   "metadata": {},
   "outputs": [
    {
     "data": {
      "image/png": "[encoded data removed]",
      "text/plain": [
       "<Figure size 432x288 with 1 Axes>"
      ]
     },
     "metadata": {
      "needs_background": "light"
     },
     "output_type": "display_data"
    }
   ],
   "source": [
    "# Find optimum K value across range of 1-200\n",
    "scores = []\n",
    "for k in range(1, 200):\n",
    "    classifier_n = KNeighborsClassifier(n_neighbors = k)\n",
    "    classifier_n.fit(X_train, y_train.values.ravel())\n",
    "    scores.append(classifier_n.score(X_test, y_test))\n",
    "    \n",
    "plt.plot(range(1,200), scores)\n",
    "plt.show()"
   ]
  },
  {
   "cell_type": "markdown",
   "metadata": {},
   "source": [
    "#### Compare X Test prediction vs actual count of Y test output"
   ]
  },
  {
   "cell_type": "code",
   "execution_count": 21,
   "metadata": {},
   "outputs": [
    {
     "data": {
      "text/plain": [
       "2.0    1193\n",
       "1.0     896\n",
       "3.0      19\n",
       "Name: kn_predict_label, dtype: int64"
      ]
     },
     "execution_count": 21,
     "metadata": {},
     "output_type": "execute_result"
    }
   ],
   "source": [
    "# X Test Prediction\n",
    "\n",
    "kn_xtest_predict = classifier.predict(X_test)\n",
    "#print(type(unknown_predict))\n",
    "\n",
    "kn_xtest_predict_df = pd.DataFrame({\n",
    "    'kn_predict_label': kn_xtest_predict\n",
    "})\n",
    "\n",
    "kn_xtest_predict_df.kn_predict_label.value_counts()\n"
   ]
  },
  {
   "cell_type": "code",
   "execution_count": 22,
   "metadata": {},
   "outputs": [
    {
     "data": {
      "text/plain": [
       "2.0    949\n",
       "1.0    904\n",
       "3.0    255\n",
       "Name: income_cat, dtype: int64"
      ]
     },
     "execution_count": 22,
     "metadata": {},
     "output_type": "execute_result"
    }
   ],
   "source": [
    "# Y test output\n",
    "\n",
    "y_test.income_cat.value_counts()"
   ]
  },
  {
   "cell_type": "markdown",
   "metadata": {},
   "source": [
    "#### Perform prediction of N/A income entries to predict Income Category"
   ]
  },
  {
   "cell_type": "code",
   "execution_count": 23,
   "metadata": {},
   "outputs": [
    {
     "data": {
      "text/plain": [
       "2.0    22691\n",
       "1.0    14607\n",
       "3.0      341\n",
       "Name: kn_predict_label, dtype: int64"
      ]
     },
     "execution_count": 23,
     "metadata": {},
     "output_type": "execute_result"
    }
   ],
   "source": [
    "kn_naincome_predict = classifier.predict(na_income_fs_ml)\n",
    "\n",
    "kn_naincome_predict_df = pd.DataFrame({\n",
    "    'kn_predict_label': kn_naincome_predict\n",
    "})\n",
    "\n",
    "kn_naincome_predict_df.kn_predict_label.value_counts()"
   ]
  },
  {
   "cell_type": "code",
   "execution_count": 24,
   "metadata": {},
   "outputs": [
    {
     "data": {
      "image/png": "[encoded data removed]",
      "text/plain": [
       "<Figure size 432x288 with 1 Axes>"
      ]
     },
     "metadata": {
      "needs_background": "light"
     },
     "output_type": "display_data"
    }
   ],
   "source": [
    "from matplotlib import pyplot as plt\n",
    "plt.hist( kn_naincome_predict_df.kn_predict_label, bins=3)\n",
    "plt.xlabel(\" N/A Income - Prediction\")\n",
    "plt.ylabel(\"Frequency\")\n",
    "plt.xlim(1, 3)\n",
    "plt.show()"
   ]
  },
  {
   "cell_type": "markdown",
   "metadata": {},
   "source": [
    "## KMeans ##"
   ]
  },
  {
   "cell_type": "code",
   "execution_count": 25,
   "metadata": {},
   "outputs": [
    {
     "name": "stdout",
     "output_type": "stream",
     "text": [
      "[1 1 0 ... 1 2 2]\n",
      "<class 'numpy.ndarray'>\n",
      "9482\n",
      "<class 'pandas.core.frame.DataFrame'>\n"
     ]
    },
    {
     "data": {
      "text/plain": [
       "1    5387\n",
       "2    2941\n",
       "0    1154\n",
       "Name: kmeans_label, dtype: int64"
      ]
     },
     "execution_count": 25,
     "metadata": {},
     "output_type": "execute_result"
    }
   ],
   "source": [
    "from sklearn.cluster import KMeans\n",
    "import random\n",
    "import timeit\n",
    "from mpl_toolkits.mplot3d import Axes3D\n",
    "\n",
    "X_train, X_test, y_train, y_test = train_test_split(sel_data_fs_ml, sel_data_fs_label, test_size = 0.1, random_state = 1)\n",
    "\n",
    "kmeans_model = KMeans(n_clusters = 3)\n",
    "kmeans_model.fit(X_train)\n",
    "kmeans_label = kmeans_model.predict(X_train)\n",
    "print(kmeans_label)\n",
    "\n",
    "print(type(kmeans_label))\n",
    "print(len(kmeans_label))\n",
    "\n",
    "kmeans_label_df = pd.DataFrame({\n",
    "    'kmeans_label': kmeans_label\n",
    "})\n",
    "\n",
    "print(type(kmeans_label_df))\n",
    "kmeans_label_df.kmeans_label.value_counts()"
   ]
  },
  {
   "cell_type": "code",
   "execution_count": 26,
   "metadata": {},
   "outputs": [
    {
     "name": "stdout",
     "output_type": "stream",
     "text": [
      "<class 'numpy.ndarray'>\n",
      "                            age   edu_cat   job_cat\n",
      "kmeans_label_cluster                               \n",
      "0                     52.891681  2.518198  2.264298\n",
      "1                     25.829961  1.908298  2.117876\n",
      "2                     36.836110  2.395104  2.340360\n"
     ]
    },
    {
     "name": "stderr",
     "output_type": "stream",
     "text": [
      "E:\\Python\\Miniconda3\\lib\\site-packages\\ipykernel_launcher.py:4: SettingWithCopyWarning: \n",
      "A value is trying to be set on a copy of a slice from a DataFrame.\n",
      "Try using .loc[row_indexer,col_indexer] = value instead\n",
      "\n",
      "See the caveats in the documentation: http://pandas.pydata.org/pandas-docs/stable/indexing.html#indexing-view-versus-copy\n",
      "  after removing the cwd from sys.path.\n"
     ]
    }
   ],
   "source": [
    "kmeans_label_cluster = kmeans_model.labels_\n",
    "print(type(kmeans_label_cluster))\n",
    "\n",
    "X_train[\"kmeans_label_cluster\"] = kmeans_label_cluster\n",
    "\n",
    "#Add the column into our list\n",
    "cols.extend([\"kmeans_label_cluster\"])\n",
    "\n",
    "#Lets analyze the clusters\n",
    "print(X_train[cols].groupby(['kmeans_label_cluster']).mean())"
   ]
  },
  {
   "cell_type": "code",
   "execution_count": 27,
   "metadata": {},
   "outputs": [
    {
     "data": {
      "text/plain": [
       "1    5387\n",
       "2    2941\n",
       "0    1154\n",
       "Name: kmeans_label_cluster, dtype: int64"
      ]
     },
     "execution_count": 27,
     "metadata": {},
     "output_type": "execute_result"
    }
   ],
   "source": [
    "X_train.kmeans_label_cluster.value_counts()"
   ]
  },
  {
   "cell_type": "markdown",
   "metadata": {},
   "source": [
    "#### Investigate Cluster Members ####\n",
    "To look into the corresponding cluster members of the KMeans Cluster method"
   ]
  },
  {
   "cell_type": "code",
   "execution_count": 28,
   "metadata": {},
   "outputs": [
    {
     "name": "stdout",
     "output_type": "stream",
     "text": [
      "[1 1 0 ... 1 2 2]\n"
     ]
    }
   ],
   "source": [
    "print(kmeans_model.labels_)\n",
    "\n",
    "cluster_zero_indices = []\n",
    "cluster_one_indices = []\n",
    "cluster_two_indices = []\n",
    "\n",
    "for i in range(len(kmeans_model.labels_)):\n",
    "    if kmeans_model.labels_[i] == 0:\n",
    "        cluster_zero_indices.append(i)\n",
    "    elif kmeans_model.labels_[i] == 1:\n",
    "        cluster_one_indices.append(i)\n",
    "    elif kmeans_model.labels_[i] == 2:\n",
    "        cluster_two_indices.append(i)\n",
    "\n",
    "        "
   ]
  },
  {
   "cell_type": "markdown",
   "metadata": {},
   "source": [
    "We can see that based on total number entries of cluster zero / one / two - we conclude that\n",
    "1. cluster_zero ~ middle income\n",
    "2. cluster_one ~ low income\n",
    "3. cluster_two ~ high income\n",
    "\n",
    "We can see that based on job category \n",
    "- the amount of finance job category (4) is higher from low income (cluster_one) - to middle income ( cluster_zero ) - to high income (cluster_two)\n",
    "- We can see the inverse above the relationship mentioned above for the non finance / non STEM job category (2)"
   ]
  },
  {
   "cell_type": "code",
   "execution_count": 29,
   "metadata": {},
   "outputs": [
    {
     "name": "stdout",
     "output_type": "stream",
     "text": [
      "1154\n",
      "5387\n",
      "2941\n",
      "2.0    0.585789\n",
      "3.0    0.266898\n",
      "1.0    0.106586\n",
      "4.0    0.040728\n",
      "Name: job_cat, dtype: float64\n",
      "2.0    0.619640\n",
      "3.0    0.243735\n",
      "1.0    0.104882\n",
      "4.0    0.031743\n",
      "Name: job_cat, dtype: float64\n",
      "2.0    0.605916\n",
      "3.0    0.252295\n",
      "1.0    0.110507\n",
      "4.0    0.031282\n",
      "Name: job_cat, dtype: float64\n"
     ]
    }
   ],
   "source": [
    "cluster_zero_df = rows_to_cluster_sel_data.iloc[cluster_zero_indices]\n",
    "cluster_one_df = rows_to_cluster_sel_data.iloc[cluster_one_indices]\n",
    "cluster_two_df = rows_to_cluster_sel_data.iloc[cluster_two_indices]\n",
    "\n",
    "\n",
    "print(len(cluster_zero_df))\n",
    "print(len(cluster_one_df))\n",
    "print(len(cluster_two_df))\n",
    "\n",
    "\n",
    "print(cluster_zero_df['job_cat'].value_counts()/len(cluster_zero_df))\n",
    "print(cluster_one_df['job_cat'].value_counts()/len(cluster_one_df))\n",
    "print(cluster_two_df['job_cat'].value_counts()/len(cluster_two_df))\n"
   ]
  },
  {
   "cell_type": "code",
   "execution_count": 30,
   "metadata": {},
   "outputs": [
    {
     "name": "stdout",
     "output_type": "stream",
     "text": [
      "-17462.290382374984\n"
     ]
    }
   ],
   "source": [
    "print(kmeans_model.score(X_test,y_test))"
   ]
  },
  {
   "cell_type": "markdown",
   "metadata": {},
   "source": [
    "## Linear Regression ##"
   ]
  },
  {
   "cell_type": "code",
   "execution_count": 31,
   "metadata": {},
   "outputs": [
    {
     "data": {
      "text/plain": [
       "LinearRegression(copy_X=True, fit_intercept=True, n_jobs=None,\n",
       "         normalize=False)"
      ]
     },
     "execution_count": 31,
     "metadata": {},
     "output_type": "execute_result"
    }
   ],
   "source": [
    "from sklearn.linear_model import LinearRegression\n",
    "from sklearn.model_selection import train_test_split\n",
    "\n",
    "X_train, X_test, y_train, y_test = train_test_split(sel_data_fs_ml, sel_data_fs_label, test_size = 0.1, random_state = 1)\n",
    "\n",
    "model = LinearRegression()\n",
    "model.fit(X_train,y_train)"
   ]
  },
  {
   "cell_type": "code",
   "execution_count": 32,
   "metadata": {},
   "outputs": [
    {
     "data": {
      "text/plain": [
       "0.19445079026081247"
      ]
     },
     "execution_count": 32,
     "metadata": {},
     "output_type": "execute_result"
    }
   ],
   "source": [
    "model.score(X_train,y_train)"
   ]
  },
  {
   "cell_type": "code",
   "execution_count": 33,
   "metadata": {},
   "outputs": [
    {
     "data": {
      "text/plain": [
       "0.1506756585454163"
      ]
     },
     "execution_count": 33,
     "metadata": {},
     "output_type": "execute_result"
    }
   ],
   "source": [
    "model.score(X_test,y_test)"
   ]
  },
  {
   "cell_type": "markdown",
   "metadata": {},
   "source": [
    "#### Linear Regression - Observation ####\n",
    "Based on the test values - we compare the Income Category vs Predicted Income Category - we have the following observations\n",
    "1. Low Income category predictions have about half of the entries in the Middle Income Category\n",
    "2. Middle Income category prediction is scattered quite accurately in a 0.5 range around the value of 2 (Middle income Category)\n",
    "3. There is zero accuracy for High income category prediction."
   ]
  },
  {
   "cell_type": "code",
   "execution_count": 34,
   "metadata": {},
   "outputs": [
    {
     "data": {
      "image/png": "[encoded data removed]",
      "text/plain": [
       "<Figure size 432x288 with 1 Axes>"
      ]
     },
     "metadata": {
      "needs_background": "light"
     },
     "output_type": "display_data"
    }
   ],
   "source": [
    "y_predict_lr = model.predict(X_test)\n",
    "\n",
    "plt.scatter(y_test,y_predict_lr, alpha = 0.1)\n",
    "plt.title(\"Linear Regression - Predict Income Category\")\n",
    "plt.xlabel('Income Category label')\n",
    "plt.ylabel('Predicted Income Category ')\n",
    "plt.ylim(1,4)\n",
    "plt.show()"
   ]
  },
  {
   "cell_type": "code",
   "execution_count": 35,
   "metadata": {},
   "outputs": [
    {
     "name": "stdout",
     "output_type": "stream",
     "text": [
      "[[0.01321681 0.1166446  0.26001852]]\n"
     ]
    }
   ],
   "source": [
    "print( model.coef_ )"
   ]
  },
  {
   "cell_type": "markdown",
   "metadata": {},
   "source": [
    "#### Linear Regression - N/A Income data ####"
   ]
  },
  {
   "cell_type": "code",
   "execution_count": 36,
   "metadata": {},
   "outputs": [
    {
     "data": {
      "image/png": "[encoded data removed]",
      "text/plain": [
       "<Figure size 432x288 with 1 Axes>"
      ]
     },
     "metadata": {
      "needs_background": "light"
     },
     "output_type": "display_data"
    }
   ],
   "source": [
    "na_income_predict_lr = model.predict(na_income_fs_ml)\n",
    "\n",
    "from matplotlib import pyplot as plt\n",
    "plt.hist( na_income_predict_lr, bins=3)\n",
    "plt.title(\"Linear Regression - N/A Income Category prediction\")\n",
    "plt.xlabel(\" N/A Income - Prediction\")\n",
    "plt.ylabel(\"Frequency\")\n",
    "plt.xlim(0, 4)\n",
    "plt.show()\n"
   ]
  },
  {
   "cell_type": "code",
   "execution_count": 37,
   "metadata": {},
   "outputs": [],
   "source": [
    "## K-NEAREST NEIGHBOR REGRESSOR ##"
   ]
  },
  {
   "cell_type": "code",
   "execution_count": 38,
   "metadata": {},
   "outputs": [
    {
     "data": {
      "text/plain": [
       "KNeighborsRegressor(algorithm='auto', leaf_size=30, metric='minkowski',\n",
       "          metric_params=None, n_jobs=None, n_neighbors=25, p=2,\n",
       "          weights='distance')"
      ]
     },
     "execution_count": 38,
     "metadata": {},
     "output_type": "execute_result"
    }
   ],
   "source": [
    "from sklearn.neighbors import KNeighborsRegressor\n",
    "\n",
    "regressor = KNeighborsRegressor( n_neighbors = 25, weights = \"distance\")\n",
    "regressor.fit( X_train,y_train)\n"
   ]
  },
  {
   "cell_type": "markdown",
   "metadata": {},
   "source": [
    "#### K-Nearest Neighbors Regressor - Observation ####\n",
    "Based on the test values - we compare the Income Category vs Predicted Income Category - we have the following observations\n",
    "1. Low Income category predictions have more than half of the entries in the Middle Income Category\n",
    "2. Middle Income category prediction is scattered quite accurately in a 0.5 range around the value of 2 (Middle income Category)\n",
    "3. There is some entries with High income category prediction - but accuracy is low"
   ]
  },
  {
   "cell_type": "code",
   "execution_count": 39,
   "metadata": {},
   "outputs": [
    {
     "data": {
      "image/png": "[encoded data removed]",
      "text/plain": [
       "<Figure size 432x288 with 1 Axes>"
      ]
     },
     "metadata": {
      "needs_background": "light"
     },
     "output_type": "display_data"
    }
   ],
   "source": [
    "y_predict_knr = regressor.predict( X_test)\n",
    "\n",
    "plt.scatter(y_test,y_predict_knr, alpha = 0.1)\n",
    "plt.title(\"K-Nearest Neighbors Regressor - Predict Income Category\")\n",
    "plt.xlabel('Income Category label')\n",
    "plt.ylabel('Predicted Income Category ')\n",
    "plt.show()"
   ]
  },
  {
   "cell_type": "markdown",
   "metadata": {},
   "source": [
    "#### K-Nearest Neighbors Regressor - N/A Income data ####"
   ]
  },
  {
   "cell_type": "code",
   "execution_count": 40,
   "metadata": {},
   "outputs": [
    {
     "data": {
      "image/png": "[encoded data removed]",
      "text/plain": [
       "<Figure size 432x288 with 1 Axes>"
      ]
     },
     "metadata": {
      "needs_background": "light"
     },
     "output_type": "display_data"
    }
   ],
   "source": [
    "na_income_predict_knr = model.predict(na_income_fs_ml)\n",
    "\n",
    "from matplotlib import pyplot as plt\n",
    "plt.hist( na_income_predict_knr, bins=3)\n",
    "plt.title(\"K-Nearest Neighbors Regressor - N/A Income Category prediction\")\n",
    "plt.xlabel(\" N/A Income - Prediction\")\n",
    "plt.ylabel(\"Frequency\")\n",
    "plt.xlim(0, 4)\n",
    "plt.show()\n"
   ]
  }
 ],
 "metadata": {
  "kernelspec": {
   "display_name": "Python 3",
   "language": "python",
   "name": "python3"
  },
  "language_info": {
   "codemirror_mode": {
    "name": "ipython",
    "version": 3
   },
   "file_extension": ".py",
   "mimetype": "text/x-python",
   "name": "python",
   "nbconvert_exporter": "python",
   "pygments_lexer": "ipython3",
   "version": "3.7.0"
  }
 },
 "nbformat": 4,
 "nbformat_minor": 2
}
